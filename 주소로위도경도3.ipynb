{
 "cells": [
  {
   "cell_type": "code",
   "execution_count": 128,
   "id": "0b07345b",
   "metadata": {},
   "outputs": [],
   "source": [
    "import pandas as pd"
   ]
  },
  {
   "cell_type": "code",
   "execution_count": 129,
   "id": "90a5b00d",
   "metadata": {},
   "outputs": [],
   "source": [
    "data = pd.read_excel('data/아파트(매매)_실거래가_20220721131644.xlsx')"
   ]
  },
  {
   "cell_type": "code",
   "execution_count": 130,
   "id": "7ae7c45f",
   "metadata": {
    "scrolled": false
   },
   "outputs": [
    {
     "data": {
      "text/html": [
       "<div>\n",
       "<style scoped>\n",
       "    .dataframe tbody tr th:only-of-type {\n",
       "        vertical-align: middle;\n",
       "    }\n",
       "\n",
       "    .dataframe tbody tr th {\n",
       "        vertical-align: top;\n",
       "    }\n",
       "\n",
       "    .dataframe thead th {\n",
       "        text-align: right;\n",
       "    }\n",
       "</style>\n",
       "<table border=\"1\" class=\"dataframe\">\n",
       "  <thead>\n",
       "    <tr style=\"text-align: right;\">\n",
       "      <th></th>\n",
       "      <th>시군구</th>\n",
       "      <th>단지명</th>\n",
       "      <th>전용면적(㎡)</th>\n",
       "      <th>계약년월</th>\n",
       "      <th>계약일</th>\n",
       "      <th>거래금액(만원)</th>\n",
       "      <th>층</th>\n",
       "      <th>건축년도</th>\n",
       "      <th>도로명</th>\n",
       "    </tr>\n",
       "  </thead>\n",
       "  <tbody>\n",
       "    <tr>\n",
       "      <th>0</th>\n",
       "      <td>서울특별시 강남구 개포동</td>\n",
       "      <td>개포6차우성아파트1동~8동</td>\n",
       "      <td>79.97</td>\n",
       "      <td>202108</td>\n",
       "      <td>11</td>\n",
       "      <td>200,000</td>\n",
       "      <td>3</td>\n",
       "      <td>1987</td>\n",
       "      <td>언주로 3</td>\n",
       "    </tr>\n",
       "    <tr>\n",
       "      <th>1</th>\n",
       "      <td>서울특별시 강남구 개포동</td>\n",
       "      <td>개포6차우성아파트1동~8동</td>\n",
       "      <td>79.97</td>\n",
       "      <td>202109</td>\n",
       "      <td>2</td>\n",
       "      <td>220,000</td>\n",
       "      <td>2</td>\n",
       "      <td>1987</td>\n",
       "      <td>언주로 3</td>\n",
       "    </tr>\n",
       "    <tr>\n",
       "      <th>2</th>\n",
       "      <td>서울특별시 강남구 개포동</td>\n",
       "      <td>개포6차우성아파트1동~8동</td>\n",
       "      <td>79.97</td>\n",
       "      <td>202112</td>\n",
       "      <td>4</td>\n",
       "      <td>215,000</td>\n",
       "      <td>3</td>\n",
       "      <td>1987</td>\n",
       "      <td>언주로 3</td>\n",
       "    </tr>\n",
       "    <tr>\n",
       "      <th>3</th>\n",
       "      <td>서울특별시 강남구 개포동</td>\n",
       "      <td>개포6차우성아파트1동~8동</td>\n",
       "      <td>79.97</td>\n",
       "      <td>202204</td>\n",
       "      <td>12</td>\n",
       "      <td>220,000</td>\n",
       "      <td>4</td>\n",
       "      <td>1987</td>\n",
       "      <td>언주로 3</td>\n",
       "    </tr>\n",
       "    <tr>\n",
       "      <th>4</th>\n",
       "      <td>서울특별시 강남구 개포동</td>\n",
       "      <td>개포6차우성아파트1동~8동</td>\n",
       "      <td>79.97</td>\n",
       "      <td>202204</td>\n",
       "      <td>21</td>\n",
       "      <td>220,000</td>\n",
       "      <td>2</td>\n",
       "      <td>1987</td>\n",
       "      <td>언주로 3</td>\n",
       "    </tr>\n",
       "  </tbody>\n",
       "</table>\n",
       "</div>"
      ],
      "text/plain": [
       "             시군구             단지명  전용면적(㎡)    계약년월  계약일        거래금액(만원)  층  \\\n",
       "0  서울특별시 강남구 개포동  개포6차우성아파트1동~8동    79.97  202108   11         200,000  3   \n",
       "1  서울특별시 강남구 개포동  개포6차우성아파트1동~8동    79.97  202109    2         220,000  2   \n",
       "2  서울특별시 강남구 개포동  개포6차우성아파트1동~8동    79.97  202112    4         215,000  3   \n",
       "3  서울특별시 강남구 개포동  개포6차우성아파트1동~8동    79.97  202204   12         220,000  4   \n",
       "4  서울특별시 강남구 개포동  개포6차우성아파트1동~8동    79.97  202204   21         220,000  2   \n",
       "\n",
       "   건축년도    도로명  \n",
       "0  1987  언주로 3  \n",
       "1  1987  언주로 3  \n",
       "2  1987  언주로 3  \n",
       "3  1987  언주로 3  \n",
       "4  1987  언주로 3  "
      ]
     },
     "execution_count": 130,
     "metadata": {},
     "output_type": "execute_result"
    }
   ],
   "source": [
    "data.drop(['번지', '본번', '부번', '해제사유발생일', '거래유형', '중개사소재지'], axis=1, inplace=True)\n",
    "data.head()"
   ]
  },
  {
   "cell_type": "code",
   "execution_count": 131,
   "id": "ef7fefa9",
   "metadata": {
    "scrolled": false
   },
   "outputs": [
    {
     "name": "stderr",
     "output_type": "stream",
     "text": [
      "C:\\Users\\medici\\AppData\\Local\\Temp/ipykernel_3748/1700582658.py:4: SettingWithCopyWarning: \n",
      "A value is trying to be set on a copy of a slice from a DataFrame\n",
      "\n",
      "See the caveats in the documentation: https://pandas.pydata.org/pandas-docs/stable/user_guide/indexing.html#returning-a-view-versus-a-copy\n",
      "  address[i] = \" \".join(a[0:2])\n"
     ]
    }
   ],
   "source": [
    "address = data['시군구']\n",
    "for i in range(len(address)):\n",
    "    a = address[i].split(' ')\n",
    "    address[i] = \" \".join(a[0:2])"
   ]
  },
  {
   "cell_type": "code",
   "execution_count": 132,
   "id": "e44cbb71",
   "metadata": {
    "scrolled": false
   },
   "outputs": [
    {
     "data": {
      "text/plain": [
       "0    서울특별시 강남구\n",
       "1    서울특별시 강남구\n",
       "2    서울특별시 강남구\n",
       "3    서울특별시 강남구\n",
       "4    서울특별시 강남구\n",
       "Name: 시군구, dtype: object"
      ]
     },
     "execution_count": 132,
     "metadata": {},
     "output_type": "execute_result"
    }
   ],
   "source": [
    "address.head()"
   ]
  },
  {
   "cell_type": "code",
   "execution_count": 133,
   "id": "dd8f2caf",
   "metadata": {},
   "outputs": [],
   "source": [
    "data['도로명주소'] = address + ' ' + data['도로명']"
   ]
  },
  {
   "cell_type": "code",
   "execution_count": 134,
   "id": "f700198c",
   "metadata": {},
   "outputs": [
    {
     "data": {
      "text/html": [
       "<div>\n",
       "<style scoped>\n",
       "    .dataframe tbody tr th:only-of-type {\n",
       "        vertical-align: middle;\n",
       "    }\n",
       "\n",
       "    .dataframe tbody tr th {\n",
       "        vertical-align: top;\n",
       "    }\n",
       "\n",
       "    .dataframe thead th {\n",
       "        text-align: right;\n",
       "    }\n",
       "</style>\n",
       "<table border=\"1\" class=\"dataframe\">\n",
       "  <thead>\n",
       "    <tr style=\"text-align: right;\">\n",
       "      <th></th>\n",
       "      <th>시군구</th>\n",
       "      <th>단지명</th>\n",
       "      <th>전용면적(㎡)</th>\n",
       "      <th>계약년월</th>\n",
       "      <th>계약일</th>\n",
       "      <th>거래금액(만원)</th>\n",
       "      <th>층</th>\n",
       "      <th>건축년도</th>\n",
       "      <th>도로명</th>\n",
       "      <th>도로명주소</th>\n",
       "    </tr>\n",
       "  </thead>\n",
       "  <tbody>\n",
       "    <tr>\n",
       "      <th>0</th>\n",
       "      <td>서울특별시 강남구</td>\n",
       "      <td>개포6차우성아파트1동~8동</td>\n",
       "      <td>79.97</td>\n",
       "      <td>202108</td>\n",
       "      <td>11</td>\n",
       "      <td>200,000</td>\n",
       "      <td>3</td>\n",
       "      <td>1987</td>\n",
       "      <td>언주로 3</td>\n",
       "      <td>서울특별시 강남구 언주로 3</td>\n",
       "    </tr>\n",
       "    <tr>\n",
       "      <th>1</th>\n",
       "      <td>서울특별시 강남구</td>\n",
       "      <td>개포6차우성아파트1동~8동</td>\n",
       "      <td>79.97</td>\n",
       "      <td>202109</td>\n",
       "      <td>2</td>\n",
       "      <td>220,000</td>\n",
       "      <td>2</td>\n",
       "      <td>1987</td>\n",
       "      <td>언주로 3</td>\n",
       "      <td>서울특별시 강남구 언주로 3</td>\n",
       "    </tr>\n",
       "    <tr>\n",
       "      <th>2</th>\n",
       "      <td>서울특별시 강남구</td>\n",
       "      <td>개포6차우성아파트1동~8동</td>\n",
       "      <td>79.97</td>\n",
       "      <td>202112</td>\n",
       "      <td>4</td>\n",
       "      <td>215,000</td>\n",
       "      <td>3</td>\n",
       "      <td>1987</td>\n",
       "      <td>언주로 3</td>\n",
       "      <td>서울특별시 강남구 언주로 3</td>\n",
       "    </tr>\n",
       "    <tr>\n",
       "      <th>3</th>\n",
       "      <td>서울특별시 강남구</td>\n",
       "      <td>개포6차우성아파트1동~8동</td>\n",
       "      <td>79.97</td>\n",
       "      <td>202204</td>\n",
       "      <td>12</td>\n",
       "      <td>220,000</td>\n",
       "      <td>4</td>\n",
       "      <td>1987</td>\n",
       "      <td>언주로 3</td>\n",
       "      <td>서울특별시 강남구 언주로 3</td>\n",
       "    </tr>\n",
       "    <tr>\n",
       "      <th>4</th>\n",
       "      <td>서울특별시 강남구</td>\n",
       "      <td>개포6차우성아파트1동~8동</td>\n",
       "      <td>79.97</td>\n",
       "      <td>202204</td>\n",
       "      <td>21</td>\n",
       "      <td>220,000</td>\n",
       "      <td>2</td>\n",
       "      <td>1987</td>\n",
       "      <td>언주로 3</td>\n",
       "      <td>서울특별시 강남구 언주로 3</td>\n",
       "    </tr>\n",
       "  </tbody>\n",
       "</table>\n",
       "</div>"
      ],
      "text/plain": [
       "         시군구             단지명  전용면적(㎡)    계약년월  계약일        거래금액(만원)  층  건축년도  \\\n",
       "0  서울특별시 강남구  개포6차우성아파트1동~8동    79.97  202108   11         200,000  3  1987   \n",
       "1  서울특별시 강남구  개포6차우성아파트1동~8동    79.97  202109    2         220,000  2  1987   \n",
       "2  서울특별시 강남구  개포6차우성아파트1동~8동    79.97  202112    4         215,000  3  1987   \n",
       "3  서울특별시 강남구  개포6차우성아파트1동~8동    79.97  202204   12         220,000  4  1987   \n",
       "4  서울특별시 강남구  개포6차우성아파트1동~8동    79.97  202204   21         220,000  2  1987   \n",
       "\n",
       "     도로명            도로명주소  \n",
       "0  언주로 3  서울특별시 강남구 언주로 3  \n",
       "1  언주로 3  서울특별시 강남구 언주로 3  \n",
       "2  언주로 3  서울특별시 강남구 언주로 3  \n",
       "3  언주로 3  서울특별시 강남구 언주로 3  \n",
       "4  언주로 3  서울특별시 강남구 언주로 3  "
      ]
     },
     "execution_count": 134,
     "metadata": {},
     "output_type": "execute_result"
    }
   ],
   "source": [
    "data.head()"
   ]
  },
  {
   "cell_type": "code",
   "execution_count": 135,
   "id": "256fff30",
   "metadata": {
    "scrolled": true
   },
   "outputs": [
    {
     "name": "stderr",
     "output_type": "stream",
     "text": [
      "C:\\Users\\medici\\AppData\\Local\\Temp/ipykernel_3748/1334034492.py:4: SettingWithCopyWarning: \n",
      "A value is trying to be set on a copy of a slice from a DataFrame\n",
      "\n",
      "See the caveats in the documentation: https://pandas.pydata.org/pandas-docs/stable/user_guide/indexing.html#returning-a-view-versus-a-copy\n",
      "  address[i] = \" \".join(a[0:4])\n"
     ]
    }
   ],
   "source": [
    "address = data['도로명주소']\n",
    "for i in range(len(address)):\n",
    "    a = address[i].split(' ')\n",
    "    address[i] = \" \".join(a[0:4])"
   ]
  },
  {
   "cell_type": "code",
   "execution_count": 136,
   "id": "caf979ac",
   "metadata": {},
   "outputs": [],
   "source": [
    "from geopy.geocoders import Nominatim\n",
    "geo_local = Nominatim(user_agent='South Korea')"
   ]
  },
  {
   "cell_type": "code",
   "execution_count": 137,
   "id": "43ac6dcf",
   "metadata": {},
   "outputs": [],
   "source": [
    "# 위도, 경도 반환하는 함수\n",
    "def geocoding(address):\n",
    "    geo = geo_local.geocode(address)\n",
    "    x_y = [geo.latitude, geo.longitude]\n",
    "    return x_y"
   ]
  },
  {
   "cell_type": "code",
   "execution_count": 138,
   "id": "7e476f33",
   "metadata": {},
   "outputs": [],
   "source": [
    "data.to_excel('data/아파트(매매)_실거래가.xlsx')"
   ]
  },
  {
   "cell_type": "code",
   "execution_count": null,
   "id": "f71409de",
   "metadata": {},
   "outputs": [],
   "source": [
    "latitude = []\n",
    "longitude =[]\n",
    "exception_addr = []\n",
    "cnt = 0\n",
    "\n",
    "for i in address:\n",
    "    try:\n",
    "        latitude.append(geocoding(i)[0])\n",
    "        longitude.append(geocoding(i)[1])\n",
    "    except:\n",
    "        exception_addr.append(i)"
   ]
  },
  {
   "cell_type": "code",
   "execution_count": 127,
   "id": "8290b104",
   "metadata": {},
   "outputs": [
    {
     "data": {
      "text/plain": [
       "['서울특별시 강남구 학동로105길 30', '서울특별시 강남구 학동로105길 30', '서울특별시 강남구 학동로105길 30']"
      ]
     },
     "execution_count": 127,
     "metadata": {},
     "output_type": "execute_result"
    }
   ],
   "source": [
    "exception_addr"
   ]
  },
  {
   "cell_type": "code",
   "execution_count": 69,
   "id": "62688428",
   "metadata": {},
   "outputs": [
    {
     "name": "stdout",
     "output_type": "stream",
     "text": [
      "None\n"
     ]
    }
   ],
   "source": [
    "adr = pd.DataFrame(['서울특별시 강남구 언주로 3'])\n",
    "adr = adr[0]\n",
    "adr\n",
    "xy = geo_local.geocode(adr)\n",
    "print(xy)"
   ]
  },
  {
   "cell_type": "code",
   "execution_count": 17,
   "id": "1586ada9",
   "metadata": {},
   "outputs": [
    {
     "data": {
      "text/plain": [
       "(5, 5)"
      ]
     },
     "execution_count": 17,
     "metadata": {},
     "output_type": "execute_result"
    }
   ],
   "source": [
    "len(latitude), len(longitude)"
   ]
  },
  {
   "cell_type": "code",
   "execution_count": 23,
   "id": "f69615ad",
   "metadata": {},
   "outputs": [
    {
     "data": {
      "text/html": [
       "<div>\n",
       "<style scoped>\n",
       "    .dataframe tbody tr th:only-of-type {\n",
       "        vertical-align: middle;\n",
       "    }\n",
       "\n",
       "    .dataframe tbody tr th {\n",
       "        vertical-align: top;\n",
       "    }\n",
       "\n",
       "    .dataframe thead th {\n",
       "        text-align: right;\n",
       "    }\n",
       "</style>\n",
       "<table border=\"1\" class=\"dataframe\">\n",
       "  <thead>\n",
       "    <tr style=\"text-align: right;\">\n",
       "      <th></th>\n",
       "      <th>시군구</th>\n",
       "      <th>단지명</th>\n",
       "      <th>전용면적(㎡)</th>\n",
       "      <th>계약년월</th>\n",
       "      <th>계약일</th>\n",
       "      <th>거래금액(만원)</th>\n",
       "      <th>층</th>\n",
       "      <th>건축년도</th>\n",
       "      <th>도로명</th>\n",
       "      <th>도로명주소</th>\n",
       "      <th>위도</th>\n",
       "      <th>경도</th>\n",
       "    </tr>\n",
       "  </thead>\n",
       "  <tbody>\n",
       "    <tr>\n",
       "      <th>0</th>\n",
       "      <td>서울특별시 강남구</td>\n",
       "      <td>개포6차우성아파트1동~8동</td>\n",
       "      <td>79.97</td>\n",
       "      <td>202108</td>\n",
       "      <td>11</td>\n",
       "      <td>200,000</td>\n",
       "      <td>3</td>\n",
       "      <td>1987</td>\n",
       "      <td>언주로 3</td>\n",
       "      <td>서울특별시 강남구 언주로 3</td>\n",
       "      <td>37.483372</td>\n",
       "      <td>127.053437</td>\n",
       "    </tr>\n",
       "    <tr>\n",
       "      <th>1</th>\n",
       "      <td>서울특별시 강남구</td>\n",
       "      <td>개포6차우성아파트1동~8동</td>\n",
       "      <td>79.97</td>\n",
       "      <td>202109</td>\n",
       "      <td>2</td>\n",
       "      <td>220,000</td>\n",
       "      <td>2</td>\n",
       "      <td>1987</td>\n",
       "      <td>언주로 3</td>\n",
       "      <td>서울특별시 강남구 언주로 3</td>\n",
       "      <td>37.483372</td>\n",
       "      <td>127.053437</td>\n",
       "    </tr>\n",
       "    <tr>\n",
       "      <th>2</th>\n",
       "      <td>서울특별시 강남구</td>\n",
       "      <td>개포6차우성아파트1동~8동</td>\n",
       "      <td>79.97</td>\n",
       "      <td>202112</td>\n",
       "      <td>4</td>\n",
       "      <td>215,000</td>\n",
       "      <td>3</td>\n",
       "      <td>1987</td>\n",
       "      <td>언주로 3</td>\n",
       "      <td>서울특별시 강남구 언주로 3</td>\n",
       "      <td>37.483372</td>\n",
       "      <td>127.053437</td>\n",
       "    </tr>\n",
       "    <tr>\n",
       "      <th>3</th>\n",
       "      <td>서울특별시 강남구</td>\n",
       "      <td>개포6차우성아파트1동~8동</td>\n",
       "      <td>79.97</td>\n",
       "      <td>202204</td>\n",
       "      <td>12</td>\n",
       "      <td>220,000</td>\n",
       "      <td>4</td>\n",
       "      <td>1987</td>\n",
       "      <td>언주로 3</td>\n",
       "      <td>서울특별시 강남구 언주로 3</td>\n",
       "      <td>37.483372</td>\n",
       "      <td>127.053437</td>\n",
       "    </tr>\n",
       "    <tr>\n",
       "      <th>4</th>\n",
       "      <td>서울특별시 강남구</td>\n",
       "      <td>개포6차우성아파트1동~8동</td>\n",
       "      <td>79.97</td>\n",
       "      <td>202204</td>\n",
       "      <td>21</td>\n",
       "      <td>220,000</td>\n",
       "      <td>2</td>\n",
       "      <td>1987</td>\n",
       "      <td>언주로 3</td>\n",
       "      <td>서울특별시 강남구 언주로 3</td>\n",
       "      <td>37.483372</td>\n",
       "      <td>127.053437</td>\n",
       "    </tr>\n",
       "  </tbody>\n",
       "</table>\n",
       "</div>"
      ],
      "text/plain": [
       "         시군구             단지명  전용면적(㎡)    계약년월  계약일        거래금액(만원)  층  건축년도  \\\n",
       "0  서울특별시 강남구  개포6차우성아파트1동~8동    79.97  202108   11         200,000  3  1987   \n",
       "1  서울특별시 강남구  개포6차우성아파트1동~8동    79.97  202109    2         220,000  2  1987   \n",
       "2  서울특별시 강남구  개포6차우성아파트1동~8동    79.97  202112    4         215,000  3  1987   \n",
       "3  서울특별시 강남구  개포6차우성아파트1동~8동    79.97  202204   12         220,000  4  1987   \n",
       "4  서울특별시 강남구  개포6차우성아파트1동~8동    79.97  202204   21         220,000  2  1987   \n",
       "\n",
       "     도로명            도로명주소         위도          경도  \n",
       "0  언주로 3  서울특별시 강남구 언주로 3  37.483372  127.053437  \n",
       "1  언주로 3  서울특별시 강남구 언주로 3  37.483372  127.053437  \n",
       "2  언주로 3  서울특별시 강남구 언주로 3  37.483372  127.053437  \n",
       "3  언주로 3  서울특별시 강남구 언주로 3  37.483372  127.053437  \n",
       "4  언주로 3  서울특별시 강남구 언주로 3  37.483372  127.053437  "
      ]
     },
     "execution_count": 23,
     "metadata": {},
     "output_type": "execute_result"
    }
   ],
   "source": [
    "address_df = pd.DataFrame({'위도':latitude, '경도':longitude})\n",
    "addr = pd.concat([data, address_df], axis=1)\n",
    "addr = addr[0:5]\n",
    "addr"
   ]
  },
  {
   "cell_type": "code",
   "execution_count": 13,
   "id": "65164ed4",
   "metadata": {
    "scrolled": true
   },
   "outputs": [
    {
     "data": {
      "text/html": [
       "<div>\n",
       "<style scoped>\n",
       "    .dataframe tbody tr th:only-of-type {\n",
       "        vertical-align: middle;\n",
       "    }\n",
       "\n",
       "    .dataframe tbody tr th {\n",
       "        vertical-align: top;\n",
       "    }\n",
       "\n",
       "    .dataframe thead th {\n",
       "        text-align: right;\n",
       "    }\n",
       "</style>\n",
       "<table border=\"1\" class=\"dataframe\">\n",
       "  <thead>\n",
       "    <tr style=\"text-align: right;\">\n",
       "      <th></th>\n",
       "      <th>연번</th>\n",
       "      <th>호선</th>\n",
       "      <th>역번호</th>\n",
       "      <th>역명</th>\n",
       "      <th>위도</th>\n",
       "      <th>경도</th>\n",
       "      <th>데이터기준일자</th>\n",
       "    </tr>\n",
       "  </thead>\n",
       "  <tbody>\n",
       "    <tr>\n",
       "      <th>0</th>\n",
       "      <td>1</td>\n",
       "      <td>1</td>\n",
       "      <td>150</td>\n",
       "      <td>서울</td>\n",
       "      <td>37.553150</td>\n",
       "      <td>126.972533</td>\n",
       "      <td>1974-02-28</td>\n",
       "    </tr>\n",
       "    <tr>\n",
       "      <th>1</th>\n",
       "      <td>2</td>\n",
       "      <td>1</td>\n",
       "      <td>151</td>\n",
       "      <td>시청</td>\n",
       "      <td>37.563590</td>\n",
       "      <td>126.975407</td>\n",
       "      <td>1974-08-15</td>\n",
       "    </tr>\n",
       "    <tr>\n",
       "      <th>2</th>\n",
       "      <td>3</td>\n",
       "      <td>1</td>\n",
       "      <td>152</td>\n",
       "      <td>종각</td>\n",
       "      <td>37.570203</td>\n",
       "      <td>126.983116</td>\n",
       "      <td>1974-08-15</td>\n",
       "    </tr>\n",
       "    <tr>\n",
       "      <th>3</th>\n",
       "      <td>4</td>\n",
       "      <td>1</td>\n",
       "      <td>153</td>\n",
       "      <td>종로3가</td>\n",
       "      <td>37.570429</td>\n",
       "      <td>126.992095</td>\n",
       "      <td>1974-08-15</td>\n",
       "    </tr>\n",
       "    <tr>\n",
       "      <th>4</th>\n",
       "      <td>5</td>\n",
       "      <td>1</td>\n",
       "      <td>154</td>\n",
       "      <td>종로5가</td>\n",
       "      <td>37.570971</td>\n",
       "      <td>127.001900</td>\n",
       "      <td>1974-03-31</td>\n",
       "    </tr>\n",
       "    <tr>\n",
       "      <th>...</th>\n",
       "      <td>...</td>\n",
       "      <td>...</td>\n",
       "      <td>...</td>\n",
       "      <td>...</td>\n",
       "      <td>...</td>\n",
       "      <td>...</td>\n",
       "      <td>...</td>\n",
       "    </tr>\n",
       "    <tr>\n",
       "      <th>271</th>\n",
       "      <td>272</td>\n",
       "      <td>8</td>\n",
       "      <td>2823</td>\n",
       "      <td>남한산성입구</td>\n",
       "      <td>37.451568</td>\n",
       "      <td>127.159845</td>\n",
       "      <td>1996-10-31</td>\n",
       "    </tr>\n",
       "    <tr>\n",
       "      <th>272</th>\n",
       "      <td>273</td>\n",
       "      <td>8</td>\n",
       "      <td>2824</td>\n",
       "      <td>단대오거리</td>\n",
       "      <td>37.445057</td>\n",
       "      <td>127.156735</td>\n",
       "      <td>1996-12-28</td>\n",
       "    </tr>\n",
       "    <tr>\n",
       "      <th>273</th>\n",
       "      <td>274</td>\n",
       "      <td>8</td>\n",
       "      <td>2825</td>\n",
       "      <td>신흥</td>\n",
       "      <td>37.440952</td>\n",
       "      <td>127.147590</td>\n",
       "      <td>1996-12-28</td>\n",
       "    </tr>\n",
       "    <tr>\n",
       "      <th>274</th>\n",
       "      <td>275</td>\n",
       "      <td>8</td>\n",
       "      <td>2826</td>\n",
       "      <td>수진</td>\n",
       "      <td>37.437575</td>\n",
       "      <td>127.140936</td>\n",
       "      <td>1996-12-28</td>\n",
       "    </tr>\n",
       "    <tr>\n",
       "      <th>275</th>\n",
       "      <td>276</td>\n",
       "      <td>8</td>\n",
       "      <td>2827</td>\n",
       "      <td>모란</td>\n",
       "      <td>37.433888</td>\n",
       "      <td>127.129921</td>\n",
       "      <td>1996-11-30</td>\n",
       "    </tr>\n",
       "  </tbody>\n",
       "</table>\n",
       "<p>276 rows × 7 columns</p>\n",
       "</div>"
      ],
      "text/plain": [
       "      연번  호선   역번호      역명         위도          경도     데이터기준일자\n",
       "0      1   1   150      서울  37.553150  126.972533  1974-02-28\n",
       "1      2   1   151      시청  37.563590  126.975407  1974-08-15\n",
       "2      3   1   152      종각  37.570203  126.983116  1974-08-15\n",
       "3      4   1   153    종로3가  37.570429  126.992095  1974-08-15\n",
       "4      5   1   154    종로5가  37.570971  127.001900  1974-03-31\n",
       "..   ...  ..   ...     ...        ...         ...         ...\n",
       "271  272   8  2823  남한산성입구  37.451568  127.159845  1996-10-31\n",
       "272  273   8  2824   단대오거리  37.445057  127.156735  1996-12-28\n",
       "273  274   8  2825      신흥  37.440952  127.147590  1996-12-28\n",
       "274  275   8  2826      수진  37.437575  127.140936  1996-12-28\n",
       "275  276   8  2827      모란  37.433888  127.129921  1996-11-30\n",
       "\n",
       "[276 rows x 7 columns]"
      ]
     },
     "execution_count": 13,
     "metadata": {},
     "output_type": "execute_result"
    }
   ],
   "source": [
    "stay = pd.read_csv('data/서울교통공사_1_8호선 역사 좌표(위경도) 정보_20211231.csv', encoding='cp949')\n",
    "stay"
   ]
  },
  {
   "cell_type": "code",
   "execution_count": 24,
   "id": "6ef19035",
   "metadata": {},
   "outputs": [
    {
     "data": {
      "text/plain": [
       "위도      37.55315\n",
       "경도    126.972533\n",
       "Name: 0, dtype: object"
      ]
     },
     "execution_count": 24,
     "metadata": {},
     "output_type": "execute_result"
    }
   ],
   "source": [
    "stay.iloc[0, 4:6]"
   ]
  },
  {
   "cell_type": "code",
   "execution_count": 26,
   "id": "5da43175",
   "metadata": {},
   "outputs": [
    {
     "data": {
      "text/plain": [
       "10.541096412086448"
      ]
     },
     "execution_count": 26,
     "metadata": {},
     "output_type": "execute_result"
    }
   ],
   "source": [
    "from haversine import haversine\n",
    "\n",
    "stay1 = stay.iloc[0, 4:6]\n",
    "addr1 = addr.iloc[0,10:12]\n",
    "\n",
    "haversine(stay1, addr1, unit = 'km') # haversine 함수는 위도, 경도 순서로 넣어야함."
   ]
  },
  {
   "cell_type": "code",
   "execution_count": 25,
   "id": "71023568",
   "metadata": {},
   "outputs": [
    {
     "data": {
      "text/plain": [
       "위도     37.483372\n",
       "경도    127.053437\n",
       "Name: 0, dtype: object"
      ]
     },
     "execution_count": 25,
     "metadata": {},
     "output_type": "execute_result"
    }
   ],
   "source": [
    "addr.iloc[0,10:12]"
   ]
  }
 ],
 "metadata": {
  "kernelspec": {
   "display_name": "Python 3 (ipykernel)",
   "language": "python",
   "name": "python3"
  },
  "language_info": {
   "codemirror_mode": {
    "name": "ipython",
    "version": 3
   },
   "file_extension": ".py",
   "mimetype": "text/x-python",
   "name": "python",
   "nbconvert_exporter": "python",
   "pygments_lexer": "ipython3",
   "version": "3.9.7"
  },
  "vscode": {
   "interpreter": {
    "hash": "d1a22bee82113af30c67e10395777900c3f9ec76f1bd843ee7063aea4f4c959c"
   }
  }
 },
 "nbformat": 4,
 "nbformat_minor": 5
}
