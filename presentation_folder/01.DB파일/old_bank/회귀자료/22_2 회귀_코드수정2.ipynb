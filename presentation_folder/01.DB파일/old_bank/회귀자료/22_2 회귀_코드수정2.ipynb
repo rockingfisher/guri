{
 "cells": [
  {
   "cell_type": "code",
   "execution_count": 1,
   "metadata": {},
   "outputs": [],
   "source": [
    "import pandas as pd\n",
    "import numpy as np\n",
    "import matplotlib.pyplot as plt\n",
    "import seaborn as sns\n",
    "import statsmodels.formula.api as smf\n",
    "\n",
    "\n",
    "from sklearn.linear_model import LinearRegression\n",
    "from sklearn.model_selection import train_test_split\n",
    "from sklearn.metrics import r2_score\n"
   ]
  },
  {
   "cell_type": "code",
   "execution_count": 2,
   "metadata": {},
   "outputs": [
    {
     "data": {
      "text/html": [
       "<div>\n",
       "<style scoped>\n",
       "    .dataframe tbody tr th:only-of-type {\n",
       "        vertical-align: middle;\n",
       "    }\n",
       "\n",
       "    .dataframe tbody tr th {\n",
       "        vertical-align: top;\n",
       "    }\n",
       "\n",
       "    .dataframe thead th {\n",
       "        text-align: right;\n",
       "    }\n",
       "</style>\n",
       "<table border=\"1\" class=\"dataframe\">\n",
       "  <thead>\n",
       "    <tr style=\"text-align: right;\">\n",
       "      <th></th>\n",
       "      <th>Unnamed: 0</th>\n",
       "      <th>ID</th>\n",
       "      <th>매매_22년_2분기</th>\n",
       "      <th>등락율</th>\n",
       "      <th>전세가율</th>\n",
       "      <th>전용면적_17</th>\n",
       "      <th>구별인구_17</th>\n",
       "      <th>거래량18</th>\n",
       "      <th>거래허가제TF</th>\n",
       "      <th>아파트TF</th>\n",
       "      <th>...</th>\n",
       "      <th>중앙난방TF</th>\n",
       "      <th>지역난방TF</th>\n",
       "      <th>복도식TF</th>\n",
       "      <th>혼합형TF</th>\n",
       "      <th>계단식TF</th>\n",
       "      <th>메이저시공사TF</th>\n",
       "      <th>조합시행TF</th>\n",
       "      <th>철근철골구조TF</th>\n",
       "      <th>홈네트워크TF</th>\n",
       "      <th>관리시설수</th>\n",
       "    </tr>\n",
       "  </thead>\n",
       "  <tbody>\n",
       "    <tr>\n",
       "      <th>0</th>\n",
       "      <td>2</td>\n",
       "      <td>서울특별시 강남구 개포동 개포주공5단지 60</td>\n",
       "      <td>202800.0</td>\n",
       "      <td>0.0</td>\n",
       "      <td>21.8</td>\n",
       "      <td>60</td>\n",
       "      <td>536710</td>\n",
       "      <td>0</td>\n",
       "      <td>0</td>\n",
       "      <td>1</td>\n",
       "      <td>...</td>\n",
       "      <td>0</td>\n",
       "      <td>1</td>\n",
       "      <td>1</td>\n",
       "      <td>0</td>\n",
       "      <td>0</td>\n",
       "      <td>0</td>\n",
       "      <td>0</td>\n",
       "      <td>0</td>\n",
       "      <td>0</td>\n",
       "      <td>5</td>\n",
       "    </tr>\n",
       "    <tr>\n",
       "      <th>1</th>\n",
       "      <td>3</td>\n",
       "      <td>서울특별시 강남구 개포동 개포주공5단지 80</td>\n",
       "      <td>282250.0</td>\n",
       "      <td>0.0</td>\n",
       "      <td>22.1</td>\n",
       "      <td>80</td>\n",
       "      <td>536710</td>\n",
       "      <td>0</td>\n",
       "      <td>0</td>\n",
       "      <td>1</td>\n",
       "      <td>...</td>\n",
       "      <td>0</td>\n",
       "      <td>1</td>\n",
       "      <td>1</td>\n",
       "      <td>0</td>\n",
       "      <td>0</td>\n",
       "      <td>0</td>\n",
       "      <td>0</td>\n",
       "      <td>0</td>\n",
       "      <td>0</td>\n",
       "      <td>5</td>\n",
       "    </tr>\n",
       "    <tr>\n",
       "      <th>2</th>\n",
       "      <td>4</td>\n",
       "      <td>서울특별시 강남구 개포동 개포주공6단지 50</td>\n",
       "      <td>189000.0</td>\n",
       "      <td>0.0</td>\n",
       "      <td>22.8</td>\n",
       "      <td>50</td>\n",
       "      <td>536710</td>\n",
       "      <td>0</td>\n",
       "      <td>0</td>\n",
       "      <td>1</td>\n",
       "      <td>...</td>\n",
       "      <td>0</td>\n",
       "      <td>1</td>\n",
       "      <td>0</td>\n",
       "      <td>1</td>\n",
       "      <td>0</td>\n",
       "      <td>1</td>\n",
       "      <td>0</td>\n",
       "      <td>0</td>\n",
       "      <td>0</td>\n",
       "      <td>3</td>\n",
       "    </tr>\n",
       "    <tr>\n",
       "      <th>3</th>\n",
       "      <td>6</td>\n",
       "      <td>서울특별시 강남구 개포동 개포주공6단지 60</td>\n",
       "      <td>181000.0</td>\n",
       "      <td>0.0</td>\n",
       "      <td>21.7</td>\n",
       "      <td>60</td>\n",
       "      <td>536710</td>\n",
       "      <td>0</td>\n",
       "      <td>0</td>\n",
       "      <td>1</td>\n",
       "      <td>...</td>\n",
       "      <td>0</td>\n",
       "      <td>1</td>\n",
       "      <td>0</td>\n",
       "      <td>1</td>\n",
       "      <td>0</td>\n",
       "      <td>1</td>\n",
       "      <td>0</td>\n",
       "      <td>0</td>\n",
       "      <td>0</td>\n",
       "      <td>3</td>\n",
       "    </tr>\n",
       "    <tr>\n",
       "      <th>4</th>\n",
       "      <td>8</td>\n",
       "      <td>서울특별시 강남구 개포동 개포주공6단지 70</td>\n",
       "      <td>270000.0</td>\n",
       "      <td>0.0</td>\n",
       "      <td>21.2</td>\n",
       "      <td>70</td>\n",
       "      <td>536710</td>\n",
       "      <td>0</td>\n",
       "      <td>0</td>\n",
       "      <td>1</td>\n",
       "      <td>...</td>\n",
       "      <td>0</td>\n",
       "      <td>1</td>\n",
       "      <td>0</td>\n",
       "      <td>1</td>\n",
       "      <td>0</td>\n",
       "      <td>1</td>\n",
       "      <td>0</td>\n",
       "      <td>0</td>\n",
       "      <td>0</td>\n",
       "      <td>3</td>\n",
       "    </tr>\n",
       "  </tbody>\n",
       "</table>\n",
       "<p>5 rows × 39 columns</p>\n",
       "</div>"
      ],
      "text/plain": [
       "   Unnamed: 0                        ID  매매_22년_2분기  등락율  전세가율  전용면적_17  \\\n",
       "0           2  서울특별시 강남구 개포동 개포주공5단지 60    202800.0  0.0  21.8       60   \n",
       "1           3  서울특별시 강남구 개포동 개포주공5단지 80    282250.0  0.0  22.1       80   \n",
       "2           4  서울특별시 강남구 개포동 개포주공6단지 50    189000.0  0.0  22.8       50   \n",
       "3           6  서울특별시 강남구 개포동 개포주공6단지 60    181000.0  0.0  21.7       60   \n",
       "4           8  서울특별시 강남구 개포동 개포주공6단지 70    270000.0  0.0  21.2       70   \n",
       "\n",
       "   구별인구_17  거래량18  거래허가제TF  아파트TF  ...  중앙난방TF  지역난방TF  복도식TF  혼합형TF  계단식TF  \\\n",
       "0   536710      0        0      1  ...       0       1      1      0      0   \n",
       "1   536710      0        0      1  ...       0       1      1      0      0   \n",
       "2   536710      0        0      1  ...       0       1      0      1      0   \n",
       "3   536710      0        0      1  ...       0       1      0      1      0   \n",
       "4   536710      0        0      1  ...       0       1      0      1      0   \n",
       "\n",
       "   메이저시공사TF  조합시행TF  철근철골구조TF  홈네트워크TF  관리시설수  \n",
       "0         0       0         0        0      5  \n",
       "1         0       0         0        0      5  \n",
       "2         1       0         0        0      3  \n",
       "3         1       0         0        0      3  \n",
       "4         1       0         0        0      3  \n",
       "\n",
       "[5 rows x 39 columns]"
      ]
     },
     "execution_count": 2,
     "metadata": {},
     "output_type": "execute_result"
    }
   ],
   "source": [
    "df_22 = pd.read_excel('data/data18_22.xlsx', sheet_name='22.2Q')\n",
    "df_22.head(5)"
   ]
  },
  {
   "cell_type": "code",
   "execution_count": 3,
   "metadata": {},
   "outputs": [
    {
     "data": {
      "text/plain": [
       "(3295, 39)"
      ]
     },
     "execution_count": 3,
     "metadata": {},
     "output_type": "execute_result"
    }
   ],
   "source": [
    "df_22.shape"
   ]
  },
  {
   "cell_type": "code",
   "execution_count": 4,
   "metadata": {},
   "outputs": [
    {
     "data": {
      "text/plain": [
       "Index(['Unnamed: 0', 'ID', '매매_22년_2분기', '등락율', '전세가율', '전용면적_17', '구별인구_17',\n",
       "       '거래량18', '거래허가제TF', '아파트TF', '주상복합TF', '도시형주택TF', '일반분양TF', '복합분양TF',\n",
       "       '임대분양TF', '사용승인년도', '동당세대수', '승강기합계', '동수', '세대수', '관리원당세대수', '승강기당세대수',\n",
       "       '세대당주차수', '지하주차비율', '세대당cctv수', '관리인원수', '연간소독횟수', '관리위탁여부', '개별난방TF',\n",
       "       '중앙난방TF', '지역난방TF', '복도식TF', '혼합형TF', '계단식TF', '메이저시공사TF', '조합시행TF',\n",
       "       '철근철골구조TF', '홈네트워크TF', '관리시설수'],\n",
       "      dtype='object')"
      ]
     },
     "execution_count": 4,
     "metadata": {},
     "output_type": "execute_result"
    }
   ],
   "source": [
    "df_22.columns"
   ]
  },
  {
   "cell_type": "code",
   "execution_count": 5,
   "metadata": {},
   "outputs": [],
   "source": [
    "model = smf.ols(formula = \"매매_22년_2분기 ~ 등락율 + 전세가율 + 전용면적_17 + 구별인구_17 + \\\n",
    "                          거래량18 + 거래허가제TF + 아파트TF + 주상복합TF + 도시형주택TF + 일반분양TF + 복합분양TF + \\\n",
    "                          임대분양TF + 사용승인년도 + 동당세대수 + 승강기합계 + 동수 + 세대수 + 관리원당세대수 + 승강기당세대수 + \\\n",
    "                          세대당주차수 + 지하주차비율 + 세대당cctv수 + 관리인원수 + 연간소독횟수 + 관리위탁여부 + 개별난방TF + \\\n",
    "                          개별난방TF + 중앙난방TF + 지역난방TF + 복도식TF + 혼합형TF + 계단식TF + 메이저시공사TF + 조합시행TF + \\\n",
    "                          철근철골구조TF + 홈네트워크TF + 관리시설수\", data = df_22)\n",
    "result = model.fit()"
   ]
  },
  {
   "cell_type": "code",
   "execution_count": 6,
   "metadata": {},
   "outputs": [
    {
     "name": "stdout",
     "output_type": "stream",
     "text": [
      "                            OLS Regression Results                            \n",
      "==============================================================================\n",
      "Dep. Variable:             매매_22년_2분기   R-squared:                       0.719\n",
      "Model:                            OLS   Adj. R-squared:                  0.716\n",
      "Method:                 Least Squares   F-statistic:                     240.5\n",
      "Date:                Thu, 22 Sep 2022   Prob (F-statistic):               0.00\n",
      "Time:                        23:47:16   Log-Likelihood:                -38839.\n",
      "No. Observations:                3223   AIC:                         7.775e+04\n",
      "Df Residuals:                    3188   BIC:                         7.796e+04\n",
      "Df Model:                          34                                         \n",
      "Covariance Type:            nonrobust                                         \n",
      "==============================================================================\n",
      "                 coef    std err          t      P>|t|      [0.025      0.975]\n",
      "------------------------------------------------------------------------------\n",
      "Intercept  -7.101e+05   2.47e+05     -2.876      0.004   -1.19e+06   -2.26e+05\n",
      "등락율         1128.6183    141.861      7.956      0.000     850.471    1406.766\n",
      "전세가율       -1481.5671     80.780    -18.341      0.000   -1639.953   -1323.182\n",
      "전용면적_17     1126.7715     35.361     31.865      0.000    1057.439    1196.104\n",
      "구별인구_17       -0.0091      0.007     -1.218      0.223      -0.024       0.006\n",
      "거래량18       3180.9578    736.968      4.316      0.000    1735.979    4625.937\n",
      "거래허가제TF     4.847e+04   4130.135     11.735      0.000    4.04e+04    5.66e+04\n",
      "아파트TF       1.927e+04   1.89e+04      1.019      0.308   -1.78e+04    5.64e+04\n",
      "주상복합TF     -9437.0595   1.92e+04     -0.493      0.622    -4.7e+04    2.81e+04\n",
      "도시형주택TF     7.147e+04   2.37e+04      3.014      0.003     2.5e+04    1.18e+05\n",
      "일반분양TF     -2.513e+05   8.15e+04     -3.083      0.002   -4.11e+05   -9.15e+04\n",
      "복합분양TF     -2.331e+05   8.26e+04     -2.823      0.005   -3.95e+05   -7.12e+04\n",
      "임대분양TF     -2.257e+05    8.3e+04     -2.721      0.007   -3.88e+05   -6.31e+04\n",
      "사용승인년도       609.8108    205.762      2.964      0.003     206.371    1013.251\n",
      "동당세대수         26.6993     17.887      1.493      0.136      -8.372      61.771\n",
      "승강기합계        262.5721    107.158      2.450      0.014      52.467     472.678\n",
      "동수         -1977.4102    212.134     -9.322      0.000   -2393.342   -1561.478\n",
      "세대수          -21.4819      3.306     -6.498      0.000     -27.964     -15.000\n",
      "관리원당세대수    -2395.1910    331.722     -7.220      0.000   -3045.600   -1744.782\n",
      "승강기당세대수     6392.1157    990.261      6.455      0.000    4450.502    8333.730\n",
      "세대당주차수      2.104e+04   2947.185      7.140      0.000    1.53e+04    2.68e+04\n",
      "지하주차비율      1.192e+04   3576.040      3.333      0.001    4906.101    1.89e+04\n",
      "세대당cctv수    7.027e+04   8564.472      8.204      0.000    5.35e+04    8.71e+04\n",
      "관리인원수        771.5793    235.365      3.278      0.001     310.097    1233.061\n",
      "연간소독횟수       129.2009    142.701      0.905      0.365    -150.595     408.996\n",
      "관리위탁여부     -1.364e+04   2616.123     -5.215      0.000   -1.88e+04   -8514.215\n",
      "개별난방TF      7455.4429   2.47e+04      0.302      0.763   -4.09e+04    5.58e+04\n",
      "중앙난방TF      8523.7642   2.48e+04      0.343      0.732   -4.02e+04    5.72e+04\n",
      "지역난방TF      3.249e+04   2.47e+04      1.313      0.189    -1.6e+04     8.1e+04\n",
      "복도식TF      -2.407e+05   8.23e+04     -2.925      0.003   -4.02e+05   -7.93e+04\n",
      "혼합형TF      -2.405e+05   8.22e+04     -2.925      0.003   -4.02e+05   -7.93e+04\n",
      "계단식TF      -2.289e+05   8.24e+04     -2.778      0.006    -3.9e+05   -6.73e+04\n",
      "메이저시공사TF    1.121e+04   1676.743      6.687      0.000    7925.233    1.45e+04\n",
      "조합시행TF      1.165e+04   1723.622      6.759      0.000    8270.742     1.5e+04\n",
      "철근철골구조TF   -9263.6944   3094.407     -2.994      0.003   -1.53e+04   -3196.465\n",
      "홈네트워크TF     2707.0734   2184.134      1.239      0.215   -1575.376    6989.522\n",
      "관리시설수        168.5788    451.887      0.373      0.709    -717.439    1054.597\n",
      "==============================================================================\n",
      "Omnibus:                     1308.064   Durbin-Watson:                   0.764\n",
      "Prob(Omnibus):                  0.000   Jarque-Bera (JB):            13191.431\n",
      "Skew:                           1.644   Prob(JB):                         0.00\n",
      "Kurtosis:                      12.350   Cond. No.                     1.03e+16\n",
      "==============================================================================\n",
      "\n",
      "Notes:\n",
      "[1] Standard Errors assume that the covariance matrix of the errors is correctly specified.\n",
      "[2] The smallest eigenvalue is 5.93e-18. This might indicate that there are\n",
      "strong multicollinearity problems or that the design matrix is singular.\n"
     ]
    }
   ],
   "source": [
    "print(result.summary())"
   ]
  },
  {
   "cell_type": "code",
   "execution_count": null,
   "metadata": {},
   "outputs": [],
   "source": []
  },
  {
   "cell_type": "code",
   "execution_count": null,
   "metadata": {},
   "outputs": [],
   "source": []
  },
  {
   "cell_type": "code",
   "execution_count": null,
   "metadata": {},
   "outputs": [],
   "source": []
  },
  {
   "cell_type": "code",
   "execution_count": null,
   "metadata": {},
   "outputs": [],
   "source": []
  },
  {
   "cell_type": "code",
   "execution_count": null,
   "metadata": {},
   "outputs": [],
   "source": []
  },
  {
   "cell_type": "code",
   "execution_count": null,
   "metadata": {},
   "outputs": [],
   "source": []
  },
  {
   "cell_type": "code",
   "execution_count": null,
   "metadata": {},
   "outputs": [],
   "source": [
    "# a = df_18['매매_18년_1분기'].tolist()\n",
    "# b = df_18['전용면적'].tolist()\n",
    "# b"
   ]
  },
  {
   "cell_type": "code",
   "execution_count": null,
   "metadata": {},
   "outputs": [],
   "source": [
    "# price = pd.DataFrame({'아파트가격' : a, '집크기' : b})"
   ]
  },
  {
   "cell_type": "code",
   "execution_count": null,
   "metadata": {},
   "outputs": [],
   "source": [
    "# price"
   ]
  },
  {
   "cell_type": "code",
   "execution_count": null,
   "metadata": {},
   "outputs": [],
   "source": [
    "# plt.scatter(price['아파트가격'], price['집크기'])\n",
    "# plt.xlabel('price')\n",
    "# plt.ylabel('size')"
   ]
  },
  {
   "cell_type": "code",
   "execution_count": null,
   "metadata": {},
   "outputs": [],
   "source": []
  },
  {
   "cell_type": "code",
   "execution_count": null,
   "metadata": {},
   "outputs": [],
   "source": []
  },
  {
   "cell_type": "code",
   "execution_count": null,
   "metadata": {},
   "outputs": [],
   "source": []
  },
  {
   "cell_type": "code",
   "execution_count": null,
   "metadata": {},
   "outputs": [],
   "source": []
  },
  {
   "cell_type": "code",
   "execution_count": null,
   "metadata": {},
   "outputs": [],
   "source": []
  }
 ],
 "metadata": {
  "kernelspec": {
   "display_name": "Python 3 (ipykernel)",
   "language": "python",
   "name": "python3"
  },
  "language_info": {
   "codemirror_mode": {
    "name": "ipython",
    "version": 3
   },
   "file_extension": ".py",
   "mimetype": "text/x-python",
   "name": "python",
   "nbconvert_exporter": "python",
   "pygments_lexer": "ipython3",
   "version": "3.9.7"
  },
  "vscode": {
   "interpreter": {
    "hash": "2de3b572670445064bf62470932f124815150fbc8c3e70662f18cff450df0a31"
   }
  }
 },
 "nbformat": 4,
 "nbformat_minor": 2
}
