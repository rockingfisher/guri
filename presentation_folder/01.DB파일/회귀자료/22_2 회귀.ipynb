{
 "cells": [
  {
   "cell_type": "code",
   "execution_count": 1,
   "metadata": {},
   "outputs": [],
   "source": [
    "import pandas as pd\n",
    "import numpy as np\n",
    "import matplotlib.pyplot as plt\n",
    "import seaborn as sns\n",
    "import statsmodels.formula.api as smf\n",
    "\n",
    "\n",
    "from sklearn.linear_model import LinearRegression\n",
    "from sklearn.model_selection import train_test_split\n",
    "from sklearn.metrics import r2_score\n"
   ]
  },
  {
   "cell_type": "code",
   "execution_count": 2,
   "metadata": {},
   "outputs": [
    {
     "data": {
      "text/html": [
       "<div>\n",
       "<style scoped>\n",
       "    .dataframe tbody tr th:only-of-type {\n",
       "        vertical-align: middle;\n",
       "    }\n",
       "\n",
       "    .dataframe tbody tr th {\n",
       "        vertical-align: top;\n",
       "    }\n",
       "\n",
       "    .dataframe thead th {\n",
       "        text-align: right;\n",
       "    }\n",
       "</style>\n",
       "<table border=\"1\" class=\"dataframe\">\n",
       "  <thead>\n",
       "    <tr style=\"text-align: right;\">\n",
       "      <th></th>\n",
       "      <th>Unnamed: 0</th>\n",
       "      <th>ID</th>\n",
       "      <th>매매_22년_2분기</th>\n",
       "      <th>등락율</th>\n",
       "      <th>전세가율</th>\n",
       "      <th>전용면적_17</th>\n",
       "      <th>구별인구_17</th>\n",
       "      <th>거래량18</th>\n",
       "      <th>거래허가제TF</th>\n",
       "      <th>아파트TF</th>\n",
       "      <th>...</th>\n",
       "      <th>중앙난방TF</th>\n",
       "      <th>지역난방TF</th>\n",
       "      <th>복도식TF</th>\n",
       "      <th>혼합형TF</th>\n",
       "      <th>계단식TF</th>\n",
       "      <th>메이저시공사TF</th>\n",
       "      <th>조합시행TF</th>\n",
       "      <th>철근철골구조TF</th>\n",
       "      <th>홈네트워크TF</th>\n",
       "      <th>관리시설수</th>\n",
       "    </tr>\n",
       "  </thead>\n",
       "  <tbody>\n",
       "    <tr>\n",
       "      <th>0</th>\n",
       "      <td>2</td>\n",
       "      <td>서울특별시 강남구 개포동 개포주공5단지 60</td>\n",
       "      <td>202800.0</td>\n",
       "      <td>0.0</td>\n",
       "      <td>21.8</td>\n",
       "      <td>60</td>\n",
       "      <td>536710</td>\n",
       "      <td>0</td>\n",
       "      <td>0</td>\n",
       "      <td>1</td>\n",
       "      <td>...</td>\n",
       "      <td>0</td>\n",
       "      <td>1</td>\n",
       "      <td>1</td>\n",
       "      <td>0</td>\n",
       "      <td>0</td>\n",
       "      <td>0</td>\n",
       "      <td>0</td>\n",
       "      <td>0</td>\n",
       "      <td>0</td>\n",
       "      <td>5</td>\n",
       "    </tr>\n",
       "    <tr>\n",
       "      <th>1</th>\n",
       "      <td>3</td>\n",
       "      <td>서울특별시 강남구 개포동 개포주공5단지 80</td>\n",
       "      <td>282250.0</td>\n",
       "      <td>0.0</td>\n",
       "      <td>22.1</td>\n",
       "      <td>80</td>\n",
       "      <td>536710</td>\n",
       "      <td>0</td>\n",
       "      <td>0</td>\n",
       "      <td>1</td>\n",
       "      <td>...</td>\n",
       "      <td>0</td>\n",
       "      <td>1</td>\n",
       "      <td>1</td>\n",
       "      <td>0</td>\n",
       "      <td>0</td>\n",
       "      <td>0</td>\n",
       "      <td>0</td>\n",
       "      <td>0</td>\n",
       "      <td>0</td>\n",
       "      <td>5</td>\n",
       "    </tr>\n",
       "    <tr>\n",
       "      <th>2</th>\n",
       "      <td>4</td>\n",
       "      <td>서울특별시 강남구 개포동 개포주공6단지 50</td>\n",
       "      <td>189000.0</td>\n",
       "      <td>0.0</td>\n",
       "      <td>22.8</td>\n",
       "      <td>50</td>\n",
       "      <td>536710</td>\n",
       "      <td>0</td>\n",
       "      <td>0</td>\n",
       "      <td>1</td>\n",
       "      <td>...</td>\n",
       "      <td>0</td>\n",
       "      <td>1</td>\n",
       "      <td>0</td>\n",
       "      <td>1</td>\n",
       "      <td>0</td>\n",
       "      <td>1</td>\n",
       "      <td>0</td>\n",
       "      <td>0</td>\n",
       "      <td>0</td>\n",
       "      <td>3</td>\n",
       "    </tr>\n",
       "    <tr>\n",
       "      <th>3</th>\n",
       "      <td>6</td>\n",
       "      <td>서울특별시 강남구 개포동 개포주공6단지 60</td>\n",
       "      <td>181000.0</td>\n",
       "      <td>0.0</td>\n",
       "      <td>21.7</td>\n",
       "      <td>60</td>\n",
       "      <td>536710</td>\n",
       "      <td>0</td>\n",
       "      <td>0</td>\n",
       "      <td>1</td>\n",
       "      <td>...</td>\n",
       "      <td>0</td>\n",
       "      <td>1</td>\n",
       "      <td>0</td>\n",
       "      <td>1</td>\n",
       "      <td>0</td>\n",
       "      <td>1</td>\n",
       "      <td>0</td>\n",
       "      <td>0</td>\n",
       "      <td>0</td>\n",
       "      <td>3</td>\n",
       "    </tr>\n",
       "    <tr>\n",
       "      <th>4</th>\n",
       "      <td>8</td>\n",
       "      <td>서울특별시 강남구 개포동 개포주공6단지 70</td>\n",
       "      <td>270000.0</td>\n",
       "      <td>0.0</td>\n",
       "      <td>21.2</td>\n",
       "      <td>70</td>\n",
       "      <td>536710</td>\n",
       "      <td>0</td>\n",
       "      <td>0</td>\n",
       "      <td>1</td>\n",
       "      <td>...</td>\n",
       "      <td>0</td>\n",
       "      <td>1</td>\n",
       "      <td>0</td>\n",
       "      <td>1</td>\n",
       "      <td>0</td>\n",
       "      <td>1</td>\n",
       "      <td>0</td>\n",
       "      <td>0</td>\n",
       "      <td>0</td>\n",
       "      <td>3</td>\n",
       "    </tr>\n",
       "  </tbody>\n",
       "</table>\n",
       "<p>5 rows × 39 columns</p>\n",
       "</div>"
      ],
      "text/plain": [
       "   Unnamed: 0                        ID  매매_22년_2분기  등락율  전세가율  전용면적_17  \\\n",
       "0           2  서울특별시 강남구 개포동 개포주공5단지 60    202800.0  0.0  21.8       60   \n",
       "1           3  서울특별시 강남구 개포동 개포주공5단지 80    282250.0  0.0  22.1       80   \n",
       "2           4  서울특별시 강남구 개포동 개포주공6단지 50    189000.0  0.0  22.8       50   \n",
       "3           6  서울특별시 강남구 개포동 개포주공6단지 60    181000.0  0.0  21.7       60   \n",
       "4           8  서울특별시 강남구 개포동 개포주공6단지 70    270000.0  0.0  21.2       70   \n",
       "\n",
       "   구별인구_17  거래량18  거래허가제TF  아파트TF  ...  중앙난방TF  지역난방TF  복도식TF  혼합형TF  계단식TF  \\\n",
       "0   536710      0        0      1  ...       0       1      1      0      0   \n",
       "1   536710      0        0      1  ...       0       1      1      0      0   \n",
       "2   536710      0        0      1  ...       0       1      0      1      0   \n",
       "3   536710      0        0      1  ...       0       1      0      1      0   \n",
       "4   536710      0        0      1  ...       0       1      0      1      0   \n",
       "\n",
       "   메이저시공사TF  조합시행TF  철근철골구조TF  홈네트워크TF  관리시설수  \n",
       "0         0       0         0        0      5  \n",
       "1         0       0         0        0      5  \n",
       "2         1       0         0        0      3  \n",
       "3         1       0         0        0      3  \n",
       "4         1       0         0        0      3  \n",
       "\n",
       "[5 rows x 39 columns]"
      ]
     },
     "execution_count": 2,
     "metadata": {},
     "output_type": "execute_result"
    }
   ],
   "source": [
    "df_22 = pd.read_excel('data/data18_22.xlsx', sheet_name='22.2Q')\n",
    "df_22.head(5)"
   ]
  },
  {
   "cell_type": "code",
   "execution_count": 3,
   "metadata": {},
   "outputs": [
    {
     "data": {
      "text/plain": [
       "(3295, 39)"
      ]
     },
     "execution_count": 3,
     "metadata": {},
     "output_type": "execute_result"
    }
   ],
   "source": [
    "df_22.shape"
   ]
  },
  {
   "cell_type": "code",
   "execution_count": 4,
   "metadata": {},
   "outputs": [
    {
     "data": {
      "text/plain": [
       "Index(['Unnamed: 0', 'ID', '매매_22년_2분기', '등락율', '전세가율', '전용면적_17', '구별인구_17',\n",
       "       '거래량18', '거래허가제TF', '아파트TF', '주상복합TF', '도시형주택TF', '일반분양TF', '복합분양TF',\n",
       "       '임대분양TF', '사용승인년도', '동당세대수', '승강기합계', '동수', '세대수', '관리원당세대수', '승강기당세대수',\n",
       "       '세대당주차수', '지하주차비율', '세대당cctv수', '관리인원수', '연간소독횟수', '관리위탁여부', '개별난방TF',\n",
       "       '중앙난방TF', '지역난방TF', '복도식TF', '혼합형TF', '계단식TF', '메이저시공사TF', '조합시행TF',\n",
       "       '철근철골구조TF', '홈네트워크TF', '관리시설수'],\n",
       "      dtype='object')"
      ]
     },
     "execution_count": 4,
     "metadata": {},
     "output_type": "execute_result"
    }
   ],
   "source": [
    "df_22.columns"
   ]
  },
  {
   "cell_type": "code",
   "execution_count": 5,
   "metadata": {},
   "outputs": [],
   "source": [
    "model = smf.ols(formula = \"매매_22년_2분기 ~ 등락율 + 전세가율 + 전용면적_17 + 구별인구_17 + 거래량18 + 거래허가제TF + 아파트TF + 주상복합TF + 도시형주택TF + 일반분양TF + 복합분양TF + 임대분양TF + 사용승인년도 + 동당세대수 + 승강기합계 + 동수 + 세대수 + 관리원당세대수 + 개별난방TF + 중앙난방TF + 지역난방TF + 복도식TF + 혼합형TF + 계단식TF + 메이저시공사TF + 조합시행TF + 철근철골구조TF + 홈네트워크TF + 관리시설수\", data = df_22)\n",
    "result = model.fit()"
   ]
  },
  {
   "cell_type": "code",
   "execution_count": 6,
   "metadata": {},
   "outputs": [
    {
     "name": "stdout",
     "output_type": "stream",
     "text": [
      "                            OLS Regression Results                            \n",
      "==============================================================================\n",
      "Dep. Variable:             매매_22년_2분기   R-squared:                       0.696\n",
      "Model:                            OLS   Adj. R-squared:                  0.694\n",
      "Method:                 Least Squares   F-statistic:                     275.8\n",
      "Date:                Thu, 22 Sep 2022   Prob (F-statistic):               0.00\n",
      "Time:                        16:02:57   Log-Likelihood:                -39706.\n",
      "No. Observations:                3278   AIC:                         7.947e+04\n",
      "Df Residuals:                    3250   BIC:                         7.964e+04\n",
      "Df Model:                          27                                         \n",
      "Covariance Type:            nonrobust                                         \n",
      "==============================================================================\n",
      "                 coef    std err          t      P>|t|      [0.025      0.975]\n",
      "------------------------------------------------------------------------------\n",
      "Intercept  -1.614e+06    1.8e+05     -8.957      0.000   -1.97e+06   -1.26e+06\n",
      "등락율         1197.0329    148.656      8.052      0.000     905.564    1488.502\n",
      "전세가율       -1594.6754     84.317    -18.913      0.000   -1759.996   -1429.355\n",
      "전용면적_17     1299.7084     33.751     38.509      0.000    1233.533    1365.884\n",
      "구별인구_17       -0.0171      0.008     -2.191      0.028      -0.032      -0.002\n",
      "거래량18       3392.5954    773.943      4.384      0.000    1875.129    4910.061\n",
      "거래허가제TF     5.385e+04   4253.523     12.661      0.000    4.55e+04    6.22e+04\n",
      "아파트TF       2.337e+04   1.59e+04      1.468      0.142   -7832.961    5.46e+04\n",
      "주상복합TF      8676.8444   1.62e+04      0.536      0.592   -2.31e+04    4.04e+04\n",
      "도시형주택TF     6.422e+04   2.19e+04      2.932      0.003    2.13e+04    1.07e+05\n",
      "일반분양TF     -5.487e+05   5.93e+04     -9.258      0.000   -6.65e+05   -4.32e+05\n",
      "복합분양TF     -5.341e+05   6.04e+04     -8.843      0.000   -6.53e+05   -4.16e+05\n",
      "임대분양TF     -5.309e+05   6.08e+04     -8.737      0.000    -6.5e+05   -4.12e+05\n",
      "사용승인년도      1378.9406    149.729      9.210      0.000    1085.368    1672.513\n",
      "동당세대수         41.4738     18.023      2.301      0.021       6.136      76.812\n",
      "승강기합계        571.8064     33.158     17.245      0.000     506.794     636.819\n",
      "동수         -1970.2368    212.897     -9.254      0.000   -2387.663   -1552.810\n",
      "세대수          -21.0655      3.012     -6.995      0.000     -26.970     -15.161\n",
      "관리원당세대수    -1102.8978    151.394     -7.285      0.000   -1399.735    -806.060\n",
      "개별난방TF      1.341e+04   2.25e+04      0.596      0.551   -3.07e+04    5.75e+04\n",
      "중앙난방TF      1.396e+04   2.27e+04      0.616      0.538   -3.05e+04    5.84e+04\n",
      "지역난방TF      4.038e+04   2.26e+04      1.790      0.074   -3850.176    8.46e+04\n",
      "복도식TF      -5.402e+05   5.98e+04     -9.033      0.000   -6.57e+05   -4.23e+05\n",
      "혼합형TF      -5.419e+05      6e+04     -9.030      0.000    -6.6e+05   -4.24e+05\n",
      "계단식TF      -5.316e+05   6.04e+04     -8.800      0.000    -6.5e+05   -4.13e+05\n",
      "메이저시공사TF    1.203e+04   1745.136      6.896      0.000    8612.816    1.55e+04\n",
      "조합시행TF      8564.6423   1795.856      4.769      0.000    5043.519    1.21e+04\n",
      "철근철골구조TF   -6944.8026   3216.633     -2.159      0.031   -1.33e+04    -637.968\n",
      "홈네트워크TF     6830.9304   2241.493      3.047      0.002    2436.047    1.12e+04\n",
      "관리시설수        351.1806    469.215      0.748      0.454    -568.806    1271.168\n",
      "==============================================================================\n",
      "Omnibus:                     1558.033   Durbin-Watson:                   0.727\n",
      "Prob(Omnibus):                  0.000   Jarque-Bera (JB):            20455.643\n",
      "Skew:                           1.917   Prob(JB):                         0.00\n",
      "Kurtosis:                      14.622   Cond. No.                     1.03e+16\n",
      "==============================================================================\n",
      "\n",
      "Notes:\n",
      "[1] Standard Errors assume that the covariance matrix of the errors is correctly specified.\n",
      "[2] The smallest eigenvalue is 6.01e-18. This might indicate that there are\n",
      "strong multicollinearity problems or that the design matrix is singular.\n"
     ]
    }
   ],
   "source": [
    "print(result.summary())"
   ]
  },
  {
   "cell_type": "code",
   "execution_count": null,
   "metadata": {},
   "outputs": [],
   "source": []
  },
  {
   "cell_type": "code",
   "execution_count": null,
   "metadata": {},
   "outputs": [],
   "source": []
  },
  {
   "cell_type": "code",
   "execution_count": null,
   "metadata": {},
   "outputs": [],
   "source": []
  },
  {
   "cell_type": "code",
   "execution_count": null,
   "metadata": {},
   "outputs": [],
   "source": []
  },
  {
   "cell_type": "code",
   "execution_count": null,
   "metadata": {},
   "outputs": [],
   "source": []
  },
  {
   "cell_type": "code",
   "execution_count": null,
   "metadata": {},
   "outputs": [],
   "source": []
  },
  {
   "cell_type": "code",
   "execution_count": null,
   "metadata": {},
   "outputs": [],
   "source": [
    "# a = df_18['매매_18년_1분기'].tolist()\n",
    "# b = df_18['전용면적'].tolist()\n",
    "# b"
   ]
  },
  {
   "cell_type": "code",
   "execution_count": null,
   "metadata": {},
   "outputs": [],
   "source": [
    "# price = pd.DataFrame({'아파트가격' : a, '집크기' : b})"
   ]
  },
  {
   "cell_type": "code",
   "execution_count": null,
   "metadata": {},
   "outputs": [],
   "source": [
    "# price"
   ]
  },
  {
   "cell_type": "code",
   "execution_count": null,
   "metadata": {},
   "outputs": [],
   "source": [
    "# plt.scatter(price['아파트가격'], price['집크기'])\n",
    "# plt.xlabel('price')\n",
    "# plt.ylabel('size')"
   ]
  },
  {
   "cell_type": "code",
   "execution_count": null,
   "metadata": {},
   "outputs": [],
   "source": []
  },
  {
   "cell_type": "code",
   "execution_count": null,
   "metadata": {},
   "outputs": [],
   "source": []
  },
  {
   "cell_type": "code",
   "execution_count": null,
   "metadata": {},
   "outputs": [],
   "source": []
  },
  {
   "cell_type": "code",
   "execution_count": null,
   "metadata": {},
   "outputs": [],
   "source": []
  },
  {
   "cell_type": "code",
   "execution_count": null,
   "metadata": {},
   "outputs": [],
   "source": []
  }
 ],
 "metadata": {
  "kernelspec": {
   "display_name": "Python 3 (ipykernel)",
   "language": "python",
   "name": "python3"
  },
  "language_info": {
   "codemirror_mode": {
    "name": "ipython",
    "version": 3
   },
   "file_extension": ".py",
   "mimetype": "text/x-python",
   "name": "python",
   "nbconvert_exporter": "python",
   "pygments_lexer": "ipython3",
   "version": "3.9.7"
  },
  "vscode": {
   "interpreter": {
    "hash": "2de3b572670445064bf62470932f124815150fbc8c3e70662f18cff450df0a31"
   }
  }
 },
 "nbformat": 4,
 "nbformat_minor": 2
}
