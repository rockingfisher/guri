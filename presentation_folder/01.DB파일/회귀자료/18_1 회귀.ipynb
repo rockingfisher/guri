{
 "cells": [
  {
   "cell_type": "code",
   "execution_count": 28,
   "metadata": {},
   "outputs": [],
   "source": [
    "import pandas as pd\n",
    "import numpy as np\n",
    "import matplotlib.pyplot as plt\n",
    "import seaborn as sns\n",
    "import statsmodels.formula.api as smf\n",
    "\n",
    "\n",
    "from sklearn.linear_model import LinearRegression\n",
    "from sklearn.model_selection import train_test_split\n",
    "from sklearn.metrics import r2_score\n"
   ]
  },
  {
   "cell_type": "code",
   "execution_count": 29,
   "metadata": {},
   "outputs": [
    {
     "data": {
      "text/html": [
       "<div>\n",
       "<style scoped>\n",
       "    .dataframe tbody tr th:only-of-type {\n",
       "        vertical-align: middle;\n",
       "    }\n",
       "\n",
       "    .dataframe tbody tr th {\n",
       "        vertical-align: top;\n",
       "    }\n",
       "\n",
       "    .dataframe thead th {\n",
       "        text-align: right;\n",
       "    }\n",
       "</style>\n",
       "<table border=\"1\" class=\"dataframe\">\n",
       "  <thead>\n",
       "    <tr style=\"text-align: right;\">\n",
       "      <th></th>\n",
       "      <th>Unnamed: 0</th>\n",
       "      <th>ID</th>\n",
       "      <th>매매_18년_1분기</th>\n",
       "      <th>등락율18_1</th>\n",
       "      <th>전세가율18_1</th>\n",
       "      <th>전용면적</th>\n",
       "      <th>구별인구</th>\n",
       "      <th>거래량1</th>\n",
       "      <th>거래량18</th>\n",
       "      <th>거래허가제TF</th>\n",
       "      <th>...</th>\n",
       "      <th>중앙난방TF</th>\n",
       "      <th>지역난방TF</th>\n",
       "      <th>복도식TF</th>\n",
       "      <th>혼합형TF</th>\n",
       "      <th>계단식TF</th>\n",
       "      <th>메이저시공사TF</th>\n",
       "      <th>조합시행TF</th>\n",
       "      <th>철근철골구조TF</th>\n",
       "      <th>홈네트워크TF</th>\n",
       "      <th>관리시설수</th>\n",
       "    </tr>\n",
       "  </thead>\n",
       "  <tbody>\n",
       "    <tr>\n",
       "      <th>0</th>\n",
       "      <td>2</td>\n",
       "      <td>서울특별시 강남구 개포동 개포주공5단지 60</td>\n",
       "      <td>136666.7</td>\n",
       "      <td>0.000000</td>\n",
       "      <td>31.2</td>\n",
       "      <td>60</td>\n",
       "      <td>557865</td>\n",
       "      <td>3</td>\n",
       "      <td>0</td>\n",
       "      <td>0</td>\n",
       "      <td>...</td>\n",
       "      <td>0</td>\n",
       "      <td>1</td>\n",
       "      <td>1</td>\n",
       "      <td>0</td>\n",
       "      <td>0</td>\n",
       "      <td>0</td>\n",
       "      <td>0</td>\n",
       "      <td>0</td>\n",
       "      <td>0</td>\n",
       "      <td>5</td>\n",
       "    </tr>\n",
       "    <tr>\n",
       "      <th>1</th>\n",
       "      <td>3</td>\n",
       "      <td>서울특별시 강남구 개포동 개포주공5단지 80</td>\n",
       "      <td>177416.7</td>\n",
       "      <td>0.000000</td>\n",
       "      <td>25.4</td>\n",
       "      <td>80</td>\n",
       "      <td>557865</td>\n",
       "      <td>0</td>\n",
       "      <td>0</td>\n",
       "      <td>0</td>\n",
       "      <td>...</td>\n",
       "      <td>0</td>\n",
       "      <td>1</td>\n",
       "      <td>1</td>\n",
       "      <td>0</td>\n",
       "      <td>0</td>\n",
       "      <td>0</td>\n",
       "      <td>0</td>\n",
       "      <td>0</td>\n",
       "      <td>0</td>\n",
       "      <td>5</td>\n",
       "    </tr>\n",
       "    <tr>\n",
       "      <th>2</th>\n",
       "      <td>4</td>\n",
       "      <td>서울특별시 강남구 개포동 개포주공6단지 50</td>\n",
       "      <td>125900.0</td>\n",
       "      <td>9.134234</td>\n",
       "      <td>30.1</td>\n",
       "      <td>50</td>\n",
       "      <td>557865</td>\n",
       "      <td>3</td>\n",
       "      <td>0</td>\n",
       "      <td>0</td>\n",
       "      <td>...</td>\n",
       "      <td>0</td>\n",
       "      <td>1</td>\n",
       "      <td>0</td>\n",
       "      <td>1</td>\n",
       "      <td>0</td>\n",
       "      <td>1</td>\n",
       "      <td>0</td>\n",
       "      <td>0</td>\n",
       "      <td>0</td>\n",
       "      <td>3</td>\n",
       "    </tr>\n",
       "    <tr>\n",
       "      <th>3</th>\n",
       "      <td>6</td>\n",
       "      <td>서울특별시 강남구 개포동 개포주공6단지 60</td>\n",
       "      <td>135200.0</td>\n",
       "      <td>9.023669</td>\n",
       "      <td>31.8</td>\n",
       "      <td>60</td>\n",
       "      <td>557865</td>\n",
       "      <td>2</td>\n",
       "      <td>0</td>\n",
       "      <td>0</td>\n",
       "      <td>...</td>\n",
       "      <td>0</td>\n",
       "      <td>1</td>\n",
       "      <td>0</td>\n",
       "      <td>1</td>\n",
       "      <td>0</td>\n",
       "      <td>1</td>\n",
       "      <td>0</td>\n",
       "      <td>0</td>\n",
       "      <td>0</td>\n",
       "      <td>3</td>\n",
       "    </tr>\n",
       "    <tr>\n",
       "      <th>4</th>\n",
       "      <td>8</td>\n",
       "      <td>서울특별시 강남구 개포동 개포주공6단지 70</td>\n",
       "      <td>151500.0</td>\n",
       "      <td>10.451045</td>\n",
       "      <td>33.2</td>\n",
       "      <td>70</td>\n",
       "      <td>557865</td>\n",
       "      <td>2</td>\n",
       "      <td>0</td>\n",
       "      <td>0</td>\n",
       "      <td>...</td>\n",
       "      <td>0</td>\n",
       "      <td>1</td>\n",
       "      <td>0</td>\n",
       "      <td>1</td>\n",
       "      <td>0</td>\n",
       "      <td>1</td>\n",
       "      <td>0</td>\n",
       "      <td>0</td>\n",
       "      <td>0</td>\n",
       "      <td>3</td>\n",
       "    </tr>\n",
       "  </tbody>\n",
       "</table>\n",
       "<p>5 rows × 40 columns</p>\n",
       "</div>"
      ],
      "text/plain": [
       "   Unnamed: 0                        ID  매매_18년_1분기    등락율18_1  전세가율18_1  \\\n",
       "0           2  서울특별시 강남구 개포동 개포주공5단지 60    136666.7   0.000000      31.2   \n",
       "1           3  서울특별시 강남구 개포동 개포주공5단지 80    177416.7   0.000000      25.4   \n",
       "2           4  서울특별시 강남구 개포동 개포주공6단지 50    125900.0   9.134234      30.1   \n",
       "3           6  서울특별시 강남구 개포동 개포주공6단지 60    135200.0   9.023669      31.8   \n",
       "4           8  서울특별시 강남구 개포동 개포주공6단지 70    151500.0  10.451045      33.2   \n",
       "\n",
       "   전용면적    구별인구  거래량1  거래량18  거래허가제TF  ...  중앙난방TF  지역난방TF  복도식TF  혼합형TF  \\\n",
       "0    60  557865     3      0        0  ...       0       1      1      0   \n",
       "1    80  557865     0      0        0  ...       0       1      1      0   \n",
       "2    50  557865     3      0        0  ...       0       1      0      1   \n",
       "3    60  557865     2      0        0  ...       0       1      0      1   \n",
       "4    70  557865     2      0        0  ...       0       1      0      1   \n",
       "\n",
       "   계단식TF  메이저시공사TF  조합시행TF  철근철골구조TF  홈네트워크TF  관리시설수  \n",
       "0      0         0       0         0        0      5  \n",
       "1      0         0       0         0        0      5  \n",
       "2      0         1       0         0        0      3  \n",
       "3      0         1       0         0        0      3  \n",
       "4      0         1       0         0        0      3  \n",
       "\n",
       "[5 rows x 40 columns]"
      ]
     },
     "execution_count": 29,
     "metadata": {},
     "output_type": "execute_result"
    }
   ],
   "source": [
    "df_18 = pd.read_excel('data/data18_22.xlsx', sheet_name='18.1Q')\n",
    "df_18.head(5)"
   ]
  },
  {
   "cell_type": "code",
   "execution_count": 30,
   "metadata": {},
   "outputs": [
    {
     "data": {
      "text/plain": [
       "(3295, 40)"
      ]
     },
     "execution_count": 30,
     "metadata": {},
     "output_type": "execute_result"
    }
   ],
   "source": [
    "df_18.shape"
   ]
  },
  {
   "cell_type": "code",
   "execution_count": 31,
   "metadata": {},
   "outputs": [
    {
     "data": {
      "text/plain": [
       "Index(['Unnamed: 0', 'ID', '매매_18년_1분기', '등락율18_1', '전세가율18_1', '전용면적', '구별인구',\n",
       "       '거래량1', '거래량18', '거래허가제TF', '아파트TF', '주상복합TF', '도시형주택TF', '일반분양TF',\n",
       "       '복합분양TF', '임대분양TF', '사용승인년도', '동당세대수', '승강기합계', '동수', '세대수', '관리원당세대수',\n",
       "       '승강기당세대수', '세대당주차수', '지하주차비율', '세대당cctv수', '관리인원수', '연간소독횟수', '관리위탁여부',\n",
       "       '개별난방TF', '중앙난방TF', '지역난방TF', '복도식TF', '혼합형TF', '계단식TF', '메이저시공사TF',\n",
       "       '조합시행TF', '철근철골구조TF', '홈네트워크TF', '관리시설수'],\n",
       "      dtype='object')"
      ]
     },
     "execution_count": 31,
     "metadata": {},
     "output_type": "execute_result"
    }
   ],
   "source": [
    "df_18.columns"
   ]
  },
  {
   "cell_type": "code",
   "execution_count": 48,
   "metadata": {},
   "outputs": [],
   "source": [
    "model = smf.ols(formula = \"매매_18년_1분기 ~ 등락율18_1 + 전세가율18_1 + 전용면적 + 구별인구 + 거래량1 + 거래량18 + 거래허가제TF + 아파트TF + 주상복합TF + 도시형주택TF + 일반분양TF + 복합분양TF + 임대분양TF + 사용승인년도 + 동당세대수 + 승강기합계 + 동수 + 세대수 + 관리원당세대수 + 개별난방TF + 중앙난방TF + 지역난방TF + 복도식TF + 혼합형TF + 계단식TF + 메이저시공사TF + 조합시행TF + 철근철골구조TF + 홈네트워크TF + 관리시설수\", data = df_18)\n",
    "result = model.fit()"
   ]
  },
  {
   "cell_type": "code",
   "execution_count": 49,
   "metadata": {},
   "outputs": [
    {
     "name": "stdout",
     "output_type": "stream",
     "text": [
      "                            OLS Regression Results                            \n",
      "==============================================================================\n",
      "Dep. Variable:             매매_18년_1분기   R-squared:                       0.749\n",
      "Model:                            OLS   Adj. R-squared:                  0.747\n",
      "Method:                 Least Squares   F-statistic:                     346.8\n",
      "Date:                Thu, 22 Sep 2022   Prob (F-statistic):               0.00\n",
      "Time:                        12:03:46   Log-Likelihood:                -37722.\n",
      "No. Observations:                3278   AIC:                         7.550e+04\n",
      "Df Residuals:                    3249   BIC:                         7.568e+04\n",
      "Df Model:                          28                                         \n",
      "Covariance Type:            nonrobust                                         \n",
      "==============================================================================\n",
      "                 coef    std err          t      P>|t|      [0.025      0.975]\n",
      "------------------------------------------------------------------------------\n",
      "Intercept  -1.234e+06    9.6e+04    -12.856      0.000   -1.42e+06   -1.05e+06\n",
      "등락율18_1      731.8192     87.345      8.379      0.000     560.563     903.075\n",
      "전세가율18_1   -1178.3566     42.227    -27.905      0.000   -1261.151   -1095.562\n",
      "전용면적         714.8229     18.163     39.357      0.000     679.211     750.434\n",
      "구별인구          -0.0067      0.004     -1.589      0.112      -0.015       0.002\n",
      "거래량1        -334.0713     80.025     -4.175      0.000    -490.975    -177.167\n",
      "거래량18       2302.1895    437.196      5.266      0.000    1444.983    3159.396\n",
      "거래허가제TF     3.335e+04   2358.243     14.143      0.000    2.87e+04     3.8e+04\n",
      "아파트TF       8063.8088   8692.870      0.928      0.354   -8980.253    2.51e+04\n",
      "주상복합TF     -2144.7275   8835.076     -0.243      0.808   -1.95e+04    1.52e+04\n",
      "도시형주택TF     1.291e+04   1.19e+04      1.085      0.278   -1.04e+04    3.62e+04\n",
      "일반분양TF     -4.153e+05   3.16e+04    -13.149      0.000   -4.77e+05   -3.53e+05\n",
      "복합분양TF     -4.118e+05   3.22e+04    -12.777      0.000   -4.75e+05   -3.49e+05\n",
      "임대분양TF      -4.07e+05   3.23e+04    -12.586      0.000    -4.7e+05   -3.44e+05\n",
      "사용승인년도      1070.5094     79.848     13.407      0.000     913.951    1227.067\n",
      "동당세대수         25.9655      9.760      2.660      0.008       6.828      45.103\n",
      "승강기합계        332.9304     18.222     18.271      0.000     297.203     368.658\n",
      "동수         -1167.8055    115.903    -10.076      0.000   -1395.056    -940.555\n",
      "세대수          -12.3927      1.676     -7.396      0.000     -15.678      -9.107\n",
      "관리원당세대수     -515.1687     83.082     -6.201      0.000    -678.067    -352.271\n",
      "개별난방TF      -999.7228   1.23e+04     -0.081      0.935   -2.51e+04    2.31e+04\n",
      "중앙난방TF     -1923.8209   1.24e+04     -0.155      0.877   -2.62e+04    2.24e+04\n",
      "지역난방TF      1.077e+04   1.23e+04      0.873      0.383   -1.34e+04    3.49e+04\n",
      "복도식TF      -4.127e+05   3.19e+04    -12.949      0.000   -4.75e+05    -3.5e+05\n",
      "혼합형TF      -4.136e+05    3.2e+04    -12.938      0.000   -4.76e+05   -3.51e+05\n",
      "계단식TF      -4.078e+05   3.22e+04    -12.669      0.000   -4.71e+05   -3.45e+05\n",
      "메이저시공사TF    6349.1714    953.881      6.656      0.000    4478.903    8219.440\n",
      "조합시행TF      3778.3371    980.675      3.853      0.000    1855.533    5701.141\n",
      "철근철골구조TF   -2419.9335   1761.015     -1.374      0.169   -5872.746    1032.879\n",
      "홈네트워크TF     4363.0779   1220.698      3.574      0.000    1969.661    6756.495\n",
      "관리시설수        262.4448    255.684      1.026      0.305    -238.874     763.764\n",
      "==============================================================================\n",
      "Omnibus:                     1617.508   Durbin-Watson:                   0.859\n",
      "Prob(Omnibus):                  0.000   Jarque-Bera (JB):            32162.946\n",
      "Skew:                           1.876   Prob(JB):                         0.00\n",
      "Kurtosis:                      17.880   Cond. No.                     1.03e+16\n",
      "==============================================================================\n",
      "\n",
      "Notes:\n",
      "[1] Standard Errors assume that the covariance matrix of the errors is correctly specified.\n",
      "[2] The smallest eigenvalue is 6.52e-18. This might indicate that there are\n",
      "strong multicollinearity problems or that the design matrix is singular.\n"
     ]
    }
   ],
   "source": [
    "print(result.summary())"
   ]
  },
  {
   "cell_type": "code",
   "execution_count": null,
   "metadata": {},
   "outputs": [],
   "source": []
  },
  {
   "cell_type": "code",
   "execution_count": null,
   "metadata": {},
   "outputs": [],
   "source": []
  },
  {
   "cell_type": "code",
   "execution_count": null,
   "metadata": {},
   "outputs": [],
   "source": []
  },
  {
   "cell_type": "code",
   "execution_count": null,
   "metadata": {},
   "outputs": [],
   "source": []
  },
  {
   "cell_type": "code",
   "execution_count": null,
   "metadata": {},
   "outputs": [],
   "source": []
  },
  {
   "cell_type": "code",
   "execution_count": null,
   "metadata": {},
   "outputs": [],
   "source": []
  },
  {
   "cell_type": "code",
   "execution_count": null,
   "metadata": {},
   "outputs": [],
   "source": [
    "# a = df_18['매매_18년_1분기'].tolist()\n",
    "# b = df_18['전용면적'].tolist()\n",
    "# b"
   ]
  },
  {
   "cell_type": "code",
   "execution_count": null,
   "metadata": {},
   "outputs": [],
   "source": [
    "# price = pd.DataFrame({'아파트가격' : a, '집크기' : b})"
   ]
  },
  {
   "cell_type": "code",
   "execution_count": null,
   "metadata": {},
   "outputs": [],
   "source": [
    "# price"
   ]
  },
  {
   "cell_type": "code",
   "execution_count": null,
   "metadata": {},
   "outputs": [],
   "source": [
    "# plt.scatter(price['아파트가격'], price['집크기'])\n",
    "# plt.xlabel('price')\n",
    "# plt.ylabel('size')"
   ]
  },
  {
   "cell_type": "code",
   "execution_count": null,
   "metadata": {},
   "outputs": [],
   "source": []
  },
  {
   "cell_type": "code",
   "execution_count": null,
   "metadata": {},
   "outputs": [],
   "source": []
  },
  {
   "cell_type": "code",
   "execution_count": null,
   "metadata": {},
   "outputs": [],
   "source": []
  },
  {
   "cell_type": "code",
   "execution_count": null,
   "metadata": {},
   "outputs": [],
   "source": []
  },
  {
   "cell_type": "code",
   "execution_count": null,
   "metadata": {},
   "outputs": [],
   "source": []
  }
 ],
 "metadata": {
  "kernelspec": {
   "display_name": "Python 3 (ipykernel)",
   "language": "python",
   "name": "python3"
  },
  "language_info": {
   "codemirror_mode": {
    "name": "ipython",
    "version": 3
   },
   "file_extension": ".py",
   "mimetype": "text/x-python",
   "name": "python",
   "nbconvert_exporter": "python",
   "pygments_lexer": "ipython3",
   "version": "3.9.7"
  },
  "vscode": {
   "interpreter": {
    "hash": "2de3b572670445064bf62470932f124815150fbc8c3e70662f18cff450df0a31"
   }
  }
 },
 "nbformat": 4,
 "nbformat_minor": 2
}
