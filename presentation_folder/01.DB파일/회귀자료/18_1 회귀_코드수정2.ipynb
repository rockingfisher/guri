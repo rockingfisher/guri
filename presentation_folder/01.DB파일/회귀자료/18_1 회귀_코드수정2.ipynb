{
 "cells": [
  {
   "cell_type": "code",
   "execution_count": 2,
   "metadata": {},
   "outputs": [],
   "source": [
    "import pandas as pd\n",
    "import numpy as np\n",
    "import matplotlib.pyplot as plt\n",
    "import seaborn as sns\n",
    "import statsmodels.formula.api as smf\n",
    "\n",
    "\n",
    "from sklearn.linear_model import LinearRegression\n",
    "from sklearn.model_selection import train_test_split\n",
    "from sklearn.metrics import r2_score\n"
   ]
  },
  {
   "cell_type": "code",
   "execution_count": 3,
   "metadata": {},
   "outputs": [
    {
     "data": {
      "text/html": [
       "<div>\n",
       "<style scoped>\n",
       "    .dataframe tbody tr th:only-of-type {\n",
       "        vertical-align: middle;\n",
       "    }\n",
       "\n",
       "    .dataframe tbody tr th {\n",
       "        vertical-align: top;\n",
       "    }\n",
       "\n",
       "    .dataframe thead th {\n",
       "        text-align: right;\n",
       "    }\n",
       "</style>\n",
       "<table border=\"1\" class=\"dataframe\">\n",
       "  <thead>\n",
       "    <tr style=\"text-align: right;\">\n",
       "      <th></th>\n",
       "      <th>Unnamed: 0</th>\n",
       "      <th>ID</th>\n",
       "      <th>매매_18년_1분기</th>\n",
       "      <th>등락율18_1</th>\n",
       "      <th>전세가율18_1</th>\n",
       "      <th>전용면적</th>\n",
       "      <th>구별인구</th>\n",
       "      <th>거래량1</th>\n",
       "      <th>거래량18</th>\n",
       "      <th>거래허가제TF</th>\n",
       "      <th>...</th>\n",
       "      <th>중앙난방TF</th>\n",
       "      <th>지역난방TF</th>\n",
       "      <th>복도식TF</th>\n",
       "      <th>혼합형TF</th>\n",
       "      <th>계단식TF</th>\n",
       "      <th>메이저시공사TF</th>\n",
       "      <th>조합시행TF</th>\n",
       "      <th>철근철골구조TF</th>\n",
       "      <th>홈네트워크TF</th>\n",
       "      <th>관리시설수</th>\n",
       "    </tr>\n",
       "  </thead>\n",
       "  <tbody>\n",
       "    <tr>\n",
       "      <th>0</th>\n",
       "      <td>2</td>\n",
       "      <td>서울특별시 강남구 개포동 개포주공5단지 60</td>\n",
       "      <td>136666.7</td>\n",
       "      <td>0.000000</td>\n",
       "      <td>31.2</td>\n",
       "      <td>60</td>\n",
       "      <td>557865</td>\n",
       "      <td>3</td>\n",
       "      <td>0</td>\n",
       "      <td>0</td>\n",
       "      <td>...</td>\n",
       "      <td>0</td>\n",
       "      <td>1</td>\n",
       "      <td>1</td>\n",
       "      <td>0</td>\n",
       "      <td>0</td>\n",
       "      <td>0</td>\n",
       "      <td>0</td>\n",
       "      <td>0</td>\n",
       "      <td>0</td>\n",
       "      <td>5</td>\n",
       "    </tr>\n",
       "    <tr>\n",
       "      <th>1</th>\n",
       "      <td>3</td>\n",
       "      <td>서울특별시 강남구 개포동 개포주공5단지 80</td>\n",
       "      <td>177416.7</td>\n",
       "      <td>0.000000</td>\n",
       "      <td>25.4</td>\n",
       "      <td>80</td>\n",
       "      <td>557865</td>\n",
       "      <td>0</td>\n",
       "      <td>0</td>\n",
       "      <td>0</td>\n",
       "      <td>...</td>\n",
       "      <td>0</td>\n",
       "      <td>1</td>\n",
       "      <td>1</td>\n",
       "      <td>0</td>\n",
       "      <td>0</td>\n",
       "      <td>0</td>\n",
       "      <td>0</td>\n",
       "      <td>0</td>\n",
       "      <td>0</td>\n",
       "      <td>5</td>\n",
       "    </tr>\n",
       "    <tr>\n",
       "      <th>2</th>\n",
       "      <td>4</td>\n",
       "      <td>서울특별시 강남구 개포동 개포주공6단지 50</td>\n",
       "      <td>125900.0</td>\n",
       "      <td>9.134234</td>\n",
       "      <td>30.1</td>\n",
       "      <td>50</td>\n",
       "      <td>557865</td>\n",
       "      <td>3</td>\n",
       "      <td>0</td>\n",
       "      <td>0</td>\n",
       "      <td>...</td>\n",
       "      <td>0</td>\n",
       "      <td>1</td>\n",
       "      <td>0</td>\n",
       "      <td>1</td>\n",
       "      <td>0</td>\n",
       "      <td>1</td>\n",
       "      <td>0</td>\n",
       "      <td>0</td>\n",
       "      <td>0</td>\n",
       "      <td>3</td>\n",
       "    </tr>\n",
       "    <tr>\n",
       "      <th>3</th>\n",
       "      <td>6</td>\n",
       "      <td>서울특별시 강남구 개포동 개포주공6단지 60</td>\n",
       "      <td>135200.0</td>\n",
       "      <td>9.023669</td>\n",
       "      <td>31.8</td>\n",
       "      <td>60</td>\n",
       "      <td>557865</td>\n",
       "      <td>2</td>\n",
       "      <td>0</td>\n",
       "      <td>0</td>\n",
       "      <td>...</td>\n",
       "      <td>0</td>\n",
       "      <td>1</td>\n",
       "      <td>0</td>\n",
       "      <td>1</td>\n",
       "      <td>0</td>\n",
       "      <td>1</td>\n",
       "      <td>0</td>\n",
       "      <td>0</td>\n",
       "      <td>0</td>\n",
       "      <td>3</td>\n",
       "    </tr>\n",
       "    <tr>\n",
       "      <th>4</th>\n",
       "      <td>8</td>\n",
       "      <td>서울특별시 강남구 개포동 개포주공6단지 70</td>\n",
       "      <td>151500.0</td>\n",
       "      <td>10.451045</td>\n",
       "      <td>33.2</td>\n",
       "      <td>70</td>\n",
       "      <td>557865</td>\n",
       "      <td>2</td>\n",
       "      <td>0</td>\n",
       "      <td>0</td>\n",
       "      <td>...</td>\n",
       "      <td>0</td>\n",
       "      <td>1</td>\n",
       "      <td>0</td>\n",
       "      <td>1</td>\n",
       "      <td>0</td>\n",
       "      <td>1</td>\n",
       "      <td>0</td>\n",
       "      <td>0</td>\n",
       "      <td>0</td>\n",
       "      <td>3</td>\n",
       "    </tr>\n",
       "  </tbody>\n",
       "</table>\n",
       "<p>5 rows × 40 columns</p>\n",
       "</div>"
      ],
      "text/plain": [
       "   Unnamed: 0                        ID  매매_18년_1분기    등락율18_1  전세가율18_1  \\\n",
       "0           2  서울특별시 강남구 개포동 개포주공5단지 60    136666.7   0.000000      31.2   \n",
       "1           3  서울특별시 강남구 개포동 개포주공5단지 80    177416.7   0.000000      25.4   \n",
       "2           4  서울특별시 강남구 개포동 개포주공6단지 50    125900.0   9.134234      30.1   \n",
       "3           6  서울특별시 강남구 개포동 개포주공6단지 60    135200.0   9.023669      31.8   \n",
       "4           8  서울특별시 강남구 개포동 개포주공6단지 70    151500.0  10.451045      33.2   \n",
       "\n",
       "   전용면적    구별인구  거래량1  거래량18  거래허가제TF  ...  중앙난방TF  지역난방TF  복도식TF  혼합형TF  \\\n",
       "0    60  557865     3      0        0  ...       0       1      1      0   \n",
       "1    80  557865     0      0        0  ...       0       1      1      0   \n",
       "2    50  557865     3      0        0  ...       0       1      0      1   \n",
       "3    60  557865     2      0        0  ...       0       1      0      1   \n",
       "4    70  557865     2      0        0  ...       0       1      0      1   \n",
       "\n",
       "   계단식TF  메이저시공사TF  조합시행TF  철근철골구조TF  홈네트워크TF  관리시설수  \n",
       "0      0         0       0         0        0      5  \n",
       "1      0         0       0         0        0      5  \n",
       "2      0         1       0         0        0      3  \n",
       "3      0         1       0         0        0      3  \n",
       "4      0         1       0         0        0      3  \n",
       "\n",
       "[5 rows x 40 columns]"
      ]
     },
     "execution_count": 3,
     "metadata": {},
     "output_type": "execute_result"
    }
   ],
   "source": [
    "df_18 = pd.read_excel('data/data18_22.xlsx', sheet_name='18.1Q')\n",
    "df_18.head(5)"
   ]
  },
  {
   "cell_type": "code",
   "execution_count": 4,
   "metadata": {},
   "outputs": [
    {
     "data": {
      "text/plain": [
       "(3295, 40)"
      ]
     },
     "execution_count": 4,
     "metadata": {},
     "output_type": "execute_result"
    }
   ],
   "source": [
    "df_18.shape"
   ]
  },
  {
   "cell_type": "code",
   "execution_count": 5,
   "metadata": {},
   "outputs": [
    {
     "data": {
      "text/plain": [
       "Index(['Unnamed: 0', 'ID', '매매_18년_1분기', '등락율18_1', '전세가율18_1', '전용면적', '구별인구',\n",
       "       '거래량1', '거래량18', '거래허가제TF', '아파트TF', '주상복합TF', '도시형주택TF', '일반분양TF',\n",
       "       '복합분양TF', '임대분양TF', '사용승인년도', '동당세대수', '승강기합계', '동수', '세대수', '관리원당세대수',\n",
       "       '승강기당세대수', '세대당주차수', '지하주차비율', '세대당cctv수', '관리인원수', '연간소독횟수', '관리위탁여부',\n",
       "       '개별난방TF', '중앙난방TF', '지역난방TF', '복도식TF', '혼합형TF', '계단식TF', '메이저시공사TF',\n",
       "       '조합시행TF', '철근철골구조TF', '홈네트워크TF', '관리시설수'],\n",
       "      dtype='object')"
      ]
     },
     "execution_count": 5,
     "metadata": {},
     "output_type": "execute_result"
    }
   ],
   "source": [
    "df_18.columns"
   ]
  },
  {
   "cell_type": "code",
   "execution_count": 6,
   "metadata": {},
   "outputs": [],
   "source": [
    "model = smf.ols(formula = \"매매_18년_1분기 ~ 등락율18_1 + 전세가율18_1 + 전용면적 + 구별인구 + \\\n",
    "                           거래량1 + 거래량18 + 거래허가제TF + 아파트TF + 주상복합TF + 도시형주택TF + 일반분양TF + \\\n",
    "                           복합분양TF + 임대분양TF + 사용승인년도 + 동당세대수 + 승강기합계 + 동수 + 세대수 + 관리원당세대수 + \\\n",
    "                           승강기당세대수 + 세대당주차수 + 지하주차비율 +세대당cctv수 + 관리인원수 + 연간소독횟수 +관리위탁여부 + \\\n",
    "                           개별난방TF + 중앙난방TF + 지역난방TF + 복도식TF + 혼합형TF + 계단식TF + 메이저시공사TF + \\\n",
    "                           조합시행TF + 철근철골구조TF + 홈네트워크TF + 관리시설수\", data = df_18)\n",
    "result = model.fit()"
   ]
  },
  {
   "cell_type": "code",
   "execution_count": 9,
   "metadata": {},
   "outputs": [
    {
     "name": "stdout",
     "output_type": "stream",
     "text": [
      "                            OLS Regression Results                            \n",
      "==============================================================================\n",
      "Dep. Variable:             매매_18년_1분기   R-squared:                       0.769\n",
      "Model:                            OLS   Adj. R-squared:                  0.767\n",
      "Method:                 Least Squares   F-statistic:                     303.5\n",
      "Date:                Fri, 23 Sep 2022   Prob (F-statistic):               0.00\n",
      "Time:                        00:06:38   Log-Likelihood:                -36883.\n",
      "No. Observations:                3223   AIC:                         7.384e+04\n",
      "Df Residuals:                    3187   BIC:                         7.406e+04\n",
      "Df Model:                          35                                         \n",
      "Covariance Type:            nonrobust                                         \n",
      "==============================================================================\n",
      "                 coef    std err          t      P>|t|      [0.025      0.975]\n",
      "------------------------------------------------------------------------------\n",
      "Intercept  -6.587e+05   1.33e+05     -4.946      0.000    -9.2e+05   -3.98e+05\n",
      "등락율18_1      753.0771     83.158      9.056      0.000     590.028     916.127\n",
      "전세가율18_1   -1100.9042     40.734    -27.027      0.000   -1180.771   -1021.037\n",
      "전용면적         617.2875     19.062     32.384      0.000     579.913     654.662\n",
      "구별인구          -0.0022      0.004     -0.549      0.583      -0.010       0.006\n",
      "거래량1        -369.2522     75.855     -4.868      0.000    -517.981    -220.523\n",
      "거래량18       2284.8141    416.686      5.483      0.000    1467.814    3101.814\n",
      "거래허가제TF     3.147e+04   2287.819     13.755      0.000     2.7e+04     3.6e+04\n",
      "아파트TF       7410.7599   1.03e+04      0.718      0.473   -1.28e+04    2.76e+04\n",
      "주상복합TF      -1.02e+04   1.04e+04     -0.977      0.329   -3.07e+04    1.03e+04\n",
      "도시형주택TF     2.159e+04   1.29e+04      1.676      0.094   -3668.160    4.69e+04\n",
      "일반분양TF     -2.258e+05    4.4e+04     -5.133      0.000   -3.12e+05    -1.4e+05\n",
      "복합분양TF       -2.2e+05   4.46e+04     -4.937      0.000   -3.07e+05   -1.33e+05\n",
      "임대분양TF     -2.129e+05   4.47e+04     -4.760      0.000   -3.01e+05   -1.25e+05\n",
      "사용승인년도       579.2698    111.000      5.219      0.000     361.632     796.908\n",
      "동당세대수         16.6277      9.653      1.723      0.085      -2.299      35.554\n",
      "승강기합계        188.9258     58.419      3.234      0.001      74.383     303.469\n",
      "동수         -1191.8412    115.310    -10.336      0.000   -1417.931    -965.751\n",
      "세대수          -13.4727      1.829     -7.365      0.000     -17.059      -9.886\n",
      "관리원당세대수    -1239.6005    181.065     -6.846      0.000   -1594.616    -884.585\n",
      "승강기당세대수     3774.8611    538.411      7.011      0.000    2719.194    4830.528\n",
      "세대당주차수      1.207e+04   1607.558      7.506      0.000    8914.207    1.52e+04\n",
      "지하주차비율      5903.7703   1952.619      3.024      0.003    2075.254    9732.287\n",
      "세대당cctv수    4.542e+04   4663.330      9.740      0.000    3.63e+04    5.46e+04\n",
      "관리인원수        385.5146    128.271      3.005      0.003     134.012     637.017\n",
      "연간소독횟수         5.0934     77.807      0.065      0.948    -147.463     157.650\n",
      "관리위탁여부     -5451.6382   1432.290     -3.806      0.000   -8259.942   -2643.335\n",
      "개별난방TF     -6983.2918   1.35e+04     -0.518      0.604   -3.34e+04    1.94e+04\n",
      "중앙난방TF     -7883.7944   1.36e+04     -0.581      0.561   -3.45e+04    1.87e+04\n",
      "지역난방TF      3790.4673   1.35e+04      0.281      0.779   -2.27e+04    3.03e+04\n",
      "복도식TF      -2.219e+05   4.44e+04     -4.997      0.000   -3.09e+05   -1.35e+05\n",
      "혼합형TF      -2.216e+05   4.43e+04     -4.997      0.000   -3.09e+05   -1.35e+05\n",
      "계단식TF      -2.152e+05   4.45e+04     -4.842      0.000   -3.02e+05   -1.28e+05\n",
      "메이저시공사TF    6016.5718    915.115      6.575      0.000    4222.297    7810.846\n",
      "조합시행TF      5492.6505    939.967      5.843      0.000    3649.649    7335.652\n",
      "철근철골구조TF   -3628.2887   1691.169     -2.145      0.032   -6944.178    -312.399\n",
      "홈네트워크TF     1627.0713   1188.132      1.369      0.171    -702.509    3956.652\n",
      "관리시설수        160.9725    245.851      0.655      0.513    -321.070     643.015\n",
      "==============================================================================\n",
      "Omnibus:                     1313.570   Durbin-Watson:                   0.892\n",
      "Prob(Omnibus):                  0.000   Jarque-Bera (JB):            19138.290\n",
      "Skew:                           1.535   Prob(JB):                         0.00\n",
      "Kurtosis:                      14.537   Cond. No.                     1.03e+16\n",
      "==============================================================================\n",
      "\n",
      "Notes:\n",
      "[1] Standard Errors assume that the covariance matrix of the errors is correctly specified.\n",
      "[2] The smallest eigenvalue is 6.43e-18. This might indicate that there are\n",
      "strong multicollinearity problems or that the design matrix is singular.\n"
     ]
    }
   ],
   "source": [
    "print(result.summary())"
   ]
  },
  {
   "cell_type": "code",
   "execution_count": null,
   "metadata": {},
   "outputs": [],
   "source": []
  },
  {
   "cell_type": "code",
   "execution_count": null,
   "metadata": {},
   "outputs": [],
   "source": []
  },
  {
   "cell_type": "code",
   "execution_count": null,
   "metadata": {},
   "outputs": [],
   "source": []
  },
  {
   "cell_type": "code",
   "execution_count": null,
   "metadata": {},
   "outputs": [],
   "source": []
  },
  {
   "cell_type": "code",
   "execution_count": null,
   "metadata": {},
   "outputs": [],
   "source": []
  },
  {
   "cell_type": "code",
   "execution_count": null,
   "metadata": {},
   "outputs": [],
   "source": [
    "# a = df_18['매매_18년_1분기'].tolist()\n",
    "# b = df_18['전용면적'].tolist()\n",
    "# b"
   ]
  },
  {
   "cell_type": "code",
   "execution_count": null,
   "metadata": {},
   "outputs": [],
   "source": [
    "# price = pd.DataFrame({'아파트가격' : a, '집크기' : b})"
   ]
  },
  {
   "cell_type": "code",
   "execution_count": null,
   "metadata": {},
   "outputs": [],
   "source": [
    "# price"
   ]
  },
  {
   "cell_type": "code",
   "execution_count": null,
   "metadata": {},
   "outputs": [],
   "source": [
    "# plt.scatter(price['아파트가격'], price['집크기'])\n",
    "# plt.xlabel('price')\n",
    "# plt.ylabel('size')"
   ]
  },
  {
   "cell_type": "code",
   "execution_count": null,
   "metadata": {},
   "outputs": [],
   "source": []
  },
  {
   "cell_type": "code",
   "execution_count": null,
   "metadata": {},
   "outputs": [],
   "source": []
  },
  {
   "cell_type": "code",
   "execution_count": null,
   "metadata": {},
   "outputs": [],
   "source": []
  },
  {
   "cell_type": "code",
   "execution_count": null,
   "metadata": {},
   "outputs": [],
   "source": []
  },
  {
   "cell_type": "code",
   "execution_count": null,
   "metadata": {},
   "outputs": [],
   "source": []
  }
 ],
 "metadata": {
  "kernelspec": {
   "display_name": "Python 3 (ipykernel)",
   "language": "python",
   "name": "python3"
  },
  "language_info": {
   "codemirror_mode": {
    "name": "ipython",
    "version": 3
   },
   "file_extension": ".py",
   "mimetype": "text/x-python",
   "name": "python",
   "nbconvert_exporter": "python",
   "pygments_lexer": "ipython3",
   "version": "3.9.7"
  },
  "vscode": {
   "interpreter": {
    "hash": "2de3b572670445064bf62470932f124815150fbc8c3e70662f18cff450df0a31"
   }
  }
 },
 "nbformat": 4,
 "nbformat_minor": 2
}
