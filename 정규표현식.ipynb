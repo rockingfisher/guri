{
 "cells": [
  {
   "cell_type": "code",
   "execution_count": 2,
   "id": "212cdcd4",
   "metadata": {},
   "outputs": [],
   "source": [
    "import pandas as pd\n",
    "import numpy as np"
   ]
  },
  {
   "cell_type": "code",
   "execution_count": 116,
   "id": "13c12c90",
   "metadata": {},
   "outputs": [
    {
     "data": {
      "text/html": [
       "<div>\n",
       "<style scoped>\n",
       "    .dataframe tbody tr th:only-of-type {\n",
       "        vertical-align: middle;\n",
       "    }\n",
       "\n",
       "    .dataframe tbody tr th {\n",
       "        vertical-align: top;\n",
       "    }\n",
       "\n",
       "    .dataframe thead th {\n",
       "        text-align: right;\n",
       "    }\n",
       "</style>\n",
       "<table border=\"1\" class=\"dataframe\">\n",
       "  <thead>\n",
       "    <tr style=\"text-align: right;\">\n",
       "      <th></th>\n",
       "      <th>아파트소재지</th>\n",
       "      <th>아파트주소</th>\n",
       "      <th>아파트번호</th>\n",
       "    </tr>\n",
       "  </thead>\n",
       "  <tbody>\n",
       "    <tr>\n",
       "      <th>0</th>\n",
       "      <td>rasfaf</td>\n",
       "      <td>\\sfna;^</td>\n",
       "      <td>*()</td>\n",
       "    </tr>\n",
       "    <tr>\n",
       "      <th>1</th>\n",
       "      <td>abcde</td>\n",
       "      <td>asdf</td>\n",
       "      <td>;k;k</td>\n",
       "    </tr>\n",
       "    <tr>\n",
       "      <th>2</th>\n",
       "      <td>abcde</td>\n",
       "      <td>asdf</td>\n",
       "      <td>;k;k</td>\n",
       "    </tr>\n",
       "    <tr>\n",
       "      <th>3</th>\n",
       "      <td>abcde</td>\n",
       "      <td>asdf</td>\n",
       "      <td>;k;k</td>\n",
       "    </tr>\n",
       "    <tr>\n",
       "      <th>4</th>\n",
       "      <td>abcde</td>\n",
       "      <td>asdf</td>\n",
       "      <td>;k;k</td>\n",
       "    </tr>\n",
       "  </tbody>\n",
       "</table>\n",
       "</div>"
      ],
      "text/plain": [
       "   아파트소재지    아파트주소 아파트번호\n",
       "0  rasfaf  \\sfna;^   *()\n",
       "1   abcde     asdf  ;k;k\n",
       "2   abcde     asdf  ;k;k\n",
       "3   abcde     asdf  ;k;k\n",
       "4   abcde     asdf  ;k;k"
      ]
     },
     "execution_count": 116,
     "metadata": {},
     "output_type": "execute_result"
    }
   ],
   "source": [
    "apt1 = pd.DataFrame([['rasfaf', '\\sfna;^', '*()'],\n",
    "                     ['abcde', 'asdf',    ';k;k'],\n",
    "                     ['abcde', 'asdf',    ';k;k'],\n",
    "                     ['abcde', 'asdf',    ';k;k'],\n",
    "                     ['abcde', 'asdf',    ';k;k']],\n",
    "                   columns=['아파트소재지', '아파트주소', '아파트번호'])\n",
    "apt1"
   ]
  },
  {
   "cell_type": "code",
   "execution_count": 13,
   "id": "43ed1cb1",
   "metadata": {},
   "outputs": [
    {
     "data": {
      "text/html": [
       "<div>\n",
       "<style scoped>\n",
       "    .dataframe tbody tr th:only-of-type {\n",
       "        vertical-align: middle;\n",
       "    }\n",
       "\n",
       "    .dataframe tbody tr th {\n",
       "        vertical-align: top;\n",
       "    }\n",
       "\n",
       "    .dataframe thead th {\n",
       "        text-align: right;\n",
       "    }\n",
       "</style>\n",
       "<table border=\"1\" class=\"dataframe\">\n",
       "  <thead>\n",
       "    <tr style=\"text-align: right;\">\n",
       "      <th></th>\n",
       "      <th>ID</th>\n",
       "      <th>name</th>\n",
       "      <th>class</th>\n",
       "    </tr>\n",
       "  </thead>\n",
       "  <tbody>\n",
       "    <tr>\n",
       "      <th>0</th>\n",
       "      <td>20190103</td>\n",
       "      <td>Test1</td>\n",
       "      <td>H</td>\n",
       "    </tr>\n",
       "    <tr>\n",
       "      <th>1</th>\n",
       "      <td>20190222</td>\n",
       "      <td>Test2</td>\n",
       "      <td>W</td>\n",
       "    </tr>\n",
       "    <tr>\n",
       "      <th>2</th>\n",
       "      <td>20190531</td>\n",
       "      <td>Test3</td>\n",
       "      <td>S</td>\n",
       "    </tr>\n",
       "  </tbody>\n",
       "</table>\n",
       "</div>"
      ],
      "text/plain": [
       "         ID   name class\n",
       "0  20190103  Test1     H\n",
       "1  20190222  Test2     W\n",
       "2  20190531  Test3     S"
      ]
     },
     "execution_count": 13,
     "metadata": {},
     "output_type": "execute_result"
    }
   ],
   "source": [
    "apt2 = pd.DataFrame({'ID':[20190103, 20190222, 20190531],\n",
    "                     'name':['Test1', 'Test2', 'Test3'],\n",
    "                     'class' : ['H', 'W', 'S']})\n",
    "apt2"
   ]
  },
  {
   "cell_type": "code",
   "execution_count": 3,
   "id": "4ed214c3",
   "metadata": {},
   "outputs": [],
   "source": [
    "little_str = \"\"\"@@ Once when I was six years old I saw a magnificent picture in a book,\n",
    "                called True Stories from Nature, about the primeval forest. ##\n",
    "                It was a picture of a boa constrictor [in the act of swallowing an animal].\n",
    "                Here is a copy of the drawing. In the book it said: Boa constrictors swallow\n",
    "                their prey whole, without chewing it. {After that they are not able to move},\n",
    "                and they sleep through the six months that they need for digestion.\n",
    "                I pondered deeply, then, over the adventures of the jungle.\n",
    "                And after some work with a colored pencil I succeeded in making my first drawing.\n",
    "                My Drawing Number One. It looked like this:\n",
    "                I showed my masterpiece to the grown−ups, and asked them whether the drawing\n",
    "                frightened them. -_-_-_-_-_-_-_-_-\n",
    "                https://books-library.net/files/books-library.online-12201041Ti6B3.pdf\n",
    "                RT[2938asdfauej;;oijl2498==z2@3]\"\"\"\n",
    "Once_1 = 'Once more once chance o nce given'\n",
    "Once_2 = '(Once) more (once) chance (o nce) given'"
   ]
  },
  {
   "cell_type": "code",
   "execution_count": 4,
   "id": "1be90319",
   "metadata": {
    "scrolled": true
   },
   "outputs": [
    {
     "name": "stdout",
     "output_type": "stream",
     "text": [
      "<re.Match object; span=(0, 4), match='Once'>\n",
      "<re.Match object; span=(0, 4), match='Once'>\n",
      "None\n",
      "None\n"
     ]
    }
   ],
   "source": [
    "import re\n",
    "\n",
    "re.match('Once', little_str)\n",
    "print(re.match('Once', 'Once more'))\n",
    "print(re.match('Once', 'Oncemore'))\n",
    "print(re.match('Once', 'more Once'))\n",
    "print(re.match('Once', 'moreOnce'))"
   ]
  },
  {
   "cell_type": "code",
   "execution_count": 124,
   "id": "68386b01",
   "metadata": {},
   "outputs": [
    {
     "data": {
      "text/plain": [
       "'Twice more Twice chance Twice given'"
      ]
     },
     "execution_count": 124,
     "metadata": {},
     "output_type": "execute_result"
    }
   ],
   "source": [
    "#re.sub('Once|once|o nce', 'Twice', Once_1)\n",
    "#re.sub(r'((Once)|(once)|(o nce))', 'Twice', Once_2)\n",
    "re.sub(r'(\\(Once\\)|\\(once\\)|\\(o nce\\))', 'Twice', Once_2)"
   ]
  },
  {
   "cell_type": "code",
   "execution_count": 125,
   "id": "c9aad50e",
   "metadata": {},
   "outputs": [
    {
     "data": {
      "text/plain": [
       "'@@ Once when I was six years old I saw a magnificent picture in a book,\\n                called True Stories from Nature, about the primeval forest. ##\\n                It was a picture of a boa constrictor [in the act of swallowing an animal].\\n                Here is a copy of the drawing. In the book it said: Boa constrictors swallow\\n                their prey whole, without chewing it. {After that they are not able to move},\\n                and they sleep through the six months that they need for digestion.\\n                I pondered deeply, then, over the adventures of the jungle.\\n                And after some work with a colored pencil I succeeded in making my first drawing.\\n                My Drawing Number One. It looked like this:\\n                I showed my masterpiece to the grown−ups, and asked them whether the drawing\\n                frightened them. -_-_-_-_-_-_-_-_-\\n                https://books-library.net/files/books-library.online-12201041Ti6B3.pdf\\n                RT[2938asdfauej;;oijl2498==z2@3]'"
      ]
     },
     "execution_count": 125,
     "metadata": {},
     "output_type": "execute_result"
    }
   ],
   "source": [
    "little_str"
   ]
  },
  {
   "cell_type": "code",
   "execution_count": 128,
   "id": "82262c87",
   "metadata": {
    "scrolled": true
   },
   "outputs": [
    {
     "data": {
      "text/plain": [
       "'Once when I was six years old I saw a magnificent picture in a book                 called True Stories from Nature about the primeval forest                  It was a picture of a boa constrictor in the act of swallowing an animal                 Here is a copy of the drawing In the book it said Boa constrictors swallow                 their prey whole without chewing it After that they are not able to move                 and they sleep through the six months that they need for digestion                 I pondered deeply then over the adventures of the jungle                 And after some work with a colored pencil I succeeded in making my first drawing                 My Drawing Number One It looked like this                 I showed my masterpiece to the grownups and asked them whether the drawing                 frightened them                                   RT2938asdfauejoijl2498z23'"
      ]
     },
     "execution_count": 128,
     "metadata": {},
     "output_type": "execute_result"
    }
   ],
   "source": [
    "def text_cleaner(text) :\n",
    "    text = re.sub(r\"\\n\",\" \",text)\n",
    "    text = re.sub(r\"\\t\",\" \",text)\n",
    "    text = re.sub(r\"\\r\",\" \",text)\n",
    "    text = re.sub(r\"(@)|(#)|(RT[\\s]+)|(https?:\\/\\/\\S+)|([^a-zA-Z0-9 -])|(\\-)\", \"\", text)\n",
    "    text = text.strip(\" \")\n",
    "    return text\n",
    "\n",
    "text_cleaner(little_str)"
   ]
  },
  {
   "cell_type": "code",
   "execution_count": 11,
   "id": "e958f386",
   "metadata": {
    "scrolled": true
   },
   "outputs": [
    {
     "data": {
      "text/plain": [
       "'                                                                                                                                                                                                                                                                                                                                                                                                                                                                                                                                                                                                                                                                                                                                                                                                                                                                                                                                                                                                 12201041  6 3                        2938              2498   2 3 '"
      ]
     },
     "execution_count": 11,
     "metadata": {},
     "output_type": "execute_result"
    }
   ],
   "source": [
    "text1 = re.sub(r\"\\d\",\" \", little_str) #decimal [0-9]\n",
    "text2 = re.sub(r\"\\D\",\" \", little_str) #not decimal [^0-9]\n",
    "text3 = re.sub(r\"\\s\",\" \", little_str) #[ \\t\\n\\r\\f\\v]\n",
    "text4 = re.sub(r\"\\S\",\" \", little_str) #[^ \\t\\n\\r\\f\\v]\n",
    "text5 = re.sub(r\"\\w\",\" \", little_str) #word a-zA-Z0-9\n",
    "text6 = re.sub(r\"\\W\",\" \", little_str) #(^a-zA-Z0-9)\n",
    "text2\n"
   ]
  },
  {
   "cell_type": "code",
   "execution_count": 7,
   "id": "7a3a3dda",
   "metadata": {},
   "outputs": [
    {
     "data": {
      "text/plain": [
       "'@@ Once when I was six years old I saw a magnificent picture in a book,\\n                called True Stories from Nature, about the primeval forest. ##\\n                It was a picture of a boa constrictor [in the act of swallowing an animal].\\n                Here is a copy of the drawing. In the book it said: Boa constrictors swallow\\n                their prey whole, without chewing it. {After that they are not able to move},\\n                and they sleep through the six months that they need for digestion.\\n                I pondered deeply, then, over the adventures of the jungle.\\n                And after some work with a colored pencil I succeeded in making my first drawing.\\n                My Drawing Number One. It looked like this:\\n                I showed my masterpiece to the grown−ups, and asked them whether the drawing\\n                frightened them. -_-_-_-_-_-_-_-_-\\n                https://books-library.net/files/books-library.online-12201041Ti6B3.pdf\\n                RT[2938asdfauej;;oijl2498==z2]'"
      ]
     },
     "execution_count": 7,
     "metadata": {},
     "output_type": "execute_result"
    }
   ],
   "source": [
    "pattern = re.sub(r\"@[A-Za-z0-9\\-\\.\\_]+\", '', little_str)\n",
    "pattern"
   ]
  },
  {
   "cell_type": "code",
   "execution_count": 9,
   "id": "c9171d17",
   "metadata": {},
   "outputs": [
    {
     "data": {
      "text/plain": [
       "'@@               ,\\n                    ,    . ##\\n                        [      ].\\n                      .     :   \\n                  ,   . {       },\\n                           .\\n                  , ,      .\\n                              .\\n                   .    :\\n                      −,      \\n                 . -_-_-_-_-_-_-_-_-\\n                ://-.//-.-.\\n                [;;==@]'"
      ]
     },
     "execution_count": 9,
     "metadata": {},
     "output_type": "execute_result"
    }
   ],
   "source": [
    "re.sub(r\"[a-zA-Z0-9]\",'', little_str)"
   ]
  }
 ],
 "metadata": {
  "kernelspec": {
   "display_name": "Python 3 (ipykernel)",
   "language": "python",
   "name": "python3"
  },
  "language_info": {
   "codemirror_mode": {
    "name": "ipython",
    "version": 3
   },
   "file_extension": ".py",
   "mimetype": "text/x-python",
   "name": "python",
   "nbconvert_exporter": "python",
   "pygments_lexer": "ipython3",
   "version": "3.9.7"
  }
 },
 "nbformat": 4,
 "nbformat_minor": 5
}
