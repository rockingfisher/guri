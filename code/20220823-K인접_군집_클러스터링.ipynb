{
 "cells": [
  {
   "cell_type": "code",
   "execution_count": null,
   "id": "9a436292",
   "metadata": {},
   "outputs": [],
   "source": [
    "import pandas as pd\n",
    "import numpy as np\n",
    "\n",
    "import folium\n",
    "from haversine import haversine, Unit\n",
    "from geopy.geocoders import Nominatim\n",
    "from folium.plugins import MarkerCluster"
   ]
  },
  {
   "cell_type": "code",
   "execution_count": null,
   "id": "d4f29ed5",
   "metadata": {},
   "outputs": [],
   "source": [
    "df_4000 = pd.read_excel('data/실거래가/06_4천주소_모든년모든분기2.xlsx', index_col=0)\n",
    "map = []\n",
    "\n",
    "for i in range(0, 18):\n",
    "    map.append(folium.Map(location=[37.555510798074794, 126.95256795474381], zoom_start=11))\n",
    "\n",
    "len(map)"
   ]
  },
  {
   "cell_type": "code",
   "execution_count": null,
   "id": "7f49475e",
   "metadata": {},
   "outputs": [],
   "source": [
    "df_4000"
   ]
  },
  {
   "cell_type": "markdown",
   "id": "2dd2bc35",
   "metadata": {},
   "source": [
    "for n in range(0, 18):\n",
    "    for i in range(len(df_4000)):\n",
    "        try:\n",
    "            if df_4000.iloc[i,4+n] == 0:\n",
    "                folium.Circle([df_4000.iloc[i,1], df_4000.iloc[i,2]], radius=100, color='red').add_to(map[n])\n",
    "            elif df_4000.iloc[i,4+n] == 1:\n",
    "                folium.Circle([df_4000.iloc[i,1], df_4000.iloc[i,2]], radius=100, color='darkviolet').add_to(map[n])\n",
    "            elif df_4000.iloc[i,4+n] == 2:\n",
    "                folium.Circle([df_4000.iloc[i,1], df_4000.iloc[i,2]], radius=100, color='yellow').add_to(map[n])\n",
    "            elif df_4000.iloc[i,4+n] == 3:\n",
    "                folium.Circle([df_4000.iloc[i,1], df_4000.iloc[i,2]], radius=100, color='dodgerblue').add_to(map[n])\n",
    "            else:\n",
    "                folium.Circle([df_4000.iloc[i,1], df_4000.iloc[i,2]], radius=100, color='black').add_to(map[n])\n",
    "        except:\n",
    "            pass"
   ]
  },
  {
   "cell_type": "code",
   "execution_count": null,
   "id": "d3abed90",
   "metadata": {},
   "outputs": [],
   "source": [
    "n = 0\n",
    "\n",
    "for i in range(len(df_4000)):\n",
    "        try:\n",
    "            if df_4000.iloc[i,3+n] == 0:\n",
    "                folium.Circle([df_4000.iloc[i,1], df_4000.iloc[i,2]], radius=100, color='red').add_to(map[n])\n",
    "            elif df_4000.iloc[i,3+n] == 1:\n",
    "                folium.Circle([df_4000.iloc[i,1], df_4000.iloc[i,2]], radius=100, color='darkviolet').add_to(map[n])\n",
    "            elif df_4000.iloc[i,3+n] == 2:\n",
    "                folium.Circle([df_4000.iloc[i,1], df_4000.iloc[i,2]], radius=100, color='yellow').add_to(map[n])\n",
    "            elif df_4000.iloc[i,3+n] == 3:\n",
    "                folium.Circle([df_4000.iloc[i,1], df_4000.iloc[i,2]], radius=100, color='dodgerblue').add_to(map[n])\n",
    "            else:\n",
    "                folium.Circle([df_4000.iloc[i,1], df_4000.iloc[i,2]], radius=100, color='black').add_to(map[n])\n",
    "        except:\n",
    "            pass"
   ]
  },
  {
   "cell_type": "code",
   "execution_count": null,
   "id": "52097fff",
   "metadata": {
    "scrolled": false
   },
   "outputs": [],
   "source": [
    "map[0]"
   ]
  },
  {
   "cell_type": "code",
   "execution_count": null,
   "id": "d8ed7b07",
   "metadata": {},
   "outputs": [],
   "source": [
    "n = 1\n",
    "\n",
    "for i in range(len(df_4000)):\n",
    "        try:\n",
    "            if df_4000.iloc[i,3+n] == 0:\n",
    "                folium.Circle([df_4000.iloc[i,1], df_4000.iloc[i,2]], radius=100, color='red').add_to(map[n])\n",
    "            elif df_4000.iloc[i,3+n] == 1:\n",
    "                folium.Circle([df_4000.iloc[i,1], df_4000.iloc[i,2]], radius=100, color='darkviolet').add_to(map[n])\n",
    "            elif df_4000.iloc[i,3+n] == 2:\n",
    "                folium.Circle([df_4000.iloc[i,1], df_4000.iloc[i,2]], radius=100, color='dodgerblue').add_to(map[n])\n",
    "            elif df_4000.iloc[i,3+n] == 3:\n",
    "                folium.Circle([df_4000.iloc[i,1], df_4000.iloc[i,2]], radius=100, color='black').add_to(map[n])\n",
    "            else:\n",
    "                folium.Circle([df_4000.iloc[i,1], df_4000.iloc[i,2]], radius=100, color='yellow').add_to(map[n])\n",
    "        except:\n",
    "            pass"
   ]
  },
  {
   "cell_type": "code",
   "execution_count": null,
   "id": "746f9fb2",
   "metadata": {
    "scrolled": false
   },
   "outputs": [],
   "source": [
    "map[1]"
   ]
  },
  {
   "cell_type": "code",
   "execution_count": null,
   "id": "41a3bd81",
   "metadata": {},
   "outputs": [],
   "source": [
    "n = 2\n",
    "\n",
    "for i in range(len(df_4000)):\n",
    "        try:\n",
    "            if df_4000.iloc[i,3+n] == 0:\n",
    "                folium.Circle([df_4000.iloc[i,1], df_4000.iloc[i,2]], radius=100, color='red').add_to(map[n])\n",
    "            elif df_4000.iloc[i,3+n] == 1:\n",
    "                folium.Circle([df_4000.iloc[i,1], df_4000.iloc[i,2]], radius=100, color='dodgerblue').add_to(map[n])\n",
    "            elif df_4000.iloc[i,3+n] == 2:\n",
    "                folium.Circle([df_4000.iloc[i,1], df_4000.iloc[i,2]], radius=100, color='yellow').add_to(map[n])\n",
    "            elif df_4000.iloc[i,3+n] == 3:\n",
    "                folium.Circle([df_4000.iloc[i,1], df_4000.iloc[i,2]], radius=100, color='black').add_to(map[n])\n",
    "            else:\n",
    "                folium.Circle([df_4000.iloc[i,1], df_4000.iloc[i,2]], radius=100, color='darkviolet').add_to(map[n])\n",
    "        except:\n",
    "            pass"
   ]
  },
  {
   "cell_type": "code",
   "execution_count": null,
   "id": "652b3a96",
   "metadata": {
    "scrolled": false
   },
   "outputs": [],
   "source": [
    "map[2]"
   ]
  },
  {
   "cell_type": "code",
   "execution_count": null,
   "id": "e4be736d",
   "metadata": {},
   "outputs": [],
   "source": [
    "n = 3\n",
    "\n",
    "for i in range(len(df_4000)):\n",
    "        try:\n",
    "            if df_4000.iloc[i,3+n] == 0:\n",
    "                folium.Circle([df_4000.iloc[i,1], df_4000.iloc[i,2]], radius=100, color='red').add_to(map[n])\n",
    "            elif df_4000.iloc[i,3+n] == 1:\n",
    "                folium.Circle([df_4000.iloc[i,1], df_4000.iloc[i,2]], radius=100, color='dodgerblue').add_to(map[n])\n",
    "            elif df_4000.iloc[i,3+n] == 2:\n",
    "                folium.Circle([df_4000.iloc[i,1], df_4000.iloc[i,2]], radius=100, color='darkviolet').add_to(map[n])\n",
    "            elif df_4000.iloc[i,3+n] == 3:\n",
    "                folium.Circle([df_4000.iloc[i,1], df_4000.iloc[i,2]], radius=100, color='yellow').add_to(map[n])\n",
    "            else:\n",
    "                folium.Circle([df_4000.iloc[i,1], df_4000.iloc[i,2]], radius=100, color='black').add_to(map[n])\n",
    "        except:\n",
    "            pass"
   ]
  },
  {
   "cell_type": "code",
   "execution_count": null,
   "id": "c5af927e",
   "metadata": {
    "scrolled": false
   },
   "outputs": [],
   "source": [
    "map[3]"
   ]
  },
  {
   "cell_type": "code",
   "execution_count": null,
   "id": "caba9e32",
   "metadata": {},
   "outputs": [],
   "source": [
    "n = 4\n",
    "\n",
    "for i in range(len(df_4000)):\n",
    "        try:\n",
    "            if df_4000.iloc[i,3+n] == 0:\n",
    "                folium.Circle([df_4000.iloc[i,1], df_4000.iloc[i,2]], radius=100, color='black').add_to(map[n])\n",
    "            elif df_4000.iloc[i,3+n] == 1:\n",
    "                folium.Circle([df_4000.iloc[i,1], df_4000.iloc[i,2]], radius=100, color='dodgerblue').add_to(map[n])\n",
    "            elif df_4000.iloc[i,3+n] == 2:\n",
    "                folium.Circle([df_4000.iloc[i,1], df_4000.iloc[i,2]], radius=100, color='darkviolet').add_to(map[n])\n",
    "            elif df_4000.iloc[i,3+n] == 3:\n",
    "                folium.Circle([df_4000.iloc[i,1], df_4000.iloc[i,2]], radius=100, color='red').add_to(map[n])\n",
    "            else:\n",
    "                folium.Circle([df_4000.iloc[i,1], df_4000.iloc[i,2]], radius=100, color='yellow').add_to(map[n])\n",
    "        except:\n",
    "            pass"
   ]
  },
  {
   "cell_type": "code",
   "execution_count": null,
   "id": "63984051",
   "metadata": {
    "scrolled": false
   },
   "outputs": [],
   "source": [
    "map[4]"
   ]
  },
  {
   "cell_type": "code",
   "execution_count": null,
   "id": "13d7e28a",
   "metadata": {},
   "outputs": [],
   "source": [
    "n = 5\n",
    "\n",
    "for i in range(len(df_4000)):\n",
    "        try:\n",
    "            if df_4000.iloc[i,3+n] == 0:\n",
    "                folium.Circle([df_4000.iloc[i,1], df_4000.iloc[i,2]], radius=100, color='black').add_to(map[n])\n",
    "            elif df_4000.iloc[i,3+n] == 1:\n",
    "                folium.Circle([df_4000.iloc[i,1], df_4000.iloc[i,2]], radius=100, color='darkviolet').add_to(map[n])\n",
    "            elif df_4000.iloc[i,3+n] == 2:\n",
    "                folium.Circle([df_4000.iloc[i,1], df_4000.iloc[i,2]], radius=100, color='dodgerblue').add_to(map[n])\n",
    "            elif df_4000.iloc[i,3+n] == 3:\n",
    "                folium.Circle([df_4000.iloc[i,1], df_4000.iloc[i,2]], radius=100, color='red').add_to(map[n])\n",
    "            else:\n",
    "                folium.Circle([df_4000.iloc[i,1], df_4000.iloc[i,2]], radius=100, color='yellow').add_to(map[n])\n",
    "        except:\n",
    "            pass"
   ]
  },
  {
   "cell_type": "code",
   "execution_count": null,
   "id": "a245e4b3",
   "metadata": {
    "scrolled": false
   },
   "outputs": [],
   "source": [
    "map[5]"
   ]
  },
  {
   "cell_type": "code",
   "execution_count": null,
   "id": "b5779578",
   "metadata": {},
   "outputs": [],
   "source": [
    "n = 6\n",
    "\n",
    "for i in range(len(df_4000)):\n",
    "        try:\n",
    "            if df_4000.iloc[i,3+n] == 0:\n",
    "                folium.Circle([df_4000.iloc[i,1], df_4000.iloc[i,2]], radius=100, color='black').add_to(map[n])\n",
    "            elif df_4000.iloc[i,3+n] == 1:\n",
    "                folium.Circle([df_4000.iloc[i,1], df_4000.iloc[i,2]], radius=100, color='darkviolet').add_to(map[n])\n",
    "            elif df_4000.iloc[i,3+n] == 2:\n",
    "                folium.Circle([df_4000.iloc[i,1], df_4000.iloc[i,2]], radius=100, color='yellow').add_to(map[n])\n",
    "            elif df_4000.iloc[i,3+n] == 3:\n",
    "                folium.Circle([df_4000.iloc[i,1], df_4000.iloc[i,2]], radius=100, color='red').add_to(map[n])\n",
    "            else:\n",
    "                folium.Circle([df_4000.iloc[i,1], df_4000.iloc[i,2]], radius=100, color='dodgerblue').add_to(map[n])\n",
    "        except:\n",
    "            pass"
   ]
  },
  {
   "cell_type": "code",
   "execution_count": null,
   "id": "8fb3dd93",
   "metadata": {
    "scrolled": false
   },
   "outputs": [],
   "source": [
    "map[6]"
   ]
  },
  {
   "cell_type": "code",
   "execution_count": null,
   "id": "43e4ea48",
   "metadata": {},
   "outputs": [],
   "source": [
    "n = 7\n",
    "\n",
    "for i in range(len(df_4000)):\n",
    "        try:\n",
    "            if df_4000.iloc[i,3+n] == 0:\n",
    "                folium.Circle([df_4000.iloc[i,1], df_4000.iloc[i,2]], radius=100, color='red').add_to(map[n])\n",
    "            elif df_4000.iloc[i,3+n] == 1:\n",
    "                folium.Circle([df_4000.iloc[i,1], df_4000.iloc[i,2]], radius=100, color='darkviolet').add_to(map[n])\n",
    "            elif df_4000.iloc[i,3+n] == 2:\n",
    "                folium.Circle([df_4000.iloc[i,1], df_4000.iloc[i,2]], radius=100, color='dodgerblue').add_to(map[n])\n",
    "            elif df_4000.iloc[i,3+n] == 3:\n",
    "                folium.Circle([df_4000.iloc[i,1], df_4000.iloc[i,2]], radius=100, color='black').add_to(map[n])\n",
    "            else:\n",
    "                folium.Circle([df_4000.iloc[i,1], df_4000.iloc[i,2]], radius=100, color='yellow').add_to(map[n])\n",
    "        except:\n",
    "            pass"
   ]
  },
  {
   "cell_type": "code",
   "execution_count": null,
   "id": "f6ff256e",
   "metadata": {
    "scrolled": false
   },
   "outputs": [],
   "source": [
    "map[7]"
   ]
  },
  {
   "cell_type": "code",
   "execution_count": null,
   "id": "b31d6072",
   "metadata": {},
   "outputs": [],
   "source": [
    "n = 8\n",
    "\n",
    "for i in range(len(df_4000)):\n",
    "        try:\n",
    "            if df_4000.iloc[i,3+n] == 0:\n",
    "                folium.Circle([df_4000.iloc[i,1], df_4000.iloc[i,2]], radius=100, color='red').add_to(map[n])\n",
    "            elif df_4000.iloc[i,3+n] == 1:\n",
    "                folium.Circle([df_4000.iloc[i,1], df_4000.iloc[i,2]], radius=100, color='darkviolet').add_to(map[n])\n",
    "            elif df_4000.iloc[i,3+n] == 2:\n",
    "                folium.Circle([df_4000.iloc[i,1], df_4000.iloc[i,2]], radius=100, color='yellow').add_to(map[n])\n",
    "            elif df_4000.iloc[i,3+n] == 3:\n",
    "                folium.Circle([df_4000.iloc[i,1], df_4000.iloc[i,2]], radius=100, color='black').add_to(map[n])\n",
    "            else:\n",
    "                folium.Circle([df_4000.iloc[i,1], df_4000.iloc[i,2]], radius=100, color='dodgerblue').add_to(map[n])\n",
    "        except:\n",
    "            pass"
   ]
  },
  {
   "cell_type": "code",
   "execution_count": null,
   "id": "b1ff19a3",
   "metadata": {
    "scrolled": false
   },
   "outputs": [],
   "source": [
    "map[8]"
   ]
  },
  {
   "cell_type": "code",
   "execution_count": null,
   "id": "1e207971",
   "metadata": {},
   "outputs": [],
   "source": [
    "n = 9\n",
    "\n",
    "for i in range(len(df_4000)):\n",
    "        try:\n",
    "            if df_4000.iloc[i,3+n] == 0:\n",
    "                folium.Circle([df_4000.iloc[i,1], df_4000.iloc[i,2]], radius=100, color='black').add_to(map[n])\n",
    "            elif df_4000.iloc[i,3+n] == 1:\n",
    "                folium.Circle([df_4000.iloc[i,1], df_4000.iloc[i,2]], radius=100, color='darkviolet').add_to(map[n])\n",
    "            elif df_4000.iloc[i,3+n] == 2:\n",
    "                folium.Circle([df_4000.iloc[i,1], df_4000.iloc[i,2]], radius=100, color='red').add_to(map[n])\n",
    "            elif df_4000.iloc[i,3+n] == 3:\n",
    "                folium.Circle([df_4000.iloc[i,1], df_4000.iloc[i,2]], radius=100, color='dodgerblue').add_to(map[n])\n",
    "            else:\n",
    "                folium.Circle([df_4000.iloc[i,1], df_4000.iloc[i,2]], radius=100, color='yellow').add_to(map[n])\n",
    "        except:\n",
    "            pass"
   ]
  },
  {
   "cell_type": "code",
   "execution_count": null,
   "id": "da88822a",
   "metadata": {
    "scrolled": false
   },
   "outputs": [],
   "source": [
    "map[9]"
   ]
  },
  {
   "cell_type": "code",
   "execution_count": null,
   "id": "9dc53acd",
   "metadata": {},
   "outputs": [],
   "source": [
    "n = 10\n",
    "\n",
    "for i in range(len(df_4000)):\n",
    "        try:\n",
    "            if df_4000.iloc[i,3+n] == 0:\n",
    "                folium.Circle([df_4000.iloc[i,1], df_4000.iloc[i,2]], radius=100, color='black').add_to(map[n])\n",
    "            elif df_4000.iloc[i,3+n] == 1:\n",
    "                folium.Circle([df_4000.iloc[i,1], df_4000.iloc[i,2]], radius=100, color='red').add_to(map[n])\n",
    "            elif df_4000.iloc[i,3+n] == 2:\n",
    "                folium.Circle([df_4000.iloc[i,1], df_4000.iloc[i,2]], radius=100, color='yellow').add_to(map[n])\n",
    "            elif df_4000.iloc[i,3+n] == 3:\n",
    "                folium.Circle([df_4000.iloc[i,1], df_4000.iloc[i,2]], radius=100, color='dodgerblue').add_to(map[n])\n",
    "            else:\n",
    "                folium.Circle([df_4000.iloc[i,1], df_4000.iloc[i,2]], radius=100, color='darkviolet').add_to(map[n])\n",
    "        except:\n",
    "            pass"
   ]
  },
  {
   "cell_type": "code",
   "execution_count": null,
   "id": "050031a0",
   "metadata": {
    "scrolled": false
   },
   "outputs": [],
   "source": [
    "map[10]"
   ]
  },
  {
   "cell_type": "code",
   "execution_count": null,
   "id": "8b5d3c5c",
   "metadata": {},
   "outputs": [],
   "source": [
    "n = 11\n",
    "\n",
    "for i in range(len(df_4000)):\n",
    "        try:\n",
    "            if df_4000.iloc[i,3+n] == 0:\n",
    "                folium.Circle([df_4000.iloc[i,1], df_4000.iloc[i,2]], radius=100, color='red').add_to(map[n])\n",
    "            elif df_4000.iloc[i,3+n] == 1:\n",
    "                folium.Circle([df_4000.iloc[i,1], df_4000.iloc[i,2]], radius=100, color='dodgerblue').add_to(map[n])\n",
    "            elif df_4000.iloc[i,3+n] == 2:\n",
    "                folium.Circle([df_4000.iloc[i,1], df_4000.iloc[i,2]], radius=100, color='black').add_to(map[n])\n",
    "            elif df_4000.iloc[i,3+n] == 3:\n",
    "                folium.Circle([df_4000.iloc[i,1], df_4000.iloc[i,2]], radius=100, color='yellow').add_to(map[n])\n",
    "            else:\n",
    "                folium.Circle([df_4000.iloc[i,1], df_4000.iloc[i,2]], radius=100, color='darkviolet').add_to(map[n])\n",
    "        except:\n",
    "            pass"
   ]
  },
  {
   "cell_type": "code",
   "execution_count": null,
   "id": "6acfc7d7",
   "metadata": {
    "scrolled": false
   },
   "outputs": [],
   "source": [
    "map[11]"
   ]
  },
  {
   "cell_type": "code",
   "execution_count": null,
   "id": "b1223cb4",
   "metadata": {},
   "outputs": [],
   "source": [
    "n = 12\n",
    "\n",
    "for i in range(len(df_4000)):\n",
    "        try:\n",
    "            if df_4000.iloc[i,3+n] == 0:\n",
    "                folium.Circle([df_4000.iloc[i,1], df_4000.iloc[i,2]], radius=100, color='red').add_to(map[n])\n",
    "            elif df_4000.iloc[i,3+n] == 1:\n",
    "                folium.Circle([df_4000.iloc[i,1], df_4000.iloc[i,2]], radius=100, color='dodgerblue').add_to(map[n])\n",
    "            elif df_4000.iloc[i,3+n] == 2:\n",
    "                folium.Circle([df_4000.iloc[i,1], df_4000.iloc[i,2]], radius=100, color='black').add_to(map[n])\n",
    "            elif df_4000.iloc[i,3+n] == 3:\n",
    "                folium.Circle([df_4000.iloc[i,1], df_4000.iloc[i,2]], radius=100, color='yellow').add_to(map[n])\n",
    "            else:\n",
    "                folium.Circle([df_4000.iloc[i,1], df_4000.iloc[i,2]], radius=100, color='darkviolet').add_to(map[n])\n",
    "        except:\n",
    "            pass"
   ]
  },
  {
   "cell_type": "code",
   "execution_count": null,
   "id": "5fd5b2ee",
   "metadata": {
    "scrolled": false
   },
   "outputs": [],
   "source": [
    "map[12]"
   ]
  },
  {
   "cell_type": "code",
   "execution_count": null,
   "id": "6734020a",
   "metadata": {},
   "outputs": [],
   "source": [
    "n = 13\n",
    "\n",
    "for i in range(len(df_4000)):\n",
    "        try:\n",
    "            if df_4000.iloc[i,3+n] == 0:\n",
    "                folium.Circle([df_4000.iloc[i,1], df_4000.iloc[i,2]], radius=100, color='red').add_to(map[n])\n",
    "            elif df_4000.iloc[i,3+n] == 1:\n",
    "                folium.Circle([df_4000.iloc[i,1], df_4000.iloc[i,2]], radius=100, color='dodgerblue').add_to(map[n])\n",
    "            elif df_4000.iloc[i,3+n] == 2:\n",
    "                folium.Circle([df_4000.iloc[i,1], df_4000.iloc[i,2]], radius=100, color='yellow').add_to(map[n])\n",
    "            elif df_4000.iloc[i,3+n] == 3:\n",
    "                folium.Circle([df_4000.iloc[i,1], df_4000.iloc[i,2]], radius=100, color='darkviolet').add_to(map[n])\n",
    "            else:\n",
    "                folium.Circle([df_4000.iloc[i,1], df_4000.iloc[i,2]], radius=100, color='black').add_to(map[n])\n",
    "        except:\n",
    "            pass"
   ]
  },
  {
   "cell_type": "code",
   "execution_count": null,
   "id": "01f0b148",
   "metadata": {
    "scrolled": false
   },
   "outputs": [],
   "source": [
    "map[13]"
   ]
  },
  {
   "cell_type": "code",
   "execution_count": null,
   "id": "1153429a",
   "metadata": {},
   "outputs": [],
   "source": [
    "n = 14\n",
    "\n",
    "for i in range(len(df_4000)):\n",
    "        try:\n",
    "            if df_4000.iloc[i,3+n] == 0:\n",
    "                folium.Circle([df_4000.iloc[i,1], df_4000.iloc[i,2]], radius=100, color='red').add_to(map[n])\n",
    "            elif df_4000.iloc[i,3+n] == 1:\n",
    "                folium.Circle([df_4000.iloc[i,1], df_4000.iloc[i,2]], radius=100, color='dodgerblue').add_to(map[n])\n",
    "            elif df_4000.iloc[i,3+n] == 2:\n",
    "                folium.Circle([df_4000.iloc[i,1], df_4000.iloc[i,2]], radius=100, color='black').add_to(map[n])\n",
    "            elif df_4000.iloc[i,3+n] == 3:\n",
    "                folium.Circle([df_4000.iloc[i,1], df_4000.iloc[i,2]], radius=100, color='darkviolet').add_to(map[n])\n",
    "            else:\n",
    "                folium.Circle([df_4000.iloc[i,1], df_4000.iloc[i,2]], radius=100, color='yellow').add_to(map[n])\n",
    "        except:\n",
    "            pass"
   ]
  },
  {
   "cell_type": "code",
   "execution_count": null,
   "id": "9b716acd",
   "metadata": {
    "scrolled": false
   },
   "outputs": [],
   "source": [
    "map[14]"
   ]
  },
  {
   "cell_type": "code",
   "execution_count": null,
   "id": "ab08e73f",
   "metadata": {},
   "outputs": [],
   "source": [
    "n = 15\n",
    "\n",
    "for i in range(len(df_4000)):\n",
    "        try:\n",
    "            if df_4000.iloc[i,3+n] == 0:\n",
    "                folium.Circle([df_4000.iloc[i,1], df_4000.iloc[i,2]], radius=100, color='red').add_to(map[n])\n",
    "            elif df_4000.iloc[i,3+n] == 1:\n",
    "                folium.Circle([df_4000.iloc[i,1], df_4000.iloc[i,2]], radius=100, color='darkviolet').add_to(map[n])\n",
    "            elif df_4000.iloc[i,3+n] == 2:\n",
    "                folium.Circle([df_4000.iloc[i,1], df_4000.iloc[i,2]], radius=100, color='black').add_to(map[n])\n",
    "            elif df_4000.iloc[i,3+n] == 3:\n",
    "                folium.Circle([df_4000.iloc[i,1], df_4000.iloc[i,2]], radius=100, color='dodgerblue').add_to(map[n])\n",
    "            else:\n",
    "                folium.Circle([df_4000.iloc[i,1], df_4000.iloc[i,2]], radius=100, color='yellow').add_to(map[n])\n",
    "        except:\n",
    "            pass"
   ]
  },
  {
   "cell_type": "code",
   "execution_count": null,
   "id": "339f1104",
   "metadata": {
    "scrolled": false
   },
   "outputs": [],
   "source": [
    "map[15]"
   ]
  },
  {
   "cell_type": "code",
   "execution_count": null,
   "id": "1157a817",
   "metadata": {},
   "outputs": [],
   "source": [
    "n = 16\n",
    "\n",
    "for i in range(len(df_4000)):\n",
    "        try:\n",
    "            if df_4000.iloc[i,3+n] == 0:\n",
    "                folium.Circle([df_4000.iloc[i,1], df_4000.iloc[i,2]], radius=100, color='black').add_to(map[n])\n",
    "            elif df_4000.iloc[i,3+n] == 1:\n",
    "                folium.Circle([df_4000.iloc[i,1], df_4000.iloc[i,2]], radius=100, color='red').add_to(map[n])\n",
    "            elif df_4000.iloc[i,3+n] == 2:\n",
    "                folium.Circle([df_4000.iloc[i,1], df_4000.iloc[i,2]], radius=100, color='dodgerblue').add_to(map[n])\n",
    "            elif df_4000.iloc[i,3+n] == 3:\n",
    "                folium.Circle([df_4000.iloc[i,1], df_4000.iloc[i,2]], radius=100, color='darkviolet').add_to(map[n])\n",
    "            else:\n",
    "                folium.Circle([df_4000.iloc[i,1], df_4000.iloc[i,2]], radius=100, color='yellow').add_to(map[n])\n",
    "        except:\n",
    "            pass"
   ]
  },
  {
   "cell_type": "code",
   "execution_count": null,
   "id": "4e3cfcce",
   "metadata": {},
   "outputs": [],
   "source": [
    "map[16]"
   ]
  },
  {
   "cell_type": "code",
   "execution_count": null,
   "id": "50afa365",
   "metadata": {},
   "outputs": [],
   "source": [
    "n = 17\n",
    "\n",
    "for i in range(len(df_4000)):\n",
    "        try:\n",
    "            if df_4000.iloc[i,3+n] == 0:\n",
    "                folium.Circle([df_4000.iloc[i,1], df_4000.iloc[i,2]], radius=100, color='black').add_to(map[n])\n",
    "            elif df_4000.iloc[i,3+n] == 1:\n",
    "                folium.Circle([df_4000.iloc[i,1], df_4000.iloc[i,2]], radius=100, color='darkviolet').add_to(map[n])\n",
    "            elif df_4000.iloc[i,3+n] == 2:\n",
    "                folium.Circle([df_4000.iloc[i,1], df_4000.iloc[i,2]], radius=100, color='yellow').add_to(map[n])\n",
    "            elif df_4000.iloc[i,3+n] == 3:\n",
    "                folium.Circle([df_4000.iloc[i,1], df_4000.iloc[i,2]], radius=100, color='red').add_to(map[n])\n",
    "            else:\n",
    "                folium.Circle([df_4000.iloc[i,1], df_4000.iloc[i,2]], radius=100, color='dodgerblue').add_to(map[n])\n",
    "        except:\n",
    "            pass"
   ]
  },
  {
   "cell_type": "code",
   "execution_count": null,
   "id": "e0844dbd",
   "metadata": {},
   "outputs": [],
   "source": [
    "map[17]"
   ]
  }
 ],
 "metadata": {
  "kernelspec": {
   "display_name": "Python 3 (ipykernel)",
   "language": "python",
   "name": "python3"
  },
  "language_info": {
   "codemirror_mode": {
    "name": "ipython",
    "version": 3
   },
   "file_extension": ".py",
   "mimetype": "text/x-python",
   "name": "python",
   "nbconvert_exporter": "python",
   "pygments_lexer": "ipython3",
   "version": "3.9.7"
  }
 },
 "nbformat": 4,
 "nbformat_minor": 5
}
