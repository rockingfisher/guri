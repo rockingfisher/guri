{
 "cells": [
  {
   "cell_type": "code",
   "execution_count": 1,
   "metadata": {},
   "outputs": [],
   "source": [
    "from haversine import haversine, Unit\n",
    "from geopy.geocoders import Nominatim\n",
    "\n",
    "import numpy as np\n",
    "import pandas as pd\n",
    "import os\n",
    "import re"
   ]
  },
  {
   "cell_type": "code",
   "execution_count": 2,
   "metadata": {},
   "outputs": [
    {
     "data": {
      "text/plain": [
       "0              경기도 부천시 역곡로 1\n",
       "1            경기도 부천시 경인로 363\n",
       "2              경기도 부천시 부천로 1\n",
       "3             경기도 부천시 중동로 73\n",
       "4            경기도 부천시 송내대로 43\n",
       "               ...          \n",
       "69     충청남도 천안시 서북구 쌍용19로 20\n",
       "70       충청남도 아산시 배방읍 희망로 90\n",
       "71    충청남도 아산시 배방읍 온천대로 1967\n",
       "72        충청남도 아산시 온천대로 1496\n",
       "73       충청남도 아산시 신창면 행목로 50\n",
       "Name: 2, Length: 74, dtype: object"
      ]
     },
     "execution_count": 2,
     "metadata": {},
     "output_type": "execute_result"
    }
   ],
   "source": [
    "ilho = pd.read_excel('data/역_1호선.xlsx', header=None)\n",
    "del ilho[0]\n",
    "address = ilho[2]\n",
    "address"
   ]
  },
  {
   "cell_type": "code",
   "execution_count": 3,
   "metadata": {},
   "outputs": [
    {
     "data": {
      "text/html": [
       "<div>\n",
       "<style scoped>\n",
       "    .dataframe tbody tr th:only-of-type {\n",
       "        vertical-align: middle;\n",
       "    }\n",
       "\n",
       "    .dataframe tbody tr th {\n",
       "        vertical-align: top;\n",
       "    }\n",
       "\n",
       "    .dataframe thead th {\n",
       "        text-align: right;\n",
       "    }\n",
       "</style>\n",
       "<table border=\"1\" class=\"dataframe\">\n",
       "  <thead>\n",
       "    <tr style=\"text-align: right;\">\n",
       "      <th></th>\n",
       "      <th>역명</th>\n",
       "      <th>위도</th>\n",
       "      <th>경도</th>\n",
       "    </tr>\n",
       "  </thead>\n",
       "  <tbody>\n",
       "    <tr>\n",
       "      <th>0</th>\n",
       "      <td>역곡</td>\n",
       "      <td>37.485219</td>\n",
       "      <td>126.811811</td>\n",
       "    </tr>\n",
       "    <tr>\n",
       "      <th>1</th>\n",
       "      <td>소사</td>\n",
       "      <td>37.482328</td>\n",
       "      <td>126.791652</td>\n",
       "    </tr>\n",
       "    <tr>\n",
       "      <th>2</th>\n",
       "      <td>부천</td>\n",
       "      <td>37.484037</td>\n",
       "      <td>126.782645</td>\n",
       "    </tr>\n",
       "    <tr>\n",
       "      <th>3</th>\n",
       "      <td>중동</td>\n",
       "      <td>37.498509</td>\n",
       "      <td>126.768093</td>\n",
       "    </tr>\n",
       "    <tr>\n",
       "      <th>4</th>\n",
       "      <td>송내</td>\n",
       "      <td>37.529562</td>\n",
       "      <td>126.76092</td>\n",
       "    </tr>\n",
       "    <tr>\n",
       "      <th>...</th>\n",
       "      <td>...</td>\n",
       "      <td>...</td>\n",
       "      <td>...</td>\n",
       "    </tr>\n",
       "    <tr>\n",
       "      <th>69</th>\n",
       "      <td>쌍용</td>\n",
       "      <td>36.793718</td>\n",
       "      <td>127.121291</td>\n",
       "    </tr>\n",
       "    <tr>\n",
       "      <th>70</th>\n",
       "      <td>아산</td>\n",
       "      <td>충청남도 아산시 배방읍 희망로 90</td>\n",
       "      <td>충청남도 아산시 배방읍 희망로 90</td>\n",
       "    </tr>\n",
       "    <tr>\n",
       "      <th>71</th>\n",
       "      <td>배방</td>\n",
       "      <td>36.777699</td>\n",
       "      <td>127.05299</td>\n",
       "    </tr>\n",
       "    <tr>\n",
       "      <th>72</th>\n",
       "      <td>온양온천</td>\n",
       "      <td>36.780553</td>\n",
       "      <td>127.003156</td>\n",
       "    </tr>\n",
       "    <tr>\n",
       "      <th>73</th>\n",
       "      <td>신창</td>\n",
       "      <td>36.769788</td>\n",
       "      <td>126.951823</td>\n",
       "    </tr>\n",
       "  </tbody>\n",
       "</table>\n",
       "<p>74 rows × 3 columns</p>\n",
       "</div>"
      ],
      "text/plain": [
       "      역명                   위도                   경도\n",
       "0     역곡            37.485219           126.811811\n",
       "1     소사            37.482328           126.791652\n",
       "2     부천            37.484037           126.782645\n",
       "3     중동            37.498509           126.768093\n",
       "4     송내            37.529562            126.76092\n",
       "..   ...                  ...                  ...\n",
       "69    쌍용            36.793718           127.121291\n",
       "70    아산  충청남도 아산시 배방읍 희망로 90  충청남도 아산시 배방읍 희망로 90\n",
       "71    배방            36.777699            127.05299\n",
       "72  온양온천            36.780553           127.003156\n",
       "73    신창            36.769788           126.951823\n",
       "\n",
       "[74 rows x 3 columns]"
      ]
     },
     "execution_count": 3,
     "metadata": {},
     "output_type": "execute_result"
    }
   ],
   "source": [
    "geo_local = Nominatim(user_agent='South Korea') # 지역선택\n",
    "\n",
    "def geocoding(address): \n",
    "    geo = geo_local.geocode(address)\n",
    "    x_y = [geo.latitude, geo.longitude]\n",
    "    return x_y\n",
    "\n",
    "latitude = []\n",
    "longitude = []\n",
    "exception_addr = []\n",
    "\n",
    "for i in address:\n",
    "    try:\n",
    "        latitude.append(geocoding(i)[0])\n",
    "        longitude.append(geocoding(i)[1])\n",
    "    except:\n",
    "        latitude.append(i)\n",
    "        longitude.append(i)\n",
    "        exception_addr.append(i)\n",
    "\n",
    "address_df = pd.DataFrame({'역명':ilho[1], '위도':latitude,'경도':longitude})\n",
    "address_df"
   ]
  },
  {
   "cell_type": "code",
   "execution_count": 5,
   "metadata": {},
   "outputs": [],
   "source": [
    "address_df.to_excel('data/ilho.xlsx')"
   ]
  },
  {
   "cell_type": "code",
   "execution_count": null,
   "metadata": {},
   "outputs": [],
   "source": []
  }
 ],
 "metadata": {
  "kernelspec": {
   "display_name": "Python 3.9.7 ('base')",
   "language": "python",
   "name": "python3"
  },
  "language_info": {
   "codemirror_mode": {
    "name": "ipython",
    "version": 3
   },
   "file_extension": ".py",
   "mimetype": "text/x-python",
   "name": "python",
   "nbconvert_exporter": "python",
   "pygments_lexer": "ipython3",
   "version": "3.9.7"
  },
  "orig_nbformat": 4,
  "vscode": {
   "interpreter": {
    "hash": "d1a22bee82113af30c67e10395777900c3f9ec76f1bd843ee7063aea4f4c959c"
   }
  }
 },
 "nbformat": 4,
 "nbformat_minor": 2
}
