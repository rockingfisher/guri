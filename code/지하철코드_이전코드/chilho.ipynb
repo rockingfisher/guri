{
 "cells": [
  {
   "cell_type": "code",
   "execution_count": 2,
   "metadata": {},
   "outputs": [],
   "source": [
    "from haversine import haversine, Unit\n",
    "from geopy.geocoders import Nominatim\n",
    "\n",
    "import numpy as np\n",
    "import pandas as pd\n",
    "import os\n",
    "import re"
   ]
  },
  {
   "cell_type": "code",
   "execution_count": 9,
   "metadata": {},
   "outputs": [
    {
     "data": {
      "text/plain": [
       "0          경기도 의정부시 동일로 121\n",
       "1        경기도 부천시 길주로 지하 626\n",
       "2        경기도 부천시 길주로 지하 502\n",
       "3        경기도 부천시 길주로 지하 406\n",
       "4        경기도 부천시 길주로 지하 314\n",
       "5        경기도 부천시 길주로 지하 202\n",
       "6        경기도 부천시 길주로 지하 104\n",
       "7      인천광역시 부평구 길주로 지하 713\n",
       "8      인천광역시 부평구 길주로 지하 623\n",
       "9      인천광역시 부평구 길주로 지하 527\n",
       "10    인천광역시 부평구 길주로 지하 379 \n",
       "11         인천광역시 서구 가석로 257\n",
       "Name: 2, dtype: object"
      ]
     },
     "execution_count": 9,
     "metadata": {},
     "output_type": "execute_result"
    }
   ],
   "source": [
    "chilho = pd.read_excel('data/역_7호선.xlsx', header=None)\n",
    "del chilho[0]\n",
    "chilho.dropna(axis=0, inplace=True)\n",
    "address = chilho[2]\n",
    "address"
   ]
  },
  {
   "cell_type": "code",
   "execution_count": 10,
   "metadata": {},
   "outputs": [
    {
     "data": {
      "text/html": [
       "<div>\n",
       "<style scoped>\n",
       "    .dataframe tbody tr th:only-of-type {\n",
       "        vertical-align: middle;\n",
       "    }\n",
       "\n",
       "    .dataframe tbody tr th {\n",
       "        vertical-align: top;\n",
       "    }\n",
       "\n",
       "    .dataframe thead th {\n",
       "        text-align: right;\n",
       "    }\n",
       "</style>\n",
       "<table border=\"1\" class=\"dataframe\">\n",
       "  <thead>\n",
       "    <tr style=\"text-align: right;\">\n",
       "      <th></th>\n",
       "      <th>역명</th>\n",
       "      <th>위도</th>\n",
       "      <th>경도</th>\n",
       "    </tr>\n",
       "  </thead>\n",
       "  <tbody>\n",
       "    <tr>\n",
       "      <th>0</th>\n",
       "      <td>장암</td>\n",
       "      <td>37.699974</td>\n",
       "      <td>127.052908</td>\n",
       "    </tr>\n",
       "    <tr>\n",
       "      <th>1</th>\n",
       "      <td>까치울</td>\n",
       "      <td>경기도 부천시 길주로 지하 626</td>\n",
       "      <td>경기도 부천시 길주로 지하 626</td>\n",
       "    </tr>\n",
       "    <tr>\n",
       "      <th>2</th>\n",
       "      <td>부천종합운동장</td>\n",
       "      <td>경기도 부천시 길주로 지하 502</td>\n",
       "      <td>경기도 부천시 길주로 지하 502</td>\n",
       "    </tr>\n",
       "    <tr>\n",
       "      <th>3</th>\n",
       "      <td>춘의</td>\n",
       "      <td>경기도 부천시 길주로 지하 406</td>\n",
       "      <td>경기도 부천시 길주로 지하 406</td>\n",
       "    </tr>\n",
       "    <tr>\n",
       "      <th>4</th>\n",
       "      <td>신중동</td>\n",
       "      <td>경기도 부천시 길주로 지하 314</td>\n",
       "      <td>경기도 부천시 길주로 지하 314</td>\n",
       "    </tr>\n",
       "    <tr>\n",
       "      <th>5</th>\n",
       "      <td>부천시청</td>\n",
       "      <td>경기도 부천시 길주로 지하 202</td>\n",
       "      <td>경기도 부천시 길주로 지하 202</td>\n",
       "    </tr>\n",
       "    <tr>\n",
       "      <th>6</th>\n",
       "      <td>상동</td>\n",
       "      <td>경기도 부천시 길주로 지하 104</td>\n",
       "      <td>경기도 부천시 길주로 지하 104</td>\n",
       "    </tr>\n",
       "    <tr>\n",
       "      <th>7</th>\n",
       "      <td>삼산체육관</td>\n",
       "      <td>인천광역시 부평구 길주로 지하 713</td>\n",
       "      <td>인천광역시 부평구 길주로 지하 713</td>\n",
       "    </tr>\n",
       "    <tr>\n",
       "      <th>8</th>\n",
       "      <td>굴포천</td>\n",
       "      <td>인천광역시 부평구 길주로 지하 623</td>\n",
       "      <td>인천광역시 부평구 길주로 지하 623</td>\n",
       "    </tr>\n",
       "    <tr>\n",
       "      <th>9</th>\n",
       "      <td>부평구청</td>\n",
       "      <td>인천광역시 부평구 길주로 지하 527</td>\n",
       "      <td>인천광역시 부평구 길주로 지하 527</td>\n",
       "    </tr>\n",
       "    <tr>\n",
       "      <th>10</th>\n",
       "      <td>산곡</td>\n",
       "      <td>인천광역시 부평구 길주로 지하 379</td>\n",
       "      <td>인천광역시 부평구 길주로 지하 379</td>\n",
       "    </tr>\n",
       "    <tr>\n",
       "      <th>11</th>\n",
       "      <td>석남</td>\n",
       "      <td>37.517328</td>\n",
       "      <td>126.677523</td>\n",
       "    </tr>\n",
       "  </tbody>\n",
       "</table>\n",
       "</div>"
      ],
      "text/plain": [
       "         역명                     위도                     경도\n",
       "0        장암              37.699974             127.052908\n",
       "1       까치울     경기도 부천시 길주로 지하 626     경기도 부천시 길주로 지하 626\n",
       "2   부천종합운동장     경기도 부천시 길주로 지하 502     경기도 부천시 길주로 지하 502\n",
       "3        춘의     경기도 부천시 길주로 지하 406     경기도 부천시 길주로 지하 406\n",
       "4       신중동     경기도 부천시 길주로 지하 314     경기도 부천시 길주로 지하 314\n",
       "5      부천시청     경기도 부천시 길주로 지하 202     경기도 부천시 길주로 지하 202\n",
       "6        상동     경기도 부천시 길주로 지하 104     경기도 부천시 길주로 지하 104\n",
       "7     삼산체육관   인천광역시 부평구 길주로 지하 713   인천광역시 부평구 길주로 지하 713\n",
       "8       굴포천   인천광역시 부평구 길주로 지하 623   인천광역시 부평구 길주로 지하 623\n",
       "9      부평구청   인천광역시 부평구 길주로 지하 527   인천광역시 부평구 길주로 지하 527\n",
       "10       산곡  인천광역시 부평구 길주로 지하 379   인천광역시 부평구 길주로 지하 379 \n",
       "11       석남              37.517328             126.677523"
      ]
     },
     "execution_count": 10,
     "metadata": {},
     "output_type": "execute_result"
    }
   ],
   "source": [
    "geo_local = Nominatim(user_agent='South Korea') # 지역선택\n",
    "\n",
    "def geocoding(address): \n",
    "    geo = geo_local.geocode(address)\n",
    "    x_y = [geo.latitude, geo.longitude]\n",
    "    return x_y\n",
    "\n",
    "latitude = []\n",
    "longitude = []\n",
    "exception_addr = []\n",
    "\n",
    "for i in address:\n",
    "    try:\n",
    "        latitude.append(geocoding(i)[0])\n",
    "        longitude.append(geocoding(i)[1])\n",
    "    except:\n",
    "        latitude.append(i)\n",
    "        longitude.append(i)\n",
    "        exception_addr.append(i)\n",
    "\n",
    "address_df = pd.DataFrame({'역명':chilho[1], '위도':latitude,'경도':longitude})\n",
    "address_df"
   ]
  },
  {
   "cell_type": "code",
   "execution_count": 11,
   "metadata": {},
   "outputs": [],
   "source": [
    "address_df.to_excel('data/chilho.xlsx')"
   ]
  },
  {
   "cell_type": "code",
   "execution_count": null,
   "metadata": {},
   "outputs": [],
   "source": []
  }
 ],
 "metadata": {
  "kernelspec": {
   "display_name": "Python 3.9.7 ('base')",
   "language": "python",
   "name": "python3"
  },
  "language_info": {
   "codemirror_mode": {
    "name": "ipython",
    "version": 3
   },
   "file_extension": ".py",
   "mimetype": "text/x-python",
   "name": "python",
   "nbconvert_exporter": "python",
   "pygments_lexer": "ipython3",
   "version": "3.9.7"
  },
  "orig_nbformat": 4,
  "vscode": {
   "interpreter": {
    "hash": "d1a22bee82113af30c67e10395777900c3f9ec76f1bd843ee7063aea4f4c959c"
   }
  }
 },
 "nbformat": 4,
 "nbformat_minor": 2
}
