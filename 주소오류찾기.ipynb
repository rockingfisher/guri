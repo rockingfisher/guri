{
 "cells": [
  {
   "cell_type": "code",
   "execution_count": 1,
   "metadata": {},
   "outputs": [],
   "source": [
    "import pandas as pd\n",
    "from haversine import haversine, Unit\n",
    "from geopy.geocoders import Nominatim"
   ]
  },
  {
   "cell_type": "code",
   "execution_count": 4,
   "metadata": {},
   "outputs": [
    {
     "data": {
      "text/plain": [
       "0      서울특별시 종로구 홍지문2길 1 . 상명사대부속초등학교 (홍지동.상명초등학교)\n",
       "1                         서울특별시 종로구 삼일대로 446 (경운동)\n",
       "2                서울특별시 종로구 대학로 64 (동숭동.서울사대부설초등학교)\n",
       "3               서울특별시 종로구 통일로12길 23 (무악동. 독립문초등학교)\n",
       "4              서울특별시 종로구 사직로9길 19 . 서울매동초등학교 (필운동)\n",
       "                          ...                     \n",
       "602                         서울특별시 강동구 명일로 23 (둔촌동)\n",
       "603              서울특별시 강동구 성안로 200 . 서울천동초등학교 (길동)\n",
       "604            서울특별시 강동구 구천면로 266 . 서울천일초등학교 (천호동)\n",
       "605           서울특별시 강동구 구천면로 310-11 (천호동.서울천호초등학교)\n",
       "606              서울특별시 강동구 풍성로 261 (서울한산초등학교. 둔촌동)\n",
       "Name: 주소, Length: 607, dtype: object"
      ]
     },
     "execution_count": 4,
     "metadata": {},
     "output_type": "execute_result"
    }
   ],
   "source": [
    "cdhk = pd.read_excel('data/20210401기준_학교일람표.xlsx', sheet_name=2)\n",
    "cdhk_add = cdhk['주소']\n",
    "cdhk_add.dropna(axis=0, inplace=True)\n",
    "cdhk_add.index = cdhk_add.index-3\n",
    "cdhk_add"
   ]
  },
  {
   "cell_type": "code",
   "execution_count": 6,
   "metadata": {},
   "outputs": [
    {
     "data": {
      "text/plain": [
       "0          서울특별시 종로구 홍지문2길 1\n",
       "1         서울특별시 종로구 삼일대로 446\n",
       "2           서울특별시 종로구 대학로 64\n",
       "3        서울특별시 종로구 통일로12길 23\n",
       "4         서울특별시 종로구 사직로9길 19\n",
       "               ...          \n",
       "602         서울특별시 강동구 명일로 23\n",
       "603        서울특별시 강동구 성안로 200\n",
       "604       서울특별시 강동구 구천면로 266\n",
       "605    서울특별시 강동구 구천면로 310-11\n",
       "606        서울특별시 강동구 풍성로 261\n",
       "Name: 주소, Length: 607, dtype: object"
      ]
     },
     "execution_count": 6,
     "metadata": {},
     "output_type": "execute_result"
    }
   ],
   "source": [
    "for i in range(len(cdhk_add)):\n",
    "    a = cdhk_add[i].split(' ')\n",
    "    cdhk_add[i] = \" \".join(a[0:4])\n",
    "\n",
    "cdhk_add"
   ]
  },
  {
   "cell_type": "code",
   "execution_count": 7,
   "metadata": {},
   "outputs": [],
   "source": [
    "geo_local = Nominatim(user_agent='South Korea') # 지역선택\n",
    "\n",
    "def geocoding(address): \n",
    "    geo = geo_local.geocode(address)\n",
    "    x_y = [geo.latitude, geo.longitude]\n",
    "    return x_y\n",
    "\n",
    "cdhk_latitude = []\n",
    "cdhk_longitude = []\n",
    "cdhk_exception_addr = []\n",
    "\n",
    "for i in cdhk_add:\n",
    "    try:\n",
    "        cdhk_latitude.append(geocoding(i)[0]) \n",
    "        cdhk_longitude.append(geocoding(i)[1])\n",
    "    except:\n",
    "        cdhk_exception_addr.append(i)"
   ]
  },
  {
   "cell_type": "markdown",
   "metadata": {},
   "source": [
    "초등학교 에러"
   ]
  },
  {
   "cell_type": "code",
   "execution_count": 8,
   "metadata": {},
   "outputs": [
    {
     "data": {
      "text/plain": [
       "['서울특별시 중구 매봉18길 109',\n",
       " '서울특별시 성동구 동호로5길 133',\n",
       " '서울특별시 중랑구 면목로30나길 38',\n",
       " '서울특별시 성북구 정릉로9라길 11',\n",
       " '서울특별시 노원구 동일로230나길 32',\n",
       " '서울특별시 마포구 대흥로24바길 27',\n",
       " '서울특별시 양천구 남부순환로83길 (신월동.',\n",
       " '서울특별시 영등포구 시흥대로173길 14',\n",
       " '서울특별시 영등포구 도영로 22길',\n",
       " '서울특별시 강동구 아리수로93다길 1']"
      ]
     },
     "execution_count": 8,
     "metadata": {},
     "output_type": "execute_result"
    }
   ],
   "source": [
    "cdhk_exception_addr"
   ]
  },
  {
   "cell_type": "code",
   "execution_count": 9,
   "metadata": {},
   "outputs": [
    {
     "data": {
      "text/plain": [
       "0          서울특별시 종로구 혜화로 74 (혜화동.경신중고등학교)\n",
       "1                   서울특별시 종로구 사직로 9 (행촌동)\n",
       "2                서울특별시 종로구 율곡로3길 49 (송현동)\n",
       "3      서울특별시 종로구 대학로 156 동성중학교 (혜화동 90-7)\n",
       "4             서울특별시 종로구 필운대로1길 34 배화여자중학교\n",
       "                      ...                \n",
       "384        서울특별시 강동구 고덕로 65 . 신암중학교 (암사동)\n",
       "385          서울특별시 강동구 천중로 57 .천일중학교(천호동)\n",
       "386               서울특별시 강동구 상암로 153 (천호동)\n",
       "387        서울특별시 강동구 풍성로 251 (둔촌동. 한산중학교)\n",
       "388         서울특별시 강동구 동남로 832 (상일동.한영중학교)\n",
       "Name: 주소, Length: 389, dtype: object"
      ]
     },
     "execution_count": 9,
     "metadata": {},
     "output_type": "execute_result"
    }
   ],
   "source": [
    "jhk = pd.read_excel('data/20210401기준_학교일람표.xlsx', sheet_name=3)\n",
    "jhk_add = jhk['주소']\n",
    "jhk_add.dropna(axis=0, inplace=True)\n",
    "jhk_add.index = jhk_add.index-3\n",
    "jhk_add"
   ]
  },
  {
   "cell_type": "code",
   "execution_count": 12,
   "metadata": {},
   "outputs": [
    {
     "data": {
      "text/plain": [
       "0         서울특별시 종로구 혜화로 74\n",
       "1          서울특별시 종로구 사직로 9\n",
       "2       서울특별시 종로구 율곡로3길 49\n",
       "3        서울특별시 종로구 대학로 156\n",
       "4      서울특별시 종로구 필운대로1길 34\n",
       "              ...         \n",
       "384       서울특별시 강동구 고덕로 65\n",
       "385       서울특별시 강동구 천중로 57\n",
       "386      서울특별시 강동구 상암로 153\n",
       "387      서울특별시 강동구 풍성로 251\n",
       "388      서울특별시 강동구 동남로 832\n",
       "Name: 주소, Length: 389, dtype: object"
      ]
     },
     "execution_count": 12,
     "metadata": {},
     "output_type": "execute_result"
    }
   ],
   "source": [
    "for i in range(len(jhk_add)):\n",
    "    a = jhk_add[i].split(' ')\n",
    "    jhk_add[i] = \" \".join(a[0:4])\n",
    "\n",
    "jhk_add"
   ]
  },
  {
   "cell_type": "code",
   "execution_count": 13,
   "metadata": {},
   "outputs": [],
   "source": [
    "jhk_latitude = []\n",
    "jhk_longitude = []\n",
    "jhk_exception_addr = []\n",
    "\n",
    "for i in jhk_add:\n",
    "    try:\n",
    "        jhk_latitude.append(geocoding(i)[0]) \n",
    "        jhk_longitude.append(geocoding(i)[1])\n",
    "    except:\n",
    "        jhk_exception_addr.append(i)"
   ]
  },
  {
   "cell_type": "markdown",
   "metadata": {},
   "source": [
    "중학교 에러"
   ]
  },
  {
   "cell_type": "code",
   "execution_count": 14,
   "metadata": {},
   "outputs": [
    {
     "data": {
      "text/plain": [
       "['서울특별시 중구 매봉18길 111',\n",
       " '서울 중구 마른내로9길 10',\n",
       " '서울특별시 중랑구 봉우재로 58길',\n",
       " '서울특별시 영등포구 시흥대로185길 6',\n",
       " '서울특별시 영등포구 선유서로13길 6',\n",
       " '서울특별시 영등포구 영등포로62길 31',\n",
       " '서울특별시 동작구 상도로13라길 22',\n",
       " '서울특별시 동작구 사당로2길 2-19',\n",
       " '서울특별시 서초구 서운로21길 2',\n",
       " '서울특별시 강동구 아리수로93다길 1']"
      ]
     },
     "execution_count": 14,
     "metadata": {},
     "output_type": "execute_result"
    }
   ],
   "source": [
    "jhk_exception_addr"
   ]
  },
  {
   "cell_type": "code",
   "execution_count": 15,
   "metadata": {},
   "outputs": [
    {
     "data": {
      "text/plain": [
       "0                        서울특별시 종로구 자하문로 136 (청운동)\n",
       "1      서울특별시 종로구 자하문로28가길 9 . 경복고등학교 (청운동.경복고등학교)\n",
       "2                  서울특별시 종로구 혜화로 74 (혜화동.경신중고등학교)\n",
       "3             서울특별시 종로구 계동길 84-10 . 대동세무고등학교 (계동)\n",
       "4                           서울특별시 종로구 사직로 9 (행촌동)\n",
       "                          ...                    \n",
       "315           서울특별시 강동구 동남로 964 . 서울컨벤션고등학교 (고덕동)\n",
       "316            서울특별시 강동구 고덕로25길 17 . 선사고등학교 (암사동)\n",
       "317              서울특별시 강동구 구천면로 396 (천호동. 성덕고등학교)\n",
       "318               서울특별시 강동구 동남로 832 (상일동. 한영고등학교)\n",
       "319                       서울특별시 강동구 동남로 832 (상일동)\n",
       "Name: 주소, Length: 320, dtype: object"
      ]
     },
     "execution_count": 15,
     "metadata": {},
     "output_type": "execute_result"
    }
   ],
   "source": [
    "kdhk = pd.read_excel('data/20210401기준_학교일람표.xlsx', sheet_name=4)\n",
    "kdhk_add = kdhk['주소']\n",
    "kdhk_add.dropna(axis=0, inplace=True)\n",
    "kdhk_add.index = kdhk_add.index-3\n",
    "kdhk_add"
   ]
  },
  {
   "cell_type": "code",
   "execution_count": 16,
   "metadata": {},
   "outputs": [
    {
     "data": {
      "text/plain": [
       "0        서울특별시 종로구 자하문로 136\n",
       "1      서울특별시 종로구 자하문로28가길 9\n",
       "2          서울특별시 종로구 혜화로 74\n",
       "3       서울특별시 종로구 계동길 84-10\n",
       "4           서울특별시 종로구 사직로 9\n",
       "               ...         \n",
       "315       서울특별시 강동구 동남로 964\n",
       "316     서울특별시 강동구 고덕로25길 17\n",
       "317      서울특별시 강동구 구천면로 396\n",
       "318       서울특별시 강동구 동남로 832\n",
       "319       서울특별시 강동구 동남로 832\n",
       "Name: 주소, Length: 320, dtype: object"
      ]
     },
     "execution_count": 16,
     "metadata": {},
     "output_type": "execute_result"
    }
   ],
   "source": [
    "for i in range(len(kdhk_add)):\n",
    "    a = kdhk_add[i].split(' ')\n",
    "    kdhk_add[i] = \" \".join(a[0:4])\n",
    "\n",
    "kdhk_add"
   ]
  },
  {
   "cell_type": "code",
   "execution_count": 17,
   "metadata": {},
   "outputs": [],
   "source": [
    "kdhk_latitude = []\n",
    "kdhk_longitude = []\n",
    "kdhk_exception_addr = []\n",
    "\n",
    "for i in kdhk_add:\n",
    "    try:\n",
    "        kdhk_latitude.append(geocoding(i)[0]) \n",
    "        kdhk_longitude.append(geocoding(i)[1])\n",
    "    except:\n",
    "        kdhk_exception_addr.append(i)"
   ]
  },
  {
   "cell_type": "markdown",
   "metadata": {},
   "source": [
    "고등학교 에러"
   ]
  },
  {
   "cell_type": "code",
   "execution_count": 18,
   "metadata": {},
   "outputs": [
    {
     "data": {
      "text/plain": [
       "['서울특별시 중구 매봉18길 111',\n",
       " '서울특별시 성동구 동호로5길 131',\n",
       " '서울특별시 양천구 신정로13길 16',\n",
       " '서울특별시 영등포구 영등포로62길 13',\n",
       " '서울특별시 서초구 반포대로27길 29']"
      ]
     },
     "execution_count": 18,
     "metadata": {},
     "output_type": "execute_result"
    }
   ],
   "source": [
    "kdhk_exception_addr"
   ]
  },
  {
   "cell_type": "code",
   "execution_count": 20,
   "metadata": {},
   "outputs": [],
   "source": [
    "cdhk_add_df = pd.DataFrame({'위도':cdhk_latitude,'경도':cdhk_longitude})\n",
    "jhk_add_df = pd.DataFrame({'위도':jhk_latitude,'경도':jhk_longitude})\n",
    "kdhk_add_df = pd.DataFrame({'위도':kdhk_latitude,'경도':kdhk_longitude})\n",
    "\n",
    "cdhk_add_df.to_csv('data/cdhk.csv', encoding='cp949')\n",
    "jhk_add_df.to_csv('data/jhk.csv', encoding='cp949')\n",
    "kdhk_add_df.to_csv('data/kdhk.csv', encoding='cp949')"
   ]
  },
  {
   "cell_type": "code",
   "execution_count": 22,
   "metadata": {},
   "outputs": [
    {
     "data": {
      "text/plain": [
       "0                            서울특별시 종로구 삼일대로 454 (경운동)\n",
       "1                   서울특별시 종로구 필운대로 103 (신교동. 국립서울농학교)\n",
       "2                             서울특별시 종로구 필운대로 97 (신교동)\n",
       "3                  서울특별시 종로구 사직로7길 17 . 수도사랑의학교 (사직동)\n",
       "4                     서울특별시 광진구 강변역로 18 (구의동. 서울광진학교)\n",
       "5                서울특별시 성북구 성북로31길 5-15 . 서울다원학교 (성북동)\n",
       "6                  서울특별시 강북구 솔매로52길 31 . 서울애화학교 (미아동)\n",
       "7                서울특별시 강북구 인수봉로 119-20 . 서울정인학교 (수유동)\n",
       "8                           서울특별시 강북구 삼양로63길 33 (미아동)\n",
       "9                          서울특별시 강북구 삼양로73가길 47 (수유동)\n",
       "10                    서울특별시 도봉구 평화로15번길 9-25 . 서울도솔학교\n",
       "11                 서울특별시 노원구 노원로18길 41 . 서울동천학교 (하계동)\n",
       "12                  서울특별시 노원구 공릉로58길 24 (하계동. 서울정민학교)\n",
       "13    서울특별시 은평구 갈현로11길 30 은평대영학교 (구산동. 사회복지법인 엔젤스헤이븐)\n",
       "14                서울특별시 서대문구 연세로 50 . 연세대학교재활학교 (신촌동)\n",
       "15                서울특별시 마포구 월드컵북로38길 21 . 한국우진학교 (중동)\n",
       "16                  서울특별시 강서구 까치산로22길 38 . 교남학교 (화곡동)\n",
       "17                          서울특별시 강서구 양천로55길 22 (가양동)\n",
       "18                   서울특별시 구로구 부일로9길 158 (궁동. 서울정진학교)\n",
       "19                    서울특별시 구로구 연동로 320 . 성베드로학교 (항동)\n",
       "20                      서울특별시 동작구 상도로 53 . 누리학교 (대방동)\n",
       "21                서울특별시 동작구 양녕로30길 19-4 (상도동. 서울삼성학교)\n",
       "22          서울특별시 관악구 보라매로 44 . SRC외래센터 4층 새롬학교 (봉천동)\n",
       "23                            서울특별시 관악구 난향3길 31 (신림동)\n",
       "24                서울특별시 서초구 헌릉로468길 21-16 (내곡동.다니엘학교)\n",
       "25          서울특별시 서초구 염곡안1길 25 . 서울나래학교 (염곡동. 언남초등학교)\n",
       "26                        서울특별시 강남구 일원로90 (일원동. 밀알학교)\n",
       "27                서울특별시 강남구 봉은사로81길 16 . 서울정애학교 (삼성동)\n",
       "28            서울특별시 송파구 올림픽로 625 . 광성하늘빛학교 (풍납동.광성교회)\n",
       "29                           서울특별시 송파구 충민로6길 15 (장지동)\n",
       "30                     서울특별시 강동구 상암로 369 . 주몽학교 (상일동)\n",
       "31                서울특별시 강동구 고덕로 295-59 . 한국구화학교 (고덕동)\n",
       "Name: 주소, dtype: object"
      ]
     },
     "execution_count": 22,
     "metadata": {},
     "output_type": "execute_result"
    }
   ],
   "source": [
    "tshk = pd.read_excel('data/20210401기준_학교일람표.xlsx', sheet_name=5)\n",
    "tshk_add = tshk['주소']\n",
    "tshk_add.dropna(axis=0, inplace=True)\n",
    "tshk_add.index = tshk_add.index-4\n",
    "tshk_add"
   ]
  },
  {
   "cell_type": "code",
   "execution_count": 23,
   "metadata": {},
   "outputs": [
    {
     "data": {
      "text/plain": [
       "0          서울특별시 종로구 삼일대로 454\n",
       "1          서울특별시 종로구 필운대로 103\n",
       "2           서울특별시 종로구 필운대로 97\n",
       "3          서울특별시 종로구 사직로7길 17\n",
       "4           서울특별시 광진구 강변역로 18\n",
       "5       서울특별시 성북구 성북로31길 5-15\n",
       "6         서울특별시 강북구 솔매로52길 31\n",
       "7       서울특별시 강북구 인수봉로 119-20\n",
       "8         서울특별시 강북구 삼양로63길 33\n",
       "9        서울특별시 강북구 삼양로73가길 47\n",
       "10     서울특별시 도봉구 평화로15번길 9-25\n",
       "11        서울특별시 노원구 노원로18길 41\n",
       "12        서울특별시 노원구 공릉로58길 24\n",
       "13        서울특별시 은평구 갈현로11길 30\n",
       "14          서울특별시 서대문구 연세로 50\n",
       "15      서울특별시 마포구 월드컵북로38길 21\n",
       "16       서울특별시 강서구 까치산로22길 38\n",
       "17        서울특별시 강서구 양천로55길 22\n",
       "18        서울특별시 구로구 부일로9길 158\n",
       "19          서울특별시 구로구 연동로 320\n",
       "20           서울특별시 동작구 상도로 53\n",
       "21      서울특별시 동작구 양녕로30길 19-4\n",
       "22          서울특별시 관악구 보라매로 44\n",
       "23          서울특별시 관악구 난향3길 31\n",
       "24    서울특별시 서초구 헌릉로468길 21-16\n",
       "25         서울특별시 서초구 염곡안1길 25\n",
       "26      서울특별시 강남구 일원로90 (일원동.\n",
       "27       서울특별시 강남구 봉은사로81길 16\n",
       "28         서울특별시 송파구 올림픽로 625\n",
       "29         서울특별시 송파구 충민로6길 15\n",
       "30          서울특별시 강동구 상암로 369\n",
       "31       서울특별시 강동구 고덕로 295-59\n",
       "Name: 주소, dtype: object"
      ]
     },
     "execution_count": 23,
     "metadata": {},
     "output_type": "execute_result"
    }
   ],
   "source": [
    "for i in range(len(tshk_add)):\n",
    "    a = tshk_add[i].split(' ')\n",
    "    tshk_add[i] = \" \".join(a[0:4])\n",
    "\n",
    "tshk_add"
   ]
  },
  {
   "cell_type": "code",
   "execution_count": 24,
   "metadata": {},
   "outputs": [],
   "source": [
    "tshk_latitude = []\n",
    "tshk_longitude = []\n",
    "tshk_exception_addr = []\n",
    "\n",
    "for i in tshk_add:\n",
    "    try:\n",
    "        tshk_latitude.append(geocoding(i)[0]) \n",
    "        tshk_longitude.append(geocoding(i)[1])\n",
    "    except:\n",
    "        tshk_exception_addr.append(i)"
   ]
  },
  {
   "cell_type": "markdown",
   "metadata": {},
   "source": [
    "특수학교 에러"
   ]
  },
  {
   "cell_type": "code",
   "execution_count": 25,
   "metadata": {},
   "outputs": [
    {
     "data": {
      "text/plain": [
       "['서울특별시 강남구 일원로90 (일원동.']"
      ]
     },
     "execution_count": 25,
     "metadata": {},
     "output_type": "execute_result"
    }
   ],
   "source": [
    "tshk_exception_addr"
   ]
  },
  {
   "cell_type": "code",
   "execution_count": 39,
   "metadata": {},
   "outputs": [],
   "source": [
    "tshk_add_df = pd.DataFrame({'위도':tshk_latitude,'경도':tshk_longitude})\n",
    "\n",
    "tshk_add_df.to_csv('data/tshk.csv', encoding='cp949')"
   ]
  },
  {
   "cell_type": "code",
   "execution_count": 28,
   "metadata": {},
   "outputs": [
    {
     "data": {
      "text/plain": [
       "0                             서울특별시 종로구 종로58길 30 (숭인동)\n",
       "1                             서울특별시 종로구 종로58길 30 (숭인동)\n",
       "2                   서울특별시 종로구 종로58길 28 (숭인동. 종로산업정보학교)\n",
       "3                  서울특별시 중구 퇴계로88가길 8 (신당동.서울실용음악고등학교)\n",
       "4                       서울특별시 중구 소파로 99 . 여명학교 (남산동2가)\n",
       "5     서울특별시 은평구 가좌로 208 . 은평문화예술정보학교 (응암동. 은평문화예술정보학교)\n",
       "6           서울특별시 마포구 마포대로 249 (아현동. 아현산업정보학교. 아현직업학교)\n",
       "7            서울특별시 금천구 남부순환로126길 25 . 금천문화예술정보학교 (독산동)\n",
       "8                    서울특별시 관악구 신림로 67 . 서울산업정보학교 (신림동)\n",
       "9                         서울특별시 서초구 남부순환로347길 69 (서초동)\n",
       "10                                서울특별시 중구 정동길 25 (정동)\n",
       "11                 서울특별시 광진구 천호대로 664 . 선화예술중고등학교 (능동)\n",
       "12                   서울특별시 노원구 화랑로 815 . 한국삼육중학교 (공릉동)\n",
       "13                          서울특별시 금천구 시흥대로38길 62 (시흥동)\n",
       "14               서울특별시 강남구 개포로22길 65 . 국립국악중고등학교 (개포동)\n",
       "15                            서울특별시 구로구 오리로 1189 (오류동)\n",
       "Name: 주소, dtype: object"
      ]
     },
     "execution_count": 28,
     "metadata": {},
     "output_type": "execute_result"
    }
   ],
   "source": [
    "kjhk = pd.read_excel('data/20210401기준_학교일람표.xlsx', sheet_name=6)\n",
    "kjhk_add = kjhk['주소']\n",
    "kjhk_add.dropna(axis=0, inplace=True)\n",
    "kjhk_add.index = kjhk_add.index-3\n",
    "kjhk_add"
   ]
  },
  {
   "cell_type": "code",
   "execution_count": 29,
   "metadata": {},
   "outputs": [
    {
     "data": {
      "text/plain": [
       "0         서울특별시 종로구 종로58길 30\n",
       "1         서울특별시 종로구 종로58길 30\n",
       "2         서울특별시 종로구 종로58길 28\n",
       "3         서울특별시 중구 퇴계로88가길 8\n",
       "4            서울특별시 중구 소파로 99\n",
       "5          서울특별시 은평구 가좌로 208\n",
       "6         서울특별시 마포구 마포대로 249\n",
       "7     서울특별시 금천구 남부순환로126길 25\n",
       "8           서울특별시 관악구 신림로 67\n",
       "9     서울특별시 서초구 남부순환로347길 69\n",
       "10           서울특별시 중구 정동길 25\n",
       "11        서울특별시 광진구 천호대로 664\n",
       "12         서울특별시 노원구 화랑로 815\n",
       "13      서울특별시 금천구 시흥대로38길 62\n",
       "14       서울특별시 강남구 개포로22길 65\n",
       "15        서울특별시 구로구 오리로 1189\n",
       "Name: 주소, dtype: object"
      ]
     },
     "execution_count": 29,
     "metadata": {},
     "output_type": "execute_result"
    }
   ],
   "source": [
    "for i in range(len(kjhk_add)):\n",
    "    a = kjhk_add[i].split(' ')\n",
    "    kjhk_add[i] = \" \".join(a[0:4])\n",
    "\n",
    "kjhk_add"
   ]
  },
  {
   "cell_type": "code",
   "execution_count": 30,
   "metadata": {},
   "outputs": [],
   "source": [
    "kjhk_latitude = []\n",
    "kjhk_longitude = []\n",
    "kjhk_exception_addr = []\n",
    "\n",
    "for i in kjhk_add:\n",
    "    try:\n",
    "        kjhk_latitude.append(geocoding(i)[0]) \n",
    "        kjhk_longitude.append(geocoding(i)[1])\n",
    "    except:\n",
    "        kjhk_exception_addr.append(i)"
   ]
  },
  {
   "cell_type": "markdown",
   "metadata": {},
   "source": [
    "각종학교 에러"
   ]
  },
  {
   "cell_type": "code",
   "execution_count": 32,
   "metadata": {},
   "outputs": [
    {
     "data": {
      "text/plain": [
       "[]"
      ]
     },
     "execution_count": 32,
     "metadata": {},
     "output_type": "execute_result"
    }
   ],
   "source": [
    "kjhk_exception_addr"
   ]
  },
  {
   "cell_type": "code",
   "execution_count": 40,
   "metadata": {},
   "outputs": [],
   "source": [
    "kjhk_add_df = pd.DataFrame({'위도':kjhk_latitude,'경도':kjhk_longitude})\n",
    "\n",
    "kjhk_add_df.to_csv('data/kjhk.csv', encoding='cp949')"
   ]
  },
  {
   "cell_type": "code",
   "execution_count": 35,
   "metadata": {},
   "outputs": [
    {
     "data": {
      "text/plain": [
       "0    서울특별시 노원구 중계로 244 (중계동.청암고등기술학교)\n",
       "1        서울특별시 영등포구 여의대방로61길 42 (신길동)\n",
       "Name: 주소, dtype: object"
      ]
     },
     "execution_count": 35,
     "metadata": {},
     "output_type": "execute_result"
    }
   ],
   "source": [
    "kshk = pd.read_excel('data/20210401기준_학교일람표.xlsx', sheet_name=7)\n",
    "kshk_add = kshk['주소']\n",
    "kshk_add.dropna(axis=0, inplace=True)\n",
    "kshk_add.index = kshk_add.index-2\n",
    "kshk_add"
   ]
  },
  {
   "cell_type": "code",
   "execution_count": 36,
   "metadata": {},
   "outputs": [
    {
     "data": {
      "text/plain": [
       "0         서울특별시 노원구 중계로 244\n",
       "1    서울특별시 영등포구 여의대방로61길 42\n",
       "Name: 주소, dtype: object"
      ]
     },
     "execution_count": 36,
     "metadata": {},
     "output_type": "execute_result"
    }
   ],
   "source": [
    "for i in range(len(kshk_add)):\n",
    "    a = kshk_add[i].split(' ')\n",
    "    kshk_add[i] = \" \".join(a[0:4])\n",
    "\n",
    "kshk_add"
   ]
  },
  {
   "cell_type": "code",
   "execution_count": 37,
   "metadata": {},
   "outputs": [],
   "source": [
    "kshk_latitude = []\n",
    "kshk_longitude = []\n",
    "kshk_exception_addr = []\n",
    "\n",
    "for i in kshk_add:\n",
    "    try:\n",
    "        kshk_latitude.append(geocoding(i)[0]) \n",
    "        kshk_longitude.append(geocoding(i)[1])\n",
    "    except:\n",
    "        kshk_exception_addr.append(i)"
   ]
  },
  {
   "cell_type": "markdown",
   "metadata": {},
   "source": [
    "기술학교 에러"
   ]
  },
  {
   "cell_type": "code",
   "execution_count": 38,
   "metadata": {},
   "outputs": [
    {
     "data": {
      "text/plain": [
       "[]"
      ]
     },
     "execution_count": 38,
     "metadata": {},
     "output_type": "execute_result"
    }
   ],
   "source": [
    "kshk_exception_addr"
   ]
  },
  {
   "cell_type": "code",
   "execution_count": 41,
   "metadata": {},
   "outputs": [],
   "source": [
    "kshk_add_df = pd.DataFrame({'위도':kshk_latitude,'경도':kshk_longitude})\n",
    "\n",
    "kshk_add_df.to_csv('data/kshk.csv', encoding='cp949')"
   ]
  },
  {
   "cell_type": "code",
   "execution_count": null,
   "metadata": {},
   "outputs": [],
   "source": []
  }
 ],
 "metadata": {
  "kernelspec": {
   "display_name": "Python 3.9.7 ('base')",
   "language": "python",
   "name": "python3"
  },
  "language_info": {
   "codemirror_mode": {
    "name": "ipython",
    "version": 3
   },
   "file_extension": ".py",
   "mimetype": "text/x-python",
   "name": "python",
   "nbconvert_exporter": "python",
   "pygments_lexer": "ipython3",
   "version": "3.9.7"
  },
  "orig_nbformat": 4,
  "vscode": {
   "interpreter": {
    "hash": "d1a22bee82113af30c67e10395777900c3f9ec76f1bd843ee7063aea4f4c959c"
   }
  }
 },
 "nbformat": 4,
 "nbformat_minor": 2
}
