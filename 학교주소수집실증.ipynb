{
 "cells": [
  {
   "cell_type": "code",
   "execution_count": 2,
   "metadata": {},
   "outputs": [],
   "source": [
    "import pandas as pd"
   ]
  },
  {
   "cell_type": "code",
   "execution_count": 3,
   "metadata": {},
   "outputs": [
    {
     "data": {
      "text/plain": [
       "0      서울특별시 종로구 통일로12길 51 . 린덴바움유치원 (무악동)\n",
       "1                서울특별시 종로구 필운대로1길 34 (필운동)\n",
       "2                 서울특별시 종로구 율곡로 264 (종로6가)\n",
       "3                  서울특별시 종로구 홍지문2길 1 (홍지동)\n",
       "4        서울특별시 종로구 낙산길 250 (창신동. 서울명신초등학교)\n",
       "                      ...                 \n",
       "782     서울특별시 강동구 성내로3가길 61 (성내동.성내동삼성아파트)\n",
       "783     서울특별시 강동구 구천면로 236-1 . 천호유치원 (천호동)\n",
       "784          서울특별시 강동구 명일로 251 (길동. 한성유치원)\n",
       "785       서울특별시 강동구 동남로 832 (상일동.한영중 고등학교)\n",
       "786     서울특별시 강동구 천중로35길 37-1 (천호동. 화랑유치원)\n",
       "Name: 주소, Length: 787, dtype: object"
      ]
     },
     "execution_count": 3,
     "metadata": {},
     "output_type": "execute_result"
    }
   ],
   "source": [
    "ucw = pd.read_excel('data/20210401기준_학교일람표.xlsx', sheet_name=1)\n",
    "address = ucw['주소']\n",
    "address.dropna(axis=0, inplace=True)\n",
    "address.index = address.index-2\n",
    "address"
   ]
  },
  {
   "cell_type": "code",
   "execution_count": 4,
   "metadata": {},
   "outputs": [],
   "source": [
    "for i in range(len(address)):\n",
    "    a = address[i].split(' ')\n",
    "    address[i] = \" \".join(a[0:4])"
   ]
  },
  {
   "cell_type": "code",
   "execution_count": 5,
   "metadata": {},
   "outputs": [
    {
     "data": {
      "text/plain": [
       "0        서울특별시 종로구 통일로12길 51\n",
       "1        서울특별시 종로구 필운대로1길 34\n",
       "2          서울특별시 종로구 율곡로 264\n",
       "3          서울특별시 종로구 홍지문2길 1\n",
       "4          서울특별시 종로구 낙산길 250\n",
       "               ...          \n",
       "782      서울특별시 강동구 성내로3가길 61\n",
       "783     서울특별시 강동구 구천면로 236-1\n",
       "784        서울특별시 강동구 명일로 251\n",
       "785        서울특별시 강동구 동남로 832\n",
       "786    서울특별시 강동구 천중로35길 37-1\n",
       "Name: 주소, Length: 787, dtype: object"
      ]
     },
     "execution_count": 5,
     "metadata": {},
     "output_type": "execute_result"
    }
   ],
   "source": [
    "address"
   ]
  },
  {
   "cell_type": "markdown",
   "metadata": {},
   "source": [
    "각 학교의 주소를 가져올 수 있음"
   ]
  },
  {
   "cell_type": "code",
   "execution_count": 6,
   "metadata": {},
   "outputs": [],
   "source": [
    "from haversine import haversine, Unit\n",
    "from geopy.geocoders import Nominatim"
   ]
  },
  {
   "cell_type": "code",
   "execution_count": 7,
   "metadata": {},
   "outputs": [],
   "source": [
    "geo_local = Nominatim(user_agent='South Korea') # 지역선택\n",
    "\n",
    "def geocoding(address): \n",
    "    geo = geo_local.geocode(address)\n",
    "    x_y = [geo.latitude, geo.longitude]\n",
    "    return x_y\n",
    "\n",
    "latitude = []\n",
    "longitude = []\n",
    "exception_addr = []\n",
    "\n",
    "for i in address:\n",
    "    try:\n",
    "        latitude.append(geocoding(i)[0]) \n",
    "        longitude.append(geocoding(i)[1])\n",
    "    except:\n",
    "        exception_addr.append(i)"
   ]
  },
  {
   "cell_type": "code",
   "execution_count": 9,
   "metadata": {},
   "outputs": [
    {
     "data": {
      "text/plain": [
       "['서울특별시 성동구 용답21길 1',\n",
       " '서울특별시 광진구 광장로7길 17',\n",
       " '서울특별시 광진구 아차산로41길 22-5',\n",
       " '서울특별시 성북구 길음로13길 29(본원).',\n",
       " '서울특별시 성북구 정릉로9라길 11',\n",
       " '서울특별시 성북구 보문로 34다길',\n",
       " '서울특별시 서대문구 세검정로1길95 (벽산아파트단지내)',\n",
       " '서울특별시 마포구 대흥로24바길 27',\n",
       " '서울특별시 양천구 중앙로 52길',\n",
       " '서울특별시 강서구 화곡로 66길',\n",
       " '서울특별시 강서구 공항대로 58가길',\n",
       " '서울특별시 구로구 고척로30 (오류동.',\n",
       " '서울특별시 영등포구 시흥대로173길 14',\n",
       " '서울특별시 동작구 사당로23길 57-14서울남성초등학교',\n",
       " '서울특별시 관악구 봉천로 33길',\n",
       " '서울특별시 강남구 남부순환로 363길',\n",
       " '서울특별시 강남구 헌릉로 618길14',\n",
       " '서울특별시 강동구 구천면로645 .',\n",
       " '서울특별시 강동구 아리수로93다길 1']"
      ]
     },
     "execution_count": 9,
     "metadata": {},
     "output_type": "execute_result"
    }
   ],
   "source": [
    "exception_addr # 제대로 안잘린게 꽤 있음, 데이터 자체가 이상함, 내잘못 아님 교육청 잘못"
   ]
  },
  {
   "cell_type": "code",
   "execution_count": 11,
   "metadata": {},
   "outputs": [],
   "source": [
    "address_df = pd.DataFrame({'위도':latitude,'경도':longitude})\n",
    "address_df.to_csv('data/ucw.csv', encoding='cp949')"
   ]
  },
  {
   "cell_type": "markdown",
   "metadata": {},
   "source": [
    "위경도 잡아낼 수 있음. 너무 오래걸리고 날아가는 값도 많아짐"
   ]
  }
 ],
 "metadata": {
  "kernelspec": {
   "display_name": "Python 3.9.7 ('base')",
   "language": "python",
   "name": "python3"
  },
  "language_info": {
   "codemirror_mode": {
    "name": "ipython",
    "version": 3
   },
   "file_extension": ".py",
   "mimetype": "text/x-python",
   "name": "python",
   "nbconvert_exporter": "python",
   "pygments_lexer": "ipython3",
   "version": "3.9.7"
  },
  "orig_nbformat": 4,
  "vscode": {
   "interpreter": {
    "hash": "d1a22bee82113af30c67e10395777900c3f9ec76f1bd843ee7063aea4f4c959c"
   }
  }
 },
 "nbformat": 4,
 "nbformat_minor": 2
}
